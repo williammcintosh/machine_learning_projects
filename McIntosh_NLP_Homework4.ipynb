{
  "nbformat": 4,
  "nbformat_minor": 0,
  "metadata": {
    "colab": {
      "provenance": [],
      "authorship_tag": "ABX9TyP+i6CltA6ZvmsrJfNmXEx+",
      "include_colab_link": true
    },
    "kernelspec": {
      "name": "python3",
      "display_name": "Python 3"
    },
    "language_info": {
      "name": "python"
    }
  },
  "cells": [
    {
      "cell_type": "markdown",
      "metadata": {
        "id": "view-in-github",
        "colab_type": "text"
      },
      "source": [
        "<a href=\"https://colab.research.google.com/github/williammcintosh/machine_learning_projects/blob/main/McIntosh_NLP_Homework4.ipynb\" target=\"_parent\"><img src=\"https://colab.research.google.com/assets/colab-badge.svg\" alt=\"Open In Colab\"/></a>"
      ]
    },
    {
      "cell_type": "markdown",
      "source": [
        "# NLP Assignment 4\n",
        "\n",
        "## Author\n",
        "\n",
        "Will McIntosh"
      ],
      "metadata": {
        "id": "CJM1vqUpSjvQ"
      }
    },
    {
      "cell_type": "markdown",
      "source": [
        "# Goal\n",
        "\n",
        "The primary purpose of this notebook is to preprocess the [Tweet Sentiment Multilingual dataset](https://huggingface.co/datasets/cardiffnlp/tweet_sentiment_multilingual) from HuggingFace so that it can be entered into two different LLM's: ChatGPT4 and HuggingChat to see how to properly descritize sentiment in mulitple langages."
      ],
      "metadata": {
        "id": "2c0NDBC3Sm6j"
      }
    },
    {
      "cell_type": "markdown",
      "source": [
        "# Imports"
      ],
      "metadata": {
        "id": "lkZixZq9foaE"
      }
    },
    {
      "cell_type": "markdown",
      "source": [
        "## Libraries"
      ],
      "metadata": {
        "id": "jA2xEuy5J7WF"
      }
    },
    {
      "cell_type": "code",
      "source": [
        "%%capture\n",
        "import pandas as pd\n",
        "import os\n",
        "from sklearn.metrics import classification_report\n",
        "import seaborn as sns\n",
        "import matplotlib.pyplot as plt\n",
        "from sklearn.metrics import f1_score\n",
        "\n",
        "# Downloads prompt responses from my Google Drive\n",
        "!pip install --upgrade --no-cache-dir gdown\n",
        "!gdown 1sSQLMVzW_3vE6uSPwwYNDdLMzCFySIb2 # gpt prompt3\n",
        "!gdown 1ykT1t83mB1OMFzitnUEE1roxuKfLgZHA # gpt prompt4\n",
        "!gdown 1N0dxRk0iPt4imBMocvPUu_ownkifln5s # gpt prompt5\n",
        "!gdown 1BOFUygT5k7d8LIhdAysTUgCrIYkfaMyD # gpt prompt6\n",
        "!gdown 1E-S9u9HxRvPTGBlFk05IZpepgeUPVCTK # gpt prompt7\n",
        "!gdown 1KYC4J80uvOgIia9WqnsnI_wezbpkik7S # hug prompt5\n",
        "!gdown 10ilTZRn62Y8LxAcf3m_aSSExB2pqSnTy # hug prompt6\n",
        "!gdown 19IGSjh1n8lnbZc2glNKpdhVU_MSj3lVA # hug prompt7\n",
        "gpt_prompt3_df = pd.read_json(\"/content/gpt_prompt3.json\")\n",
        "gpt_prompt4_df = pd.read_json(\"/content/gpt_prompt4.json\")\n",
        "gpt_prompt5_df = pd.read_json(\"/content/gpt_prompt5.json\")\n",
        "gpt_prompt6_df = pd.read_json(\"/content/gpt_prompt6.json\")\n",
        "gpt_prompt7_df = pd.read_json(\"/content/gpt_prompt7.json\")\n",
        "hug_prompt5_df = pd.read_json(\"/content/hug_prompt5.json\")\n",
        "hug_prompt6_df = pd.read_json(\"/content/hug_prompt6.json\")\n",
        "hug_prompt7_df = pd.read_json(\"/content/hug_prompt7.json\")\n",
        "\n",
        "# downloads sampled dataset\n",
        "!gdown 1A1LI8ePUsJL9u8vGf9Yzq0axw43i5g1l\n",
        "sampled_tweets_df = pd.read_csv(\"/content/sampled_tweets_df.csv\")\n",
        "\n",
        "responses_contingent = {\n",
        "    \"gpt prompt 3\": gpt_prompt3_df,\n",
        "    \"gpt prompt 4\": gpt_prompt4_df,\n",
        "    \"gpt prompt 5\": gpt_prompt5_df,\n",
        "    \"hug prompt 5\": hug_prompt5_df\n",
        "}\n",
        "responses_randomized = {\n",
        "    \"gpt prompt 6\": gpt_prompt6_df,\n",
        "    \"gpt prompt 7\": gpt_prompt7_df,\n",
        "    \"hug prompt 6\": hug_prompt6_df,\n",
        "    \"hug prompt 7\": hug_prompt7_df\n",
        "}\n",
        "\n",
        "# List of languages\n",
        "languages = [\"arabic\", \"english\", \"french\", \"german\", \"hindi\", \"italian\", \"portuguese\", \"spanish\"]"
      ],
      "metadata": {
        "id": "jhdAefnDfp5D"
      },
      "execution_count": 1,
      "outputs": []
    },
    {
      "cell_type": "code",
      "source": [
        "def plot_correct_list(labels, predictions):\n",
        "    colors = ['green' if labels[i] == predictions[i] else 'red' for i in range(len(labels))]\n",
        "    plt.figure(figsize=(10, 1))\n",
        "    plt.scatter(range(len(colors)), [0]*len(colors), color=colors, marker='o')\n",
        "    plt.title(\"Prediction Correctness\")\n",
        "    plt.xlabel(\"Index\")\n",
        "    plt.yticks([])  # Removing Y axis ticks\n",
        "    plt.ylim(-0.5, 0.5)  # Minimal Y axis limits for visualization\n",
        "    plt.grid(False)  # Removing the grid for clarity\n",
        "\n",
        "    plt.show()"
      ],
      "metadata": {
        "id": "1qrlap-468bh"
      },
      "execution_count": 2,
      "outputs": []
    },
    {
      "cell_type": "code",
      "source": [
        "def get_contingent_f1_results_df(models, languages):\n",
        "    results_df = pd.DataFrame(index=models.keys(), columns=languages)\n",
        "    for model_name, model_df in models.items():\n",
        "        for language in languages:\n",
        "            true_labels = tweets_dict[language]['label'].iloc[0:50]\n",
        "            predicted_labels = model_df[language].iloc[0:50]\n",
        "            f1 = f1_score(true_labels, predicted_labels)\n",
        "            results_df.at[model_name, language] = f1\n",
        "    return results_df\n",
        "\n",
        "def get_randomized_f1_results_df(models, languages):\n",
        "    results_df = pd.DataFrame(index=models.keys(), columns=languages)\n",
        "    for model_name, model_df in models.items():\n",
        "        for language in languages:\n",
        "            true_labels = sampled_tweets_df[sampled_tweets_df['language'] == language]['label'].iloc[0:50]\n",
        "            predicted_labels = model_df[language].iloc[0:50]\n",
        "            f1 = f1_score(true_labels, predicted_labels)\n",
        "            results_df.at[model_name, language] = f1\n",
        "    return results_df"
      ],
      "metadata": {
        "id": "3WQK05kZOHTe"
      },
      "execution_count": 3,
      "outputs": []
    },
    {
      "cell_type": "code",
      "source": [
        "def results_heatmap(results_df, dataset_type):\n",
        "    results_df = results_df.astype(float)\n",
        "    plt.figure(figsize=(10, 4))  # Adjust the size as needed\n",
        "    ax = sns.heatmap(results_df, annot=True, cmap='viridis', fmt=\".2f\")\n",
        "    plt.title(f'{dataset_type} F1 Scores for Sentiment Analysis across Languages')\n",
        "    plt.xlabel('Languages')\n",
        "    plt.ylabel('Models')\n",
        "    ax.set_yticklabels(ax.get_yticklabels(), rotation=0)\n",
        "    ax.set_xticklabels(ax.get_xticklabels(), rotation=45)\n",
        "    plt.show()"
      ],
      "metadata": {
        "id": "DRIfFV4YOjBs"
      },
      "execution_count": 4,
      "outputs": []
    },
    {
      "cell_type": "code",
      "execution_count": 5,
      "metadata": {
        "id": "IpbCLpDjPcO2"
      },
      "outputs": [],
      "source": [
        "def download_and_read_data(language):\n",
        "    url = f\"https://huggingface.co/datasets/cardiffnlp/tweet_sentiment_multilingual/resolve/main/data/{language}/test.jsonl?download=true\"\n",
        "    filename = f\"{language}_test.jsonl\"\n",
        "    os.system(f\"wget '{url}' -O {filename}\")\n",
        "    df = pd.read_json(filename, lines=True)\n",
        "    df_filtered = df[df['label'].isin([0, 2])].copy()\n",
        "    df_filtered.loc[:, 'label'] = df_filtered['label'].map({0: 0, 2: 1})\n",
        "    df_filtered.reset_index(drop=True, inplace=True)\n",
        "    return df_filtered\n",
        "\n",
        "\n",
        "\n",
        "# Dictionary to hold the dataframes\n",
        "tweets_dict = {}\n",
        "\n",
        "# Download and read data for each language\n",
        "for language in languages:\n",
        "    tweets_dict[language] = download_and_read_data(language)"
      ]
    },
    {
      "cell_type": "code",
      "source": [
        "tweets_dict['hindi'].head()"
      ],
      "metadata": {
        "colab": {
          "base_uri": "https://localhost:8080/",
          "height": 206
        },
        "id": "_l6SJDy7FFP0",
        "outputId": "90574f36-da0d-4736-fcb7-c85079cbac83"
      },
      "execution_count": 23,
      "outputs": [
        {
          "output_type": "execute_result",
          "data": {
            "text/plain": [
              "                                                text  label\n",
              "0  CONGRESS na ye party kabhi bani hoti na india ...      0\n",
              "1  ha ha ha ha ha ha ha .  .  .  .  . :d ye mast ...      1\n",
              "2  kejariwal tum apana soch ka dayra badho ab is ...      0\n",
              "3                                           jai hind      1\n",
              "4  result me konsa bc univrsty tope mari ... jo i...      0"
            ],
            "text/html": [
              "\n",
              "  <div id=\"df-7fe64950-ba34-454c-860e-737f3a3b35cd\" class=\"colab-df-container\">\n",
              "    <div>\n",
              "<style scoped>\n",
              "    .dataframe tbody tr th:only-of-type {\n",
              "        vertical-align: middle;\n",
              "    }\n",
              "\n",
              "    .dataframe tbody tr th {\n",
              "        vertical-align: top;\n",
              "    }\n",
              "\n",
              "    .dataframe thead th {\n",
              "        text-align: right;\n",
              "    }\n",
              "</style>\n",
              "<table border=\"1\" class=\"dataframe\">\n",
              "  <thead>\n",
              "    <tr style=\"text-align: right;\">\n",
              "      <th></th>\n",
              "      <th>text</th>\n",
              "      <th>label</th>\n",
              "    </tr>\n",
              "  </thead>\n",
              "  <tbody>\n",
              "    <tr>\n",
              "      <th>0</th>\n",
              "      <td>CONGRESS na ye party kabhi bani hoti na india ...</td>\n",
              "      <td>0</td>\n",
              "    </tr>\n",
              "    <tr>\n",
              "      <th>1</th>\n",
              "      <td>ha ha ha ha ha ha ha .  .  .  .  . :d ye mast ...</td>\n",
              "      <td>1</td>\n",
              "    </tr>\n",
              "    <tr>\n",
              "      <th>2</th>\n",
              "      <td>kejariwal tum apana soch ka dayra badho ab is ...</td>\n",
              "      <td>0</td>\n",
              "    </tr>\n",
              "    <tr>\n",
              "      <th>3</th>\n",
              "      <td>jai hind</td>\n",
              "      <td>1</td>\n",
              "    </tr>\n",
              "    <tr>\n",
              "      <th>4</th>\n",
              "      <td>result me konsa bc univrsty tope mari ... jo i...</td>\n",
              "      <td>0</td>\n",
              "    </tr>\n",
              "  </tbody>\n",
              "</table>\n",
              "</div>\n",
              "    <div class=\"colab-df-buttons\">\n",
              "\n",
              "  <div class=\"colab-df-container\">\n",
              "    <button class=\"colab-df-convert\" onclick=\"convertToInteractive('df-7fe64950-ba34-454c-860e-737f3a3b35cd')\"\n",
              "            title=\"Convert this dataframe to an interactive table.\"\n",
              "            style=\"display:none;\">\n",
              "\n",
              "  <svg xmlns=\"http://www.w3.org/2000/svg\" height=\"24px\" viewBox=\"0 -960 960 960\">\n",
              "    <path d=\"M120-120v-720h720v720H120Zm60-500h600v-160H180v160Zm220 220h160v-160H400v160Zm0 220h160v-160H400v160ZM180-400h160v-160H180v160Zm440 0h160v-160H620v160ZM180-180h160v-160H180v160Zm440 0h160v-160H620v160Z\"/>\n",
              "  </svg>\n",
              "    </button>\n",
              "\n",
              "  <style>\n",
              "    .colab-df-container {\n",
              "      display:flex;\n",
              "      gap: 12px;\n",
              "    }\n",
              "\n",
              "    .colab-df-convert {\n",
              "      background-color: #E8F0FE;\n",
              "      border: none;\n",
              "      border-radius: 50%;\n",
              "      cursor: pointer;\n",
              "      display: none;\n",
              "      fill: #1967D2;\n",
              "      height: 32px;\n",
              "      padding: 0 0 0 0;\n",
              "      width: 32px;\n",
              "    }\n",
              "\n",
              "    .colab-df-convert:hover {\n",
              "      background-color: #E2EBFA;\n",
              "      box-shadow: 0px 1px 2px rgba(60, 64, 67, 0.3), 0px 1px 3px 1px rgba(60, 64, 67, 0.15);\n",
              "      fill: #174EA6;\n",
              "    }\n",
              "\n",
              "    .colab-df-buttons div {\n",
              "      margin-bottom: 4px;\n",
              "    }\n",
              "\n",
              "    [theme=dark] .colab-df-convert {\n",
              "      background-color: #3B4455;\n",
              "      fill: #D2E3FC;\n",
              "    }\n",
              "\n",
              "    [theme=dark] .colab-df-convert:hover {\n",
              "      background-color: #434B5C;\n",
              "      box-shadow: 0px 1px 3px 1px rgba(0, 0, 0, 0.15);\n",
              "      filter: drop-shadow(0px 1px 2px rgba(0, 0, 0, 0.3));\n",
              "      fill: #FFFFFF;\n",
              "    }\n",
              "  </style>\n",
              "\n",
              "    <script>\n",
              "      const buttonEl =\n",
              "        document.querySelector('#df-7fe64950-ba34-454c-860e-737f3a3b35cd button.colab-df-convert');\n",
              "      buttonEl.style.display =\n",
              "        google.colab.kernel.accessAllowed ? 'block' : 'none';\n",
              "\n",
              "      async function convertToInteractive(key) {\n",
              "        const element = document.querySelector('#df-7fe64950-ba34-454c-860e-737f3a3b35cd');\n",
              "        const dataTable =\n",
              "          await google.colab.kernel.invokeFunction('convertToInteractive',\n",
              "                                                    [key], {});\n",
              "        if (!dataTable) return;\n",
              "\n",
              "        const docLinkHtml = 'Like what you see? Visit the ' +\n",
              "          '<a target=\"_blank\" href=https://colab.research.google.com/notebooks/data_table.ipynb>data table notebook</a>'\n",
              "          + ' to learn more about interactive tables.';\n",
              "        element.innerHTML = '';\n",
              "        dataTable['output_type'] = 'display_data';\n",
              "        await google.colab.output.renderOutput(dataTable, element);\n",
              "        const docLink = document.createElement('div');\n",
              "        docLink.innerHTML = docLinkHtml;\n",
              "        element.appendChild(docLink);\n",
              "      }\n",
              "    </script>\n",
              "  </div>\n",
              "\n",
              "\n",
              "<div id=\"df-ce9fee26-0ba3-429b-bd88-8bb4b0c65adc\">\n",
              "  <button class=\"colab-df-quickchart\" onclick=\"quickchart('df-ce9fee26-0ba3-429b-bd88-8bb4b0c65adc')\"\n",
              "            title=\"Suggest charts\"\n",
              "            style=\"display:none;\">\n",
              "\n",
              "<svg xmlns=\"http://www.w3.org/2000/svg\" height=\"24px\"viewBox=\"0 0 24 24\"\n",
              "     width=\"24px\">\n",
              "    <g>\n",
              "        <path d=\"M19 3H5c-1.1 0-2 .9-2 2v14c0 1.1.9 2 2 2h14c1.1 0 2-.9 2-2V5c0-1.1-.9-2-2-2zM9 17H7v-7h2v7zm4 0h-2V7h2v10zm4 0h-2v-4h2v4z\"/>\n",
              "    </g>\n",
              "</svg>\n",
              "  </button>\n",
              "\n",
              "<style>\n",
              "  .colab-df-quickchart {\n",
              "      --bg-color: #E8F0FE;\n",
              "      --fill-color: #1967D2;\n",
              "      --hover-bg-color: #E2EBFA;\n",
              "      --hover-fill-color: #174EA6;\n",
              "      --disabled-fill-color: #AAA;\n",
              "      --disabled-bg-color: #DDD;\n",
              "  }\n",
              "\n",
              "  [theme=dark] .colab-df-quickchart {\n",
              "      --bg-color: #3B4455;\n",
              "      --fill-color: #D2E3FC;\n",
              "      --hover-bg-color: #434B5C;\n",
              "      --hover-fill-color: #FFFFFF;\n",
              "      --disabled-bg-color: #3B4455;\n",
              "      --disabled-fill-color: #666;\n",
              "  }\n",
              "\n",
              "  .colab-df-quickchart {\n",
              "    background-color: var(--bg-color);\n",
              "    border: none;\n",
              "    border-radius: 50%;\n",
              "    cursor: pointer;\n",
              "    display: none;\n",
              "    fill: var(--fill-color);\n",
              "    height: 32px;\n",
              "    padding: 0;\n",
              "    width: 32px;\n",
              "  }\n",
              "\n",
              "  .colab-df-quickchart:hover {\n",
              "    background-color: var(--hover-bg-color);\n",
              "    box-shadow: 0 1px 2px rgba(60, 64, 67, 0.3), 0 1px 3px 1px rgba(60, 64, 67, 0.15);\n",
              "    fill: var(--button-hover-fill-color);\n",
              "  }\n",
              "\n",
              "  .colab-df-quickchart-complete:disabled,\n",
              "  .colab-df-quickchart-complete:disabled:hover {\n",
              "    background-color: var(--disabled-bg-color);\n",
              "    fill: var(--disabled-fill-color);\n",
              "    box-shadow: none;\n",
              "  }\n",
              "\n",
              "  .colab-df-spinner {\n",
              "    border: 2px solid var(--fill-color);\n",
              "    border-color: transparent;\n",
              "    border-bottom-color: var(--fill-color);\n",
              "    animation:\n",
              "      spin 1s steps(1) infinite;\n",
              "  }\n",
              "\n",
              "  @keyframes spin {\n",
              "    0% {\n",
              "      border-color: transparent;\n",
              "      border-bottom-color: var(--fill-color);\n",
              "      border-left-color: var(--fill-color);\n",
              "    }\n",
              "    20% {\n",
              "      border-color: transparent;\n",
              "      border-left-color: var(--fill-color);\n",
              "      border-top-color: var(--fill-color);\n",
              "    }\n",
              "    30% {\n",
              "      border-color: transparent;\n",
              "      border-left-color: var(--fill-color);\n",
              "      border-top-color: var(--fill-color);\n",
              "      border-right-color: var(--fill-color);\n",
              "    }\n",
              "    40% {\n",
              "      border-color: transparent;\n",
              "      border-right-color: var(--fill-color);\n",
              "      border-top-color: var(--fill-color);\n",
              "    }\n",
              "    60% {\n",
              "      border-color: transparent;\n",
              "      border-right-color: var(--fill-color);\n",
              "    }\n",
              "    80% {\n",
              "      border-color: transparent;\n",
              "      border-right-color: var(--fill-color);\n",
              "      border-bottom-color: var(--fill-color);\n",
              "    }\n",
              "    90% {\n",
              "      border-color: transparent;\n",
              "      border-bottom-color: var(--fill-color);\n",
              "    }\n",
              "  }\n",
              "</style>\n",
              "\n",
              "  <script>\n",
              "    async function quickchart(key) {\n",
              "      const quickchartButtonEl =\n",
              "        document.querySelector('#' + key + ' button');\n",
              "      quickchartButtonEl.disabled = true;  // To prevent multiple clicks.\n",
              "      quickchartButtonEl.classList.add('colab-df-spinner');\n",
              "      try {\n",
              "        const charts = await google.colab.kernel.invokeFunction(\n",
              "            'suggestCharts', [key], {});\n",
              "      } catch (error) {\n",
              "        console.error('Error during call to suggestCharts:', error);\n",
              "      }\n",
              "      quickchartButtonEl.classList.remove('colab-df-spinner');\n",
              "      quickchartButtonEl.classList.add('colab-df-quickchart-complete');\n",
              "    }\n",
              "    (() => {\n",
              "      let quickchartButtonEl =\n",
              "        document.querySelector('#df-ce9fee26-0ba3-429b-bd88-8bb4b0c65adc button');\n",
              "      quickchartButtonEl.style.display =\n",
              "        google.colab.kernel.accessAllowed ? 'block' : 'none';\n",
              "    })();\n",
              "  </script>\n",
              "</div>\n",
              "    </div>\n",
              "  </div>\n"
            ]
          },
          "metadata": {},
          "execution_count": 23
        }
      ]
    },
    {
      "cell_type": "markdown",
      "source": [
        "# Data Prep\n",
        "\n",
        "Get the first 50 tweets for each prompt and only the \"text\" column so that I don't accidentally aim the mLLMs' prediction."
      ],
      "metadata": {
        "id": "SusefjU4zqQt"
      }
    },
    {
      "cell_type": "code",
      "source": [
        "tweets_dict['spanish']['text'].iloc[0:10].to_csv()"
      ],
      "metadata": {
        "colab": {
          "base_uri": "https://localhost:8080/",
          "height": 178
        },
        "id": "uPhnEN5bB8-l",
        "outputId": "3edf9773-4145-487b-802d-41a6a0724c50"
      },
      "execution_count": 29,
      "outputs": [
        {
          "output_type": "execute_result",
          "data": {
            "text/plain": [
              "',text\\n0,\"@user jajajaja dale, hacete la boluda vos jajaja igual a vos nunca se te puede tomar en serio te mando un abrazo desde Perú!\"\\n1,@user MAAAAE RAJADO! Pero lo bueno es q uno se va independizando!y logrando metas\\n2,Bueno hoy fui a almorzar a Nanay con otras 3 dras xq la capacitación mal organizada no nos dió almuerzo y encima nos mandan a comer 2pm\\n3,@user ¡Hola Tomás! ¿Habéis visto los nuevos #dinos de #TierraMagna? Es normal que haya colas antes de que comience el espectáculo\\n4,@user la hijueputa tela se me salió. yo quería volver a quedar acostada.\\n5,@user pues no está nada mal\\n6,\"@user quizá para profesionales no sea mucho,pero hay no remunerados principalmente femenino para quienes es un sueño, pasa en mi país\"\\n7,Hora de seguir soñando muy bonito\\n8,Me estoy muriendo. Ojalá mi jefa me haga trabajar viernes y sábado en la mañana. Porque cerrar va a ser fatal\\n9,\"La felicidad tiene un nombr #Tailandia  Si es tu PRIMERA VEZ, apunta estos #consejos!   http http\"\\n'"
            ],
            "application/vnd.google.colaboratory.intrinsic+json": {
              "type": "string"
            }
          },
          "metadata": {},
          "execution_count": 29
        }
      ]
    },
    {
      "cell_type": "markdown",
      "source": [
        "# Prompts"
      ],
      "metadata": {
        "id": "BJbfX7iIzVAo"
      }
    },
    {
      "cell_type": "markdown",
      "source": [
        "## Prompt 1\n",
        "\n",
        "> \"I have a list of strings that I am providing you in the form of a csv. Please give me back a list of numbers of how you deduce their sentiment. 0 as negative and 1 as positive. Please only provide your response in the form of a list in python, like this:\n",
        "`[0,1,0,1,0]`\n",
        "All I need from you is your prediction of the sentiments. Do not re-write the tweets back to me in your response, just respond with the list of integers.\"\n",
        "\n",
        "The issue is that both models' responses had incorrect lengths, as seen below."
      ],
      "metadata": {
        "id": "WAmIrP6tzWdT"
      }
    },
    {
      "cell_type": "code",
      "source": [
        "gpt_english_preds = [0, 0, 0, 1, 1, 0, 0, 0, 1, 0, 1, 0, 0, 1, 1, 1, 1, 1, 1, 0, 1, 1, 0, 0, 0, 0]\n",
        "hug_english_preds = [0, 1, 0, 1, 0, 1, 0, 1, 0, 1, 0, 1, 0, 1, 0, 1, 0, 1, 0, 1, 0, 1, 0, 1]\n",
        "\n",
        "print(len(gpt_english_preds))\n",
        "print(len(hug_english_preds))"
      ],
      "metadata": {
        "colab": {
          "base_uri": "https://localhost:8080/"
        },
        "id": "ZFhclArxRn_j",
        "outputId": "1e59c1eb-6075-4af5-b197-b4f81e43aeac"
      },
      "execution_count": 8,
      "outputs": [
        {
          "output_type": "stream",
          "name": "stdout",
          "text": [
            "26\n",
            "24\n"
          ]
        }
      ]
    },
    {
      "cell_type": "markdown",
      "source": [
        "## Prompt 2\n",
        "\n",
        "Because of the incorrect lengths of the responses, my second prompt asked for both the tweets back and their corresponding sentiment scores:\n",
        "\n",
        "> \"I have a list of strings that I am providing you in the form of a csv. Please give me back a list of numbers of how you deduce their sentiment. 0 as negative and 1 as positive. *Please provide your response in the form of a json encased by three backticks with the columns \"text\" and \"label\".*"
      ],
      "metadata": {
        "id": "hRrasR16z-a0"
      }
    },
    {
      "cell_type": "markdown",
      "source": [
        "## Prompt 3\n",
        "\n",
        "I found that ChatGPT wouldn't complete the analysis, but would \"analyze\" and then crash. Only succeeding one out of four or five times. I created a new prompt:\n",
        "\n",
        "> I have provided a CSV file with a list of tweets. For each tweet, please analyze its sentiment and assign a value: 0 for negative sentiment and 1 for positive sentiment. *Please do not summarize the tweets or write any code for analysis.* Simply read each tweet and assign the sentiment value based on your understanding. I would like the output in a JSON or markdown format, with each tweet indexed and its corresponding sentiment value. I need a sentiment score of 0 or 1 not a summarization or translation of the tweets, just the score of the sentiment of each tweet. No explanations. Just the indexes and integers.\n",
        "\n"
      ],
      "metadata": {
        "id": "tqOwfQkpbhre"
      }
    },
    {
      "cell_type": "markdown",
      "source": [
        "## Prompt 4\n",
        "\n",
        "HuggingChat had a hard time with Arabic and totally ignored the sentiment analysis. When I asked the same prompt above in english for non-english languages and provided 50 tweets it would respond back with things like:\n",
        "\n",
        "> ```\n",
        "It seems like you have provided a JSON object that contains\n",
        "various properties and values, including some in Arabic\n",
        "language. Here's a breakdown of the contents of the JSON\n",
        "object:\n",
        "```\n",
        "\n",
        "or\n",
        "\n",
        "> ```\n",
        "It seems like you're trying to represent Arabic text in a\n",
        "JSON format, but the encoding is not correct. The Unicode\n",
        "characters are being represented as escaped hexadecimal\n",
        "codes, which is not a valid way to encode Unicode\n",
        "characters in JSON.\n",
        "```\n",
        "\n",
        "I will try again with a new format which will simply be translating the prompts into the intended language. This didn't provide much improvement in the French or Hindi languages so I stuck with prompt3 for GPT."
      ],
      "metadata": {
        "id": "pu_e4R72lYmT"
      }
    },
    {
      "cell_type": "markdown",
      "source": [
        "## Prompt 5\n",
        "\n",
        "As we can see from the plot below with the French dataset (which I used as an example because it got a low F1-score), GPT is clustering it's incorrect sentiment predictions:"
      ],
      "metadata": {
        "id": "9FJ4IQ2I8dVq"
      }
    },
    {
      "cell_type": "code",
      "source": [
        "plot_correct_list(\n",
        "    gpt_prompt3_df['french'].to_list(),\n",
        "    tweets_dict['french']['label'].iloc[0:50].to_list()\n",
        ")"
      ],
      "metadata": {
        "colab": {
          "base_uri": "https://localhost:8080/",
          "height": 179
        },
        "id": "usHxkwkN8uiK",
        "outputId": "20c0523f-24b4-4fd4-f321-c454e8787de2"
      },
      "execution_count": 9,
      "outputs": [
        {
          "output_type": "display_data",
          "data": {
            "text/plain": [
              "<Figure size 1000x100 with 1 Axes>"
            ],
            "image/png": "[encoded data removed]"
          },
          "metadata": {}
        }
      ]
    },
    {
      "cell_type": "markdown",
      "source": [
        "Because of this, I went ahead and created a new prompt which instructs GPT to re-read the prompt after every time it determines the sentiment for a tweet:\n",
        "\n",
        "> I have a list of strings that I am providing you in the form of a csv. Please give me back a list of numbers with their mathcing texts indexes of how you deduce their sentiment, 0 as negative and 1 as positive. Please do not write python code to analyze or any code at all, just read the tweets and decide whether they are positive (1) or negative (0). Please provide your response in either a json format. Please re-read this prompt after determining the sentiment for each tweet. I expect you to read this prompt, read a tweet, determine its sentiment, read the prompt again, read the next tweet in the list and determine its sentiment and so on. Just the index and the sentiment scores like this:\n",
        "{ \"0\" : 0, \"1\" : 1, \"2\" : 0, \"3\" : 1, \"4\" : 0 }\n"
      ],
      "metadata": {
        "id": "1UDm3WW48vjV"
      }
    },
    {
      "cell_type": "markdown",
      "source": [
        "# Re-Working Assignment"
      ],
      "metadata": {
        "id": "GEbKrwY0Pz9R"
      }
    },
    {
      "cell_type": "markdown",
      "source": [
        "The HuggingChat model would often get perfect results:"
      ],
      "metadata": {
        "id": "ZH2eIa4tP7FU"
      }
    },
    {
      "cell_type": "code",
      "source": [
        "plot_correct_list(\n",
        "    hug_prompt5_df['german'].to_list(),\n",
        "    tweets_dict['german']['label'].iloc[0:50].to_list()\n",
        ")"
      ],
      "metadata": {
        "colab": {
          "base_uri": "https://localhost:8080/",
          "height": 179
        },
        "id": "6BowYSJbP6XX",
        "outputId": "3e386e82-ec02-430e-9190-2f8b4ed648ba"
      },
      "execution_count": 10,
      "outputs": [
        {
          "output_type": "display_data",
          "data": {
            "text/plain": [
              "<Figure size 1000x100 with 1 Axes>"
            ],
            "image/png": "[encoded data removed]"
          },
          "metadata": {}
        }
      ]
    },
    {
      "cell_type": "markdown",
      "source": [
        "The original dataset dispersed their labels contiguously, precisely starting with a \"0\" and then proceeding with a \"1\" and iterating back and forth throughout the list.\n",
        "\n",
        "![image](https://drive.google.com/uc?export=view&id=1YEwnei2i4OhMvf2K5K9K8NCBCTS7oAlR)"
      ],
      "metadata": {
        "id": "ZeH_-QDUXFUP"
      }
    },
    {
      "cell_type": "code",
      "source": [
        "results_df = get_contingent_f1_results_df(responses_contingent, languages)\n",
        "results_heatmap(results_df, \"Contiguous Dataset - \")"
      ],
      "metadata": {
        "colab": {
          "base_uri": "https://localhost:8080/",
          "height": 462
        },
        "id": "d7llssSMQfPG",
        "outputId": "9fea5906-29a2-461e-ca8b-5991e6c9a1b2"
      },
      "execution_count": 11,
      "outputs": [
        {
          "output_type": "display_data",
          "data": {
            "text/plain": [
              "<Figure size 1000x400 with 2 Axes>"
            ],
            "image/png": "[encoded data removed]"
          },
          "metadata": {}
        }
      ]
    },
    {
      "cell_type": "markdown",
      "source": [
        "The perfect 100% f1-scores caused me to realize there was a need to randomily sample from the datasets instead of selecting the first contiguous examples in order to truly get a sense of the results of these models. The models might have been predicting the 0-1-0-1-0 pattern and not providing sentiment analysis. This set me back, but frankly I should have thought of it before starting this assignment. Each of the prompts will come after the list of tweets to keep it consistent across both models because of the challenges presented by HuggingChat (see explanation below).\n",
        "\n",
        "I also decided to organize the two different types of prompts for each AI model and they will be as follows for each AI chatbot:\n",
        "\n",
        "* Prompt 6 - English version of prompt 5 using random sample of data\n",
        "* Prompt 7 - Translated version of prompt 5 using random sample of data"
      ],
      "metadata": {
        "id": "ZpbXZT7sRi8k"
      }
    },
    {
      "cell_type": "code",
      "source": [
        "sampled_tweets_df[sampled_tweets_df['language'] == 'portuguese'].head().reset_index(drop=True)"
      ],
      "metadata": {
        "colab": {
          "base_uri": "https://localhost:8080/",
          "height": 206
        },
        "id": "ZVXUMGqZlLmn",
        "outputId": "8370c3f6-bbe0-4951-8aa7-297ac30bff04"
      },
      "execution_count": 22,
      "outputs": [
        {
          "output_type": "execute_result",
          "data": {
            "text/plain": [
              "                                          text  label    language\n",
              "0  Melhor programa da tarde 👏 #VideoShowAoVivo      1  portuguese\n",
              "1     eu acho Débora muito linda #MasterChefBr      1  portuguese\n",
              "2              Erraram a letra omg 😬 #encontro      0  portuguese\n",
              "3            Ai, odeio sardinha. #MasterChefBR      0  portuguese\n",
              "4          NÃO GOSTO DE PAGODE💤💤💤💤💤💤 #Encontro      0  portuguese"
            ],
            "text/html": [
              "\n",
              "  <div id=\"df-f7d38a7e-7a8f-4391-9245-bad61d1a32b9\" class=\"colab-df-container\">\n",
              "    <div>\n",
              "<style scoped>\n",
              "    .dataframe tbody tr th:only-of-type {\n",
              "        vertical-align: middle;\n",
              "    }\n",
              "\n",
              "    .dataframe tbody tr th {\n",
              "        vertical-align: top;\n",
              "    }\n",
              "\n",
              "    .dataframe thead th {\n",
              "        text-align: right;\n",
              "    }\n",
              "</style>\n",
              "<table border=\"1\" class=\"dataframe\">\n",
              "  <thead>\n",
              "    <tr style=\"text-align: right;\">\n",
              "      <th></th>\n",
              "      <th>text</th>\n",
              "      <th>label</th>\n",
              "      <th>language</th>\n",
              "    </tr>\n",
              "  </thead>\n",
              "  <tbody>\n",
              "    <tr>\n",
              "      <th>0</th>\n",
              "      <td>Melhor programa da tarde 👏 #VideoShowAoVivo</td>\n",
              "      <td>1</td>\n",
              "      <td>portuguese</td>\n",
              "    </tr>\n",
              "    <tr>\n",
              "      <th>1</th>\n",
              "      <td>eu acho Débora muito linda #MasterChefBr</td>\n",
              "      <td>1</td>\n",
              "      <td>portuguese</td>\n",
              "    </tr>\n",
              "    <tr>\n",
              "      <th>2</th>\n",
              "      <td>Erraram a letra omg 😬 #encontro</td>\n",
              "      <td>0</td>\n",
              "      <td>portuguese</td>\n",
              "    </tr>\n",
              "    <tr>\n",
              "      <th>3</th>\n",
              "      <td>Ai, odeio sardinha. #MasterChefBR</td>\n",
              "      <td>0</td>\n",
              "      <td>portuguese</td>\n",
              "    </tr>\n",
              "    <tr>\n",
              "      <th>4</th>\n",
              "      <td>NÃO GOSTO DE PAGODE💤💤💤💤💤💤 #Encontro</td>\n",
              "      <td>0</td>\n",
              "      <td>portuguese</td>\n",
              "    </tr>\n",
              "  </tbody>\n",
              "</table>\n",
              "</div>\n",
              "    <div class=\"colab-df-buttons\">\n",
              "\n",
              "  <div class=\"colab-df-container\">\n",
              "    <button class=\"colab-df-convert\" onclick=\"convertToInteractive('df-f7d38a7e-7a8f-4391-9245-bad61d1a32b9')\"\n",
              "            title=\"Convert this dataframe to an interactive table.\"\n",
              "            style=\"display:none;\">\n",
              "\n",
              "  <svg xmlns=\"http://www.w3.org/2000/svg\" height=\"24px\" viewBox=\"0 -960 960 960\">\n",
              "    <path d=\"M120-120v-720h720v720H120Zm60-500h600v-160H180v160Zm220 220h160v-160H400v160Zm0 220h160v-160H400v160ZM180-400h160v-160H180v160Zm440 0h160v-160H620v160ZM180-180h160v-160H180v160Zm440 0h160v-160H620v160Z\"/>\n",
              "  </svg>\n",
              "    </button>\n",
              "\n",
              "  <style>\n",
              "    .colab-df-container {\n",
              "      display:flex;\n",
              "      gap: 12px;\n",
              "    }\n",
              "\n",
              "    .colab-df-convert {\n",
              "      background-color: #E8F0FE;\n",
              "      border: none;\n",
              "      border-radius: 50%;\n",
              "      cursor: pointer;\n",
              "      display: none;\n",
              "      fill: #1967D2;\n",
              "      height: 32px;\n",
              "      padding: 0 0 0 0;\n",
              "      width: 32px;\n",
              "    }\n",
              "\n",
              "    .colab-df-convert:hover {\n",
              "      background-color: #E2EBFA;\n",
              "      box-shadow: 0px 1px 2px rgba(60, 64, 67, 0.3), 0px 1px 3px 1px rgba(60, 64, 67, 0.15);\n",
              "      fill: #174EA6;\n",
              "    }\n",
              "\n",
              "    .colab-df-buttons div {\n",
              "      margin-bottom: 4px;\n",
              "    }\n",
              "\n",
              "    [theme=dark] .colab-df-convert {\n",
              "      background-color: #3B4455;\n",
              "      fill: #D2E3FC;\n",
              "    }\n",
              "\n",
              "    [theme=dark] .colab-df-convert:hover {\n",
              "      background-color: #434B5C;\n",
              "      box-shadow: 0px 1px 3px 1px rgba(0, 0, 0, 0.15);\n",
              "      filter: drop-shadow(0px 1px 2px rgba(0, 0, 0, 0.3));\n",
              "      fill: #FFFFFF;\n",
              "    }\n",
              "  </style>\n",
              "\n",
              "    <script>\n",
              "      const buttonEl =\n",
              "        document.querySelector('#df-f7d38a7e-7a8f-4391-9245-bad61d1a32b9 button.colab-df-convert');\n",
              "      buttonEl.style.display =\n",
              "        google.colab.kernel.accessAllowed ? 'block' : 'none';\n",
              "\n",
              "      async function convertToInteractive(key) {\n",
              "        const element = document.querySelector('#df-f7d38a7e-7a8f-4391-9245-bad61d1a32b9');\n",
              "        const dataTable =\n",
              "          await google.colab.kernel.invokeFunction('convertToInteractive',\n",
              "                                                    [key], {});\n",
              "        if (!dataTable) return;\n",
              "\n",
              "        const docLinkHtml = 'Like what you see? Visit the ' +\n",
              "          '<a target=\"_blank\" href=https://colab.research.google.com/notebooks/data_table.ipynb>data table notebook</a>'\n",
              "          + ' to learn more about interactive tables.';\n",
              "        element.innerHTML = '';\n",
              "        dataTable['output_type'] = 'display_data';\n",
              "        await google.colab.output.renderOutput(dataTable, element);\n",
              "        const docLink = document.createElement('div');\n",
              "        docLink.innerHTML = docLinkHtml;\n",
              "        element.appendChild(docLink);\n",
              "      }\n",
              "    </script>\n",
              "  </div>\n",
              "\n",
              "\n",
              "<div id=\"df-48c2476f-be5e-437c-8f9d-fe0f9d707ded\">\n",
              "  <button class=\"colab-df-quickchart\" onclick=\"quickchart('df-48c2476f-be5e-437c-8f9d-fe0f9d707ded')\"\n",
              "            title=\"Suggest charts\"\n",
              "            style=\"display:none;\">\n",
              "\n",
              "<svg xmlns=\"http://www.w3.org/2000/svg\" height=\"24px\"viewBox=\"0 0 24 24\"\n",
              "     width=\"24px\">\n",
              "    <g>\n",
              "        <path d=\"M19 3H5c-1.1 0-2 .9-2 2v14c0 1.1.9 2 2 2h14c1.1 0 2-.9 2-2V5c0-1.1-.9-2-2-2zM9 17H7v-7h2v7zm4 0h-2V7h2v10zm4 0h-2v-4h2v4z\"/>\n",
              "    </g>\n",
              "</svg>\n",
              "  </button>\n",
              "\n",
              "<style>\n",
              "  .colab-df-quickchart {\n",
              "      --bg-color: #E8F0FE;\n",
              "      --fill-color: #1967D2;\n",
              "      --hover-bg-color: #E2EBFA;\n",
              "      --hover-fill-color: #174EA6;\n",
              "      --disabled-fill-color: #AAA;\n",
              "      --disabled-bg-color: #DDD;\n",
              "  }\n",
              "\n",
              "  [theme=dark] .colab-df-quickchart {\n",
              "      --bg-color: #3B4455;\n",
              "      --fill-color: #D2E3FC;\n",
              "      --hover-bg-color: #434B5C;\n",
              "      --hover-fill-color: #FFFFFF;\n",
              "      --disabled-bg-color: #3B4455;\n",
              "      --disabled-fill-color: #666;\n",
              "  }\n",
              "\n",
              "  .colab-df-quickchart {\n",
              "    background-color: var(--bg-color);\n",
              "    border: none;\n",
              "    border-radius: 50%;\n",
              "    cursor: pointer;\n",
              "    display: none;\n",
              "    fill: var(--fill-color);\n",
              "    height: 32px;\n",
              "    padding: 0;\n",
              "    width: 32px;\n",
              "  }\n",
              "\n",
              "  .colab-df-quickchart:hover {\n",
              "    background-color: var(--hover-bg-color);\n",
              "    box-shadow: 0 1px 2px rgba(60, 64, 67, 0.3), 0 1px 3px 1px rgba(60, 64, 67, 0.15);\n",
              "    fill: var(--button-hover-fill-color);\n",
              "  }\n",
              "\n",
              "  .colab-df-quickchart-complete:disabled,\n",
              "  .colab-df-quickchart-complete:disabled:hover {\n",
              "    background-color: var(--disabled-bg-color);\n",
              "    fill: var(--disabled-fill-color);\n",
              "    box-shadow: none;\n",
              "  }\n",
              "\n",
              "  .colab-df-spinner {\n",
              "    border: 2px solid var(--fill-color);\n",
              "    border-color: transparent;\n",
              "    border-bottom-color: var(--fill-color);\n",
              "    animation:\n",
              "      spin 1s steps(1) infinite;\n",
              "  }\n",
              "\n",
              "  @keyframes spin {\n",
              "    0% {\n",
              "      border-color: transparent;\n",
              "      border-bottom-color: var(--fill-color);\n",
              "      border-left-color: var(--fill-color);\n",
              "    }\n",
              "    20% {\n",
              "      border-color: transparent;\n",
              "      border-left-color: var(--fill-color);\n",
              "      border-top-color: var(--fill-color);\n",
              "    }\n",
              "    30% {\n",
              "      border-color: transparent;\n",
              "      border-left-color: var(--fill-color);\n",
              "      border-top-color: var(--fill-color);\n",
              "      border-right-color: var(--fill-color);\n",
              "    }\n",
              "    40% {\n",
              "      border-color: transparent;\n",
              "      border-right-color: var(--fill-color);\n",
              "      border-top-color: var(--fill-color);\n",
              "    }\n",
              "    60% {\n",
              "      border-color: transparent;\n",
              "      border-right-color: var(--fill-color);\n",
              "    }\n",
              "    80% {\n",
              "      border-color: transparent;\n",
              "      border-right-color: var(--fill-color);\n",
              "      border-bottom-color: var(--fill-color);\n",
              "    }\n",
              "    90% {\n",
              "      border-color: transparent;\n",
              "      border-bottom-color: var(--fill-color);\n",
              "    }\n",
              "  }\n",
              "</style>\n",
              "\n",
              "  <script>\n",
              "    async function quickchart(key) {\n",
              "      const quickchartButtonEl =\n",
              "        document.querySelector('#' + key + ' button');\n",
              "      quickchartButtonEl.disabled = true;  // To prevent multiple clicks.\n",
              "      quickchartButtonEl.classList.add('colab-df-spinner');\n",
              "      try {\n",
              "        const charts = await google.colab.kernel.invokeFunction(\n",
              "            'suggestCharts', [key], {});\n",
              "      } catch (error) {\n",
              "        console.error('Error during call to suggestCharts:', error);\n",
              "      }\n",
              "      quickchartButtonEl.classList.remove('colab-df-spinner');\n",
              "      quickchartButtonEl.classList.add('colab-df-quickchart-complete');\n",
              "    }\n",
              "    (() => {\n",
              "      let quickchartButtonEl =\n",
              "        document.querySelector('#df-48c2476f-be5e-437c-8f9d-fe0f9d707ded button');\n",
              "      quickchartButtonEl.style.display =\n",
              "        google.colab.kernel.accessAllowed ? 'block' : 'none';\n",
              "    })();\n",
              "  </script>\n",
              "</div>\n",
              "    </div>\n",
              "  </div>\n"
            ]
          },
          "metadata": {},
          "execution_count": 22
        }
      ]
    },
    {
      "cell_type": "code",
      "source": [
        "import numpy as np\n",
        "language = 'spanish'\n",
        "start = 0\n",
        "end = 10\n",
        "sub = sampled_tweets_df[sampled_tweets_df['language'] == language]['text'].iloc[start:end].reset_index(drop=True)\n",
        "sub.index = np.arange(start, end)\n",
        "sub.to_csv()"
      ],
      "metadata": {
        "colab": {
          "base_uri": "https://localhost:8080/",
          "height": 160
        },
        "id": "qCuXogxflP83",
        "outputId": "acde4743-0972-4a85-ed23-9023810f0b86"
      },
      "execution_count": 30,
      "outputs": [
        {
          "output_type": "execute_result",
          "data": {
            "text/plain": [
              "',text\\n0,\"@user nada peor que tu stalker sea tu colega. Orden de restricción, nomás\"\\n1,Empieza la temporada 12 de cuarto milenio. Nuevos misterios interesantes....  @user @user\\n2,\"¡Eh @user, #GuidettiNoSeVende!   Pero entre nosotros... Si lo vendéis, mandarlo para Valencia eh  #AmuntValencia #HalaCelta\"\\n3,\"#LatinaTeMaltrata achachaaaaay, primero los \"\"intocables\"\" de los realities y ahora esto, se dan cuenta quiénes dirigen la Tv Basura?\"\\n4,\"Vale entiendo, no he estado rápido en la bajada, pero hay es donde habría que haber entrado    @ivanovlaguna\"\\n5,@user @user me he quedado sorprendida!  Me encantan! Y me alegro de lo de Blas\\n6,@user tio por esto no te mueras\\n7,\"@user ay, gracias. Lo malo es que ese es solo para primer viaje. Pero mil gracias igualmente\"\\n8,\"Últimamente, me están siguiendo chicas con perfiles bastante subidos de tono en Instagram. ¿Para cuándo un chico decente?\"\\n9,Hoy no es un buen día para mi\\n'"
            ],
            "application/vnd.google.colaboratory.intrinsic+json": {
              "type": "string"
            }
          },
          "metadata": {},
          "execution_count": 30
        }
      ]
    },
    {
      "cell_type": "markdown",
      "source": [
        "## Prompt 6\n",
        "\n",
        "> Above I have a list of strings that I am providing you in the form of a csv. Please give me back a list of numbers with their matching texts indexes of how you deduce their sentiment, 0 as negative and 1 as positive. Please do not write python code to analyze or any code at all, just read the tweets and decide whether they are positive (1) or negative (0). Please provide your response in either a json format. Please re-read this prompt after determining the sentiment for each tweet. I expect you to read this prompt, read a tweet, determine its sentiment, read the prompt again, read the next tweet in the list and determine its sentiment and so on. Just the index and the sentiment scores like this: { \"0\" : 0, \"1\" : 1, \"2\" : 0, \"3\" : 1, \"4\" : 0 ... } accordingly, but using the indexing of the original tweets. Explain your reasoning."
      ],
      "metadata": {
        "id": "utCT3-VrQ0UA"
      }
    },
    {
      "cell_type": "code",
      "source": [
        "pd.concat([sampled_tweets_df[sampled_tweets_df['language'] == lang].head(2) for lang in languages]).iloc[2:14]"
      ],
      "metadata": {
        "colab": {
          "base_uri": "https://localhost:8080/",
          "height": 426
        },
        "id": "fKqWI3Pf1bXc",
        "outputId": "388faf7b-7f8f-4cbc-b6f2-aa672edf41bb"
      },
      "execution_count": 21,
      "outputs": [
        {
          "output_type": "execute_result",
          "data": {
            "text/plain": [
              "                                                  text  label    language\n",
              "50   Mooreder When Michael Moore picks up your caus...      0     english\n",
              "51   Kim fatty the third 😂😂😂 @ CSIS | Center for St...      0     english\n",
              "100  RT @user: capacité totale d' #éolien offshore ...      1      french\n",
              "101  Réchauffement climatique anthropique et santé ...      0      french\n",
              "150  RT @user: Geiler neuer Scheiss von meinen UP H...      1      german\n",
              "151                         @user Hohoho. *lacht böse*      0      german\n",
              "200  slman plzz m apse milna chahti hu....apko ek b...      1       hindi\n",
              "201  rt psharma2525: rt komalinsaan: gurmeetramrahi...      1       hindi\n",
              "250  @user @user in bocca al lupo per il concorso 2...      0     italian\n",
              "251  @user @user @user @user Nel DEF 1 mil. di tagl...      0     italian\n",
              "300        Melhor programa da tarde 👏 #VideoShowAoVivo      1  portuguese\n",
              "301           eu acho Débora muito linda #MasterChefBr      1  portuguese"
            ],
            "text/html": [
              "\n",
              "  <div id=\"df-b1de1d42-96df-4754-8e84-0249bc4c58dc\" class=\"colab-df-container\">\n",
              "    <div>\n",
              "<style scoped>\n",
              "    .dataframe tbody tr th:only-of-type {\n",
              "        vertical-align: middle;\n",
              "    }\n",
              "\n",
              "    .dataframe tbody tr th {\n",
              "        vertical-align: top;\n",
              "    }\n",
              "\n",
              "    .dataframe thead th {\n",
              "        text-align: right;\n",
              "    }\n",
              "</style>\n",
              "<table border=\"1\" class=\"dataframe\">\n",
              "  <thead>\n",
              "    <tr style=\"text-align: right;\">\n",
              "      <th></th>\n",
              "      <th>text</th>\n",
              "      <th>label</th>\n",
              "      <th>language</th>\n",
              "    </tr>\n",
              "  </thead>\n",
              "  <tbody>\n",
              "    <tr>\n",
              "      <th>50</th>\n",
              "      <td>Mooreder When Michael Moore picks up your caus...</td>\n",
              "      <td>0</td>\n",
              "      <td>english</td>\n",
              "    </tr>\n",
              "    <tr>\n",
              "      <th>51</th>\n",
              "      <td>Kim fatty the third 😂😂😂 @ CSIS | Center for St...</td>\n",
              "      <td>0</td>\n",
              "      <td>english</td>\n",
              "    </tr>\n",
              "    <tr>\n",
              "      <th>100</th>\n",
              "      <td>RT @user: capacité totale d' #éolien offshore ...</td>\n",
              "      <td>1</td>\n",
              "      <td>french</td>\n",
              "    </tr>\n",
              "    <tr>\n",
              "      <th>101</th>\n",
              "      <td>Réchauffement climatique anthropique et santé ...</td>\n",
              "      <td>0</td>\n",
              "      <td>french</td>\n",
              "    </tr>\n",
              "    <tr>\n",
              "      <th>150</th>\n",
              "      <td>RT @user: Geiler neuer Scheiss von meinen UP H...</td>\n",
              "      <td>1</td>\n",
              "      <td>german</td>\n",
              "    </tr>\n",
              "    <tr>\n",
              "      <th>151</th>\n",
              "      <td>@user Hohoho. *lacht böse*</td>\n",
              "      <td>0</td>\n",
              "      <td>german</td>\n",
              "    </tr>\n",
              "    <tr>\n",
              "      <th>200</th>\n",
              "      <td>slman plzz m apse milna chahti hu....apko ek b...</td>\n",
              "      <td>1</td>\n",
              "      <td>hindi</td>\n",
              "    </tr>\n",
              "    <tr>\n",
              "      <th>201</th>\n",
              "      <td>rt psharma2525: rt komalinsaan: gurmeetramrahi...</td>\n",
              "      <td>1</td>\n",
              "      <td>hindi</td>\n",
              "    </tr>\n",
              "    <tr>\n",
              "      <th>250</th>\n",
              "      <td>@user @user in bocca al lupo per il concorso 2...</td>\n",
              "      <td>0</td>\n",
              "      <td>italian</td>\n",
              "    </tr>\n",
              "    <tr>\n",
              "      <th>251</th>\n",
              "      <td>@user @user @user @user Nel DEF 1 mil. di tagl...</td>\n",
              "      <td>0</td>\n",
              "      <td>italian</td>\n",
              "    </tr>\n",
              "    <tr>\n",
              "      <th>300</th>\n",
              "      <td>Melhor programa da tarde 👏 #VideoShowAoVivo</td>\n",
              "      <td>1</td>\n",
              "      <td>portuguese</td>\n",
              "    </tr>\n",
              "    <tr>\n",
              "      <th>301</th>\n",
              "      <td>eu acho Débora muito linda #MasterChefBr</td>\n",
              "      <td>1</td>\n",
              "      <td>portuguese</td>\n",
              "    </tr>\n",
              "  </tbody>\n",
              "</table>\n",
              "</div>\n",
              "    <div class=\"colab-df-buttons\">\n",
              "\n",
              "  <div class=\"colab-df-container\">\n",
              "    <button class=\"colab-df-convert\" onclick=\"convertToInteractive('df-b1de1d42-96df-4754-8e84-0249bc4c58dc')\"\n",
              "            title=\"Convert this dataframe to an interactive table.\"\n",
              "            style=\"display:none;\">\n",
              "\n",
              "  <svg xmlns=\"http://www.w3.org/2000/svg\" height=\"24px\" viewBox=\"0 -960 960 960\">\n",
              "    <path d=\"M120-120v-720h720v720H120Zm60-500h600v-160H180v160Zm220 220h160v-160H400v160Zm0 220h160v-160H400v160ZM180-400h160v-160H180v160Zm440 0h160v-160H620v160ZM180-180h160v-160H180v160Zm440 0h160v-160H620v160Z\"/>\n",
              "  </svg>\n",
              "    </button>\n",
              "\n",
              "  <style>\n",
              "    .colab-df-container {\n",
              "      display:flex;\n",
              "      gap: 12px;\n",
              "    }\n",
              "\n",
              "    .colab-df-convert {\n",
              "      background-color: #E8F0FE;\n",
              "      border: none;\n",
              "      border-radius: 50%;\n",
              "      cursor: pointer;\n",
              "      display: none;\n",
              "      fill: #1967D2;\n",
              "      height: 32px;\n",
              "      padding: 0 0 0 0;\n",
              "      width: 32px;\n",
              "    }\n",
              "\n",
              "    .colab-df-convert:hover {\n",
              "      background-color: #E2EBFA;\n",
              "      box-shadow: 0px 1px 2px rgba(60, 64, 67, 0.3), 0px 1px 3px 1px rgba(60, 64, 67, 0.15);\n",
              "      fill: #174EA6;\n",
              "    }\n",
              "\n",
              "    .colab-df-buttons div {\n",
              "      margin-bottom: 4px;\n",
              "    }\n",
              "\n",
              "    [theme=dark] .colab-df-convert {\n",
              "      background-color: #3B4455;\n",
              "      fill: #D2E3FC;\n",
              "    }\n",
              "\n",
              "    [theme=dark] .colab-df-convert:hover {\n",
              "      background-color: #434B5C;\n",
              "      box-shadow: 0px 1px 3px 1px rgba(0, 0, 0, 0.15);\n",
              "      filter: drop-shadow(0px 1px 2px rgba(0, 0, 0, 0.3));\n",
              "      fill: #FFFFFF;\n",
              "    }\n",
              "  </style>\n",
              "\n",
              "    <script>\n",
              "      const buttonEl =\n",
              "        document.querySelector('#df-b1de1d42-96df-4754-8e84-0249bc4c58dc button.colab-df-convert');\n",
              "      buttonEl.style.display =\n",
              "        google.colab.kernel.accessAllowed ? 'block' : 'none';\n",
              "\n",
              "      async function convertToInteractive(key) {\n",
              "        const element = document.querySelector('#df-b1de1d42-96df-4754-8e84-0249bc4c58dc');\n",
              "        const dataTable =\n",
              "          await google.colab.kernel.invokeFunction('convertToInteractive',\n",
              "                                                    [key], {});\n",
              "        if (!dataTable) return;\n",
              "\n",
              "        const docLinkHtml = 'Like what you see? Visit the ' +\n",
              "          '<a target=\"_blank\" href=https://colab.research.google.com/notebooks/data_table.ipynb>data table notebook</a>'\n",
              "          + ' to learn more about interactive tables.';\n",
              "        element.innerHTML = '';\n",
              "        dataTable['output_type'] = 'display_data';\n",
              "        await google.colab.output.renderOutput(dataTable, element);\n",
              "        const docLink = document.createElement('div');\n",
              "        docLink.innerHTML = docLinkHtml;\n",
              "        element.appendChild(docLink);\n",
              "      }\n",
              "    </script>\n",
              "  </div>\n",
              "\n",
              "\n",
              "<div id=\"df-23fdbaed-10d5-407b-b04f-9889f216e63f\">\n",
              "  <button class=\"colab-df-quickchart\" onclick=\"quickchart('df-23fdbaed-10d5-407b-b04f-9889f216e63f')\"\n",
              "            title=\"Suggest charts\"\n",
              "            style=\"display:none;\">\n",
              "\n",
              "<svg xmlns=\"http://www.w3.org/2000/svg\" height=\"24px\"viewBox=\"0 0 24 24\"\n",
              "     width=\"24px\">\n",
              "    <g>\n",
              "        <path d=\"M19 3H5c-1.1 0-2 .9-2 2v14c0 1.1.9 2 2 2h14c1.1 0 2-.9 2-2V5c0-1.1-.9-2-2-2zM9 17H7v-7h2v7zm4 0h-2V7h2v10zm4 0h-2v-4h2v4z\"/>\n",
              "    </g>\n",
              "</svg>\n",
              "  </button>\n",
              "\n",
              "<style>\n",
              "  .colab-df-quickchart {\n",
              "      --bg-color: #E8F0FE;\n",
              "      --fill-color: #1967D2;\n",
              "      --hover-bg-color: #E2EBFA;\n",
              "      --hover-fill-color: #174EA6;\n",
              "      --disabled-fill-color: #AAA;\n",
              "      --disabled-bg-color: #DDD;\n",
              "  }\n",
              "\n",
              "  [theme=dark] .colab-df-quickchart {\n",
              "      --bg-color: #3B4455;\n",
              "      --fill-color: #D2E3FC;\n",
              "      --hover-bg-color: #434B5C;\n",
              "      --hover-fill-color: #FFFFFF;\n",
              "      --disabled-bg-color: #3B4455;\n",
              "      --disabled-fill-color: #666;\n",
              "  }\n",
              "\n",
              "  .colab-df-quickchart {\n",
              "    background-color: var(--bg-color);\n",
              "    border: none;\n",
              "    border-radius: 50%;\n",
              "    cursor: pointer;\n",
              "    display: none;\n",
              "    fill: var(--fill-color);\n",
              "    height: 32px;\n",
              "    padding: 0;\n",
              "    width: 32px;\n",
              "  }\n",
              "\n",
              "  .colab-df-quickchart:hover {\n",
              "    background-color: var(--hover-bg-color);\n",
              "    box-shadow: 0 1px 2px rgba(60, 64, 67, 0.3), 0 1px 3px 1px rgba(60, 64, 67, 0.15);\n",
              "    fill: var(--button-hover-fill-color);\n",
              "  }\n",
              "\n",
              "  .colab-df-quickchart-complete:disabled,\n",
              "  .colab-df-quickchart-complete:disabled:hover {\n",
              "    background-color: var(--disabled-bg-color);\n",
              "    fill: var(--disabled-fill-color);\n",
              "    box-shadow: none;\n",
              "  }\n",
              "\n",
              "  .colab-df-spinner {\n",
              "    border: 2px solid var(--fill-color);\n",
              "    border-color: transparent;\n",
              "    border-bottom-color: var(--fill-color);\n",
              "    animation:\n",
              "      spin 1s steps(1) infinite;\n",
              "  }\n",
              "\n",
              "  @keyframes spin {\n",
              "    0% {\n",
              "      border-color: transparent;\n",
              "      border-bottom-color: var(--fill-color);\n",
              "      border-left-color: var(--fill-color);\n",
              "    }\n",
              "    20% {\n",
              "      border-color: transparent;\n",
              "      border-left-color: var(--fill-color);\n",
              "      border-top-color: var(--fill-color);\n",
              "    }\n",
              "    30% {\n",
              "      border-color: transparent;\n",
              "      border-left-color: var(--fill-color);\n",
              "      border-top-color: var(--fill-color);\n",
              "      border-right-color: var(--fill-color);\n",
              "    }\n",
              "    40% {\n",
              "      border-color: transparent;\n",
              "      border-right-color: var(--fill-color);\n",
              "      border-top-color: var(--fill-color);\n",
              "    }\n",
              "    60% {\n",
              "      border-color: transparent;\n",
              "      border-right-color: var(--fill-color);\n",
              "    }\n",
              "    80% {\n",
              "      border-color: transparent;\n",
              "      border-right-color: var(--fill-color);\n",
              "      border-bottom-color: var(--fill-color);\n",
              "    }\n",
              "    90% {\n",
              "      border-color: transparent;\n",
              "      border-bottom-color: var(--fill-color);\n",
              "    }\n",
              "  }\n",
              "</style>\n",
              "\n",
              "  <script>\n",
              "    async function quickchart(key) {\n",
              "      const quickchartButtonEl =\n",
              "        document.querySelector('#' + key + ' button');\n",
              "      quickchartButtonEl.disabled = true;  // To prevent multiple clicks.\n",
              "      quickchartButtonEl.classList.add('colab-df-spinner');\n",
              "      try {\n",
              "        const charts = await google.colab.kernel.invokeFunction(\n",
              "            'suggestCharts', [key], {});\n",
              "      } catch (error) {\n",
              "        console.error('Error during call to suggestCharts:', error);\n",
              "      }\n",
              "      quickchartButtonEl.classList.remove('colab-df-spinner');\n",
              "      quickchartButtonEl.classList.add('colab-df-quickchart-complete');\n",
              "    }\n",
              "    (() => {\n",
              "      let quickchartButtonEl =\n",
              "        document.querySelector('#df-23fdbaed-10d5-407b-b04f-9889f216e63f button');\n",
              "      quickchartButtonEl.style.display =\n",
              "        google.colab.kernel.accessAllowed ? 'block' : 'none';\n",
              "    })();\n",
              "  </script>\n",
              "</div>\n",
              "    </div>\n",
              "  </div>\n"
            ]
          },
          "metadata": {},
          "execution_count": 21
        }
      ]
    },
    {
      "cell_type": "markdown",
      "source": [
        "## Prompt 7"
      ],
      "metadata": {
        "id": "Ek4GVh58SYUg"
      }
    },
    {
      "cell_type": "markdown",
      "source": [
        "# Results"
      ],
      "metadata": {
        "id": "aAKJtuohlXKv"
      }
    },
    {
      "cell_type": "markdown",
      "source": [
        "## Heatmap"
      ],
      "metadata": {
        "id": "tOsxrYtn1iRc"
      }
    },
    {
      "cell_type": "code",
      "source": [
        "sampled_results_df = get_randomized_f1_results_df(responses_randomized, languages)\n",
        "results_heatmap(sampled_results_df, \"Randomized Dataset - \")"
      ],
      "metadata": {
        "colab": {
          "base_uri": "https://localhost:8080/",
          "height": 462
        },
        "id": "hk8HZdG8yTof",
        "outputId": "03e0a81c-1dc4-4959-82a2-2c0a5e1a2e61"
      },
      "execution_count": 15,
      "outputs": [
        {
          "output_type": "display_data",
          "data": {
            "text/plain": [
              "<Figure size 1000x400 with 2 Axes>"
            ],
            "image/png": "[encoded data removed]"
          },
          "metadata": {}
        }
      ]
    },
    {
      "cell_type": "markdown",
      "source": [
        "For both ChatGPT and HuggingChat, translating the prompt into the language of the tweets had little effect on the score."
      ],
      "metadata": {
        "id": "w1xbjHvWv4F9"
      }
    },
    {
      "cell_type": "markdown",
      "source": [
        "# Model Comparison\n"
      ],
      "metadata": {
        "id": "Ow7XFBTdz-ds"
      }
    },
    {
      "cell_type": "markdown",
      "source": [
        "## Training Corpi\n",
        "\n",
        "ChatGPT 4 was trained on the Common Crawl dataset which 46% of documents had English as their primary language followed by German, Russian, Japanese, French, Spanish and Chinese, [all below 6%](https://en.wikipedia.org/wiki/Common_Crawl). GPT was trained on mixed dataset of 300B tokens including\n",
        "CommonCrawl, WebText2, Books1, Books2, and Wikipedia. LLaMA-2 was trained mixed dataset of\n",
        "1.4T tokens from CommonCrawl, C4, Github, Wikipedia, books,\n",
        "arxiv, and StackExchange. HuggingChat is a finetuned model of LlaMA-2 and was on the OASST1 (OpenAssistant Conversations Dataset) which has the following number of documents per language as pertaining to the list of languages above: English: 71956, Spanish: 43061, German: 5279, French: 4251, Portuguese (Brazil): 2969, Italian: 1320, Arabic: 666. 35 languages in total [none of which consist of Hindi](https://huggingface.co/datasets/OpenAssistant/oasst1)."
      ],
      "metadata": {
        "id": "bdV-DJ6lxTeC"
      }
    },
    {
      "cell_type": "markdown",
      "source": [
        "## Model Sizes\n",
        "\n",
        "When I asked ChatGPT4 it said that it contains 174 billion parameters, but the news website Semafor claimed that they had spoken with \"eight people familiar with the inside story\" and found that GPT-4 had [1 trillion parameters](https://www.semafor.com/article/03/24/2023/the-secret-history-of-elon-musk-sam-altman-and-openai).  When I asked HuggingChat it said it was fine tuned using a large cluster of NVIDIA V100 GPUs and consists of 65 billion parameters which is close to [LLaMA-2's 70 billion](https://huggingface.co/meta-llama/Llama-2-70b-chat-hf).\n"
      ],
      "metadata": {
        "id": "34FCxbREyxbk"
      }
    },
    {
      "cell_type": "markdown",
      "source": [
        "## HuggingChat"
      ],
      "metadata": {
        "id": "T-wN2iEWXAKW"
      }
    },
    {
      "cell_type": "markdown",
      "source": [
        "Across the board HuggingChat did poorly. I get into why below."
      ],
      "metadata": {
        "id": "YfAC688qZnhc"
      }
    },
    {
      "cell_type": "markdown",
      "source": [
        "### Less Parameters\n",
        "\n",
        "As described above in comparing the two model, LLaMA-2 and HuggingChat were both models that had 70 billion parameters which since GPT's training data is hidden we are not able to compare directly the two model's parameter count and but we lead to believe that HuggingChat will not have the ability to pick up linguistic nuances like GPT can."
      ],
      "metadata": {
        "id": "ou5oYfJw15Z1"
      }
    },
    {
      "cell_type": "markdown",
      "source": [
        "### Multilingual Training\n",
        "\n",
        "Even though GPT's multilingual training ratios to English were pretty poor, HuggingChat's was even far worse. This is probably why HuggingChat did significantly worse in detecting the sentiment of texts in non english languages compared to ChatGPT in the Heatmap."
      ],
      "metadata": {
        "id": "eUExee0y2ayx"
      }
    },
    {
      "cell_type": "markdown",
      "source": [
        "### Inference Power\n",
        "\n",
        "Another thing to consider and possible assume is that HuggingChat doesn't have as much compute power during inference time, which is likely why I had to keep making the tweets into smaller batches in the prompts and put the task prompt at the end. It's safe to assume that GPT has more compute power for inference time and therefore can keep context of 50 tweets while Hugging Chat cannot."
      ],
      "metadata": {
        "id": "duiHmvRV2yYW"
      }
    },
    {
      "cell_type": "markdown",
      "source": [
        "### Working with HugingChat\n",
        "\n",
        "For analyzing tweet sentiment in Arabic, HuggingChat was absolute garbage. I had to get ChatGPT's help in engineering a prompt for HuggingChat! After dozens of iterations, the only prompt that would actually get it to provide not a summary or translation of the tweets but an actual sentiment analysis was to cut the batch size into no greater than 25, use `prompt 5`, and lastly to put it at the end of the prompt, like this:\n",
        "\n",
        "In other words:\n",
        "```\n",
        "[tweets]\n",
        "[prompt 5]\n",
        "```\n",
        "\n",
        "Even then when it finally output a sentiment analysis it would often just spam the number \"1\" predicting that all tweets were positive but that was the only way I could get any result at all from HuggingChat in Arabic.\n",
        "\n",
        "Even with the randomized sample of the dataset, I still couldn't prevent HuggingChat from just spewing out \"0,1,0,1,0,1,etc\" for Italian and telling HuggingChat to explain it's reasoning. I would have to just keep applying the same prompt over and over, multiple times for each batch until finally HuggingChat would provide actual sentiment and not assuming a pattern. Here's an example:\n",
        "\n",
        "```\n",
        "Certo, ecco la lista di numeri con i loro corrispondenti indici di testo e il loro sentimento:\n",
        "\n",
        "{\n",
        "\"0\": 0, // Negativo\n",
        "\"1\": 1, // Positivo\n",
        "\"2\": 0, // Negativo\n",
        "\"3\": 1, // Positivo\n",
        "\"4\": 0, // Negativo\n",
        "\"5\": 1, // Positivo\n",
        "\"6\": 0, // Negativo\n",
        "\"7\": 1, // Positivo\n",
        "\"8\": 0, // Negativo\n",
        "\"9\": 1, // Positivo\n",
        "\"10\": 0, // Negativo\n",
        "```\n",
        "\n",
        "For the most part, if not in English, HuggingChat was a complete waste time and effort, and very difficult to work with for this particular task."
      ],
      "metadata": {
        "id": "jRqqBlj70MpE"
      }
    },
    {
      "cell_type": "markdown",
      "metadata": {
        "id": "kcGjnMv3Eo1c"
      },
      "source": [
        "# Convert ipynb to pdf\n",
        "\n",
        "1. Runtime → 'Run All' / 'Restart and Run All'\n",
        "2. Save notebook: File → Save\n",
        "2. Download: File → Download → 'Download .ipynb'\n",
        "3. Upload: click the Folder → 'Upload to Session Storage'\n",
        "4. Run cell block below\n",
        "4. Once the cell is done running, you'll see a pdf version of the document in the folders panel. Download that.\n",
        "    * Note - If you don't see the \"McIntosh_NLP_Homework4\" file, refresh the left panel by clicking the folder by clicking something else like the navicon symbol and the folder again."
      ]
    },
    {
      "cell_type": "code",
      "execution_count": 33,
      "metadata": {
        "id": "axPq0Otli-2g"
      },
      "outputs": [],
      "source": [
        "%%capture\n",
        "! pip install nbconvert\n",
        "! sudo apt-get install texlive-xetex texlive-fonts-recommended texlive-plain-generic\n",
        "! jupyter nbconvert --to pdf McIntosh_NLP_Homework4.ipynb"
      ]
    },
    {
      "cell_type": "markdown",
      "source": [
        "For assignment 4, this code block above does not work. It keeps showing random latex errors that are impossible to troubleshoot. This might be related to the multiple languages being present in this notebook."
      ],
      "metadata": {
        "id": "myLODUwJ79UU"
      }
    },
    {
      "cell_type": "code",
      "source": [],
      "metadata": {
        "id": "lHTQsOY2qxfX"
      },
      "execution_count": 25,
      "outputs": []
    }
  ]
}