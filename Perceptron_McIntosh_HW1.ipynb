{
  "nbformat": 4,
  "nbformat_minor": 0,
  "metadata": {
    "colab": {
      "name": "Perceptron_McIntosh_HW1.ipynb",
      "provenance": [],
      "collapsed_sections": [],
      "include_colab_link": true
    },
    "kernelspec": {
      "name": "python3",
      "display_name": "Python 3"
    },
    "language_info": {
      "name": "python"
    }
  },
  "cells": [
    {
      "cell_type": "markdown",
      "metadata": {
        "id": "view-in-github",
        "colab_type": "text"
      },
      "source": [
        "<a href=\"https://colab.research.google.com/github/williammcintosh/machine_learning_projects/blob/main/Perceptron_McIntosh_HW1.ipynb\" target=\"_parent\"><img src=\"https://colab.research.google.com/assets/colab-badge.svg\" alt=\"Open In Colab\"/></a>"
      ]
    },
    {
      "cell_type": "markdown",
      "source": [
        "# Perceptron\n",
        "\n",
        "## Will McIntosh"
      ],
      "metadata": {
        "id": "i0PpgzucUsac"
      }
    },
    {
      "metadata": {
        "id": "95ivcnayZtdV"
      },
      "cell_type": "markdown",
      "source": [
        "### Import libraries"
      ]
    },
    {
      "metadata": {
        "id": "-ynMP0dPZ3gg"
      },
      "cell_type": "code",
      "source": [
        "import pandas as pd\n",
        "import numpy as np\n",
        "import sys, os\n",
        "from sklearn import preprocessing\n",
        "from sklearn.metrics import confusion_matrix\n",
        "import matplotlib.pyplot as plt\n",
        "import seaborn as sns\n",
        "import time\n",
        "np.set_printoptions(threshold=sys.maxsize)\n",
        "%matplotlib inline"
      ],
      "execution_count": null,
      "outputs": []
    },
    {
      "cell_type": "markdown",
      "source": [
        "## Download MNIST Dataset from Google Drive"
      ],
      "metadata": {
        "id": "WcZNzh5JVIu0"
      }
    },
    {
      "cell_type": "markdown",
      "source": [
        "## Get the Datasets"
      ],
      "metadata": {
        "id": "E9ldxiDEeF9x"
      }
    },
    {
      "cell_type": "markdown",
      "source": [
        "This will download the datasets from a google drive link, but only if the datasets haven't already been downloaded."
      ],
      "metadata": {
        "id": "lRU53SrtpPGW"
      }
    },
    {
      "cell_type": "code",
      "source": [
        "if os.path.isfile(\"/content/mnist_train.csv\") == False:\n",
        "  !gdown --id 1JJGSIoxXtJLqXTZXEBiJJG5dp9zZDGGs\n",
        "\n",
        "if os.path.isfile(\"/content/mnist_test.csv\") == False:\n",
        "  !gdown --id 1HpG3GuQFiknf1uEq2BbffPNLNINh7otH"
      ],
      "metadata": {
        "id": "rgZMY-tFVNPA",
        "colab": {
          "base_uri": "https://localhost:8080/"
        },
        "outputId": "fb8ac1cb-3e0f-405e-9aee-25f4ea1a2ea1"
      },
      "execution_count": null,
      "outputs": [
        {
          "output_type": "stream",
          "name": "stdout",
          "text": [
            "/usr/local/lib/python3.7/dist-packages/gdown/cli.py:131: FutureWarning: Option `--id` was deprecated in version 4.3.1 and will be removed in 5.0. You don't need to pass it anymore to use a file ID.\n",
            "  category=FutureWarning,\n",
            "Downloading...\n",
            "From: https://drive.google.com/uc?id=1JJGSIoxXtJLqXTZXEBiJJG5dp9zZDGGs\n",
            "To: /content/mnist_train.csv\n",
            "100% 110M/110M [00:00<00:00, 120MB/s] \n",
            "/usr/local/lib/python3.7/dist-packages/gdown/cli.py:131: FutureWarning: Option `--id` was deprecated in version 4.3.1 and will be removed in 5.0. You don't need to pass it anymore to use a file ID.\n",
            "  category=FutureWarning,\n",
            "Downloading...\n",
            "From: https://drive.google.com/uc?id=1HpG3GuQFiknf1uEq2BbffPNLNINh7otH\n",
            "To: /content/mnist_test.csv\n",
            "100% 18.3M/18.3M [00:00<00:00, 194MB/s]\n"
          ]
        }
      ]
    },
    {
      "cell_type": "code",
      "source": [
        "train = pd.read_csv(\"/content/mnist_train.csv\")\n",
        "test = pd.read_csv(\"/content/mnist_test.csv\")"
      ],
      "metadata": {
        "id": "tc4_MRhN_MsG"
      },
      "execution_count": null,
      "outputs": []
    },
    {
      "cell_type": "markdown",
      "source": [
        "# Cleaning Up Dataset"
      ],
      "metadata": {
        "id": "0FekvvxUWdL7"
      }
    },
    {
      "cell_type": "code",
      "source": [
        "train.head()"
      ],
      "metadata": {
        "colab": {
          "base_uri": "https://localhost:8080/",
          "height": 235
        },
        "id": "7NvnLQxPXeVe",
        "outputId": "95673964-932d-418d-b0fd-b7be19aa1b94"
      },
      "execution_count": null,
      "outputs": [
        {
          "output_type": "execute_result",
          "data": {
            "text/plain": [
              "   label  1x1  1x2  1x3  1x4  1x5  1x6  1x7  1x8  1x9  ...  28x19  28x20  \\\n",
              "0      5    0    0    0    0    0    0    0    0    0  ...      0      0   \n",
              "1      0    0    0    0    0    0    0    0    0    0  ...      0      0   \n",
              "2      4    0    0    0    0    0    0    0    0    0  ...      0      0   \n",
              "3      1    0    0    0    0    0    0    0    0    0  ...      0      0   \n",
              "4      9    0    0    0    0    0    0    0    0    0  ...      0      0   \n",
              "\n",
              "   28x21  28x22  28x23  28x24  28x25  28x26  28x27  28x28  \n",
              "0      0      0      0      0      0      0      0      0  \n",
              "1      0      0      0      0      0      0      0      0  \n",
              "2      0      0      0      0      0      0      0      0  \n",
              "3      0      0      0      0      0      0      0      0  \n",
              "4      0      0      0      0      0      0      0      0  \n",
              "\n",
              "[5 rows x 785 columns]"
            ],
            "text/html": [
              "\n",
              "  <div id=\"df-c2382ea1-b790-45c3-80c8-34cc429fa719\">\n",
              "    <div class=\"colab-df-container\">\n",
              "      <div>\n",
              "<style scoped>\n",
              "    .dataframe tbody tr th:only-of-type {\n",
              "        vertical-align: middle;\n",
              "    }\n",
              "\n",
              "    .dataframe tbody tr th {\n",
              "        vertical-align: top;\n",
              "    }\n",
              "\n",
              "    .dataframe thead th {\n",
              "        text-align: right;\n",
              "    }\n",
              "</style>\n",
              "<table border=\"1\" class=\"dataframe\">\n",
              "  <thead>\n",
              "    <tr style=\"text-align: right;\">\n",
              "      <th></th>\n",
              "      <th>label</th>\n",
              "      <th>1x1</th>\n",
              "      <th>1x2</th>\n",
              "      <th>1x3</th>\n",
              "      <th>1x4</th>\n",
              "      <th>1x5</th>\n",
              "      <th>1x6</th>\n",
              "      <th>1x7</th>\n",
              "      <th>1x8</th>\n",
              "      <th>1x9</th>\n",
              "      <th>...</th>\n",
              "      <th>28x19</th>\n",
              "      <th>28x20</th>\n",
              "      <th>28x21</th>\n",
              "      <th>28x22</th>\n",
              "      <th>28x23</th>\n",
              "      <th>28x24</th>\n",
              "      <th>28x25</th>\n",
              "      <th>28x26</th>\n",
              "      <th>28x27</th>\n",
              "      <th>28x28</th>\n",
              "    </tr>\n",
              "  </thead>\n",
              "  <tbody>\n",
              "    <tr>\n",
              "      <th>0</th>\n",
              "      <td>5</td>\n",
              "      <td>0</td>\n",
              "      <td>0</td>\n",
              "      <td>0</td>\n",
              "      <td>0</td>\n",
              "      <td>0</td>\n",
              "      <td>0</td>\n",
              "      <td>0</td>\n",
              "      <td>0</td>\n",
              "      <td>0</td>\n",
              "      <td>...</td>\n",
              "      <td>0</td>\n",
              "      <td>0</td>\n",
              "      <td>0</td>\n",
              "      <td>0</td>\n",
              "      <td>0</td>\n",
              "      <td>0</td>\n",
              "      <td>0</td>\n",
              "      <td>0</td>\n",
              "      <td>0</td>\n",
              "      <td>0</td>\n",
              "    </tr>\n",
              "    <tr>\n",
              "      <th>1</th>\n",
              "      <td>0</td>\n",
              "      <td>0</td>\n",
              "      <td>0</td>\n",
              "      <td>0</td>\n",
              "      <td>0</td>\n",
              "      <td>0</td>\n",
              "      <td>0</td>\n",
              "      <td>0</td>\n",
              "      <td>0</td>\n",
              "      <td>0</td>\n",
              "      <td>...</td>\n",
              "      <td>0</td>\n",
              "      <td>0</td>\n",
              "      <td>0</td>\n",
              "      <td>0</td>\n",
              "      <td>0</td>\n",
              "      <td>0</td>\n",
              "      <td>0</td>\n",
              "      <td>0</td>\n",
              "      <td>0</td>\n",
              "      <td>0</td>\n",
              "    </tr>\n",
              "    <tr>\n",
              "      <th>2</th>\n",
              "      <td>4</td>\n",
              "      <td>0</td>\n",
              "      <td>0</td>\n",
              "      <td>0</td>\n",
              "      <td>0</td>\n",
              "      <td>0</td>\n",
              "      <td>0</td>\n",
              "      <td>0</td>\n",
              "      <td>0</td>\n",
              "      <td>0</td>\n",
              "      <td>...</td>\n",
              "      <td>0</td>\n",
              "      <td>0</td>\n",
              "      <td>0</td>\n",
              "      <td>0</td>\n",
              "      <td>0</td>\n",
              "      <td>0</td>\n",
              "      <td>0</td>\n",
              "      <td>0</td>\n",
              "      <td>0</td>\n",
              "      <td>0</td>\n",
              "    </tr>\n",
              "    <tr>\n",
              "      <th>3</th>\n",
              "      <td>1</td>\n",
              "      <td>0</td>\n",
              "      <td>0</td>\n",
              "      <td>0</td>\n",
              "      <td>0</td>\n",
              "      <td>0</td>\n",
              "      <td>0</td>\n",
              "      <td>0</td>\n",
              "      <td>0</td>\n",
              "      <td>0</td>\n",
              "      <td>...</td>\n",
              "      <td>0</td>\n",
              "      <td>0</td>\n",
              "      <td>0</td>\n",
              "      <td>0</td>\n",
              "      <td>0</td>\n",
              "      <td>0</td>\n",
              "      <td>0</td>\n",
              "      <td>0</td>\n",
              "      <td>0</td>\n",
              "      <td>0</td>\n",
              "    </tr>\n",
              "    <tr>\n",
              "      <th>4</th>\n",
              "      <td>9</td>\n",
              "      <td>0</td>\n",
              "      <td>0</td>\n",
              "      <td>0</td>\n",
              "      <td>0</td>\n",
              "      <td>0</td>\n",
              "      <td>0</td>\n",
              "      <td>0</td>\n",
              "      <td>0</td>\n",
              "      <td>0</td>\n",
              "      <td>...</td>\n",
              "      <td>0</td>\n",
              "      <td>0</td>\n",
              "      <td>0</td>\n",
              "      <td>0</td>\n",
              "      <td>0</td>\n",
              "      <td>0</td>\n",
              "      <td>0</td>\n",
              "      <td>0</td>\n",
              "      <td>0</td>\n",
              "      <td>0</td>\n",
              "    </tr>\n",
              "  </tbody>\n",
              "</table>\n",
              "<p>5 rows × 785 columns</p>\n",
              "</div>\n",
              "      <button class=\"colab-df-convert\" onclick=\"convertToInteractive('df-c2382ea1-b790-45c3-80c8-34cc429fa719')\"\n",
              "              title=\"Convert this dataframe to an interactive table.\"\n",
              "              style=\"display:none;\">\n",
              "        \n",
              "  <svg xmlns=\"http://www.w3.org/2000/svg\" height=\"24px\"viewBox=\"0 0 24 24\"\n",
              "       width=\"24px\">\n",
              "    <path d=\"M0 0h24v24H0V0z\" fill=\"none\"/>\n",
              "    <path d=\"M18.56 5.44l.94 2.06.94-2.06 2.06-.94-2.06-.94-.94-2.06-.94 2.06-2.06.94zm-11 1L8.5 8.5l.94-2.06 2.06-.94-2.06-.94L8.5 2.5l-.94 2.06-2.06.94zm10 10l.94 2.06.94-2.06 2.06-.94-2.06-.94-.94-2.06-.94 2.06-2.06.94z\"/><path d=\"M17.41 7.96l-1.37-1.37c-.4-.4-.92-.59-1.43-.59-.52 0-1.04.2-1.43.59L10.3 9.45l-7.72 7.72c-.78.78-.78 2.05 0 2.83L4 21.41c.39.39.9.59 1.41.59.51 0 1.02-.2 1.41-.59l7.78-7.78 2.81-2.81c.8-.78.8-2.07 0-2.86zM5.41 20L4 18.59l7.72-7.72 1.47 1.35L5.41 20z\"/>\n",
              "  </svg>\n",
              "      </button>\n",
              "      \n",
              "  <style>\n",
              "    .colab-df-container {\n",
              "      display:flex;\n",
              "      flex-wrap:wrap;\n",
              "      gap: 12px;\n",
              "    }\n",
              "\n",
              "    .colab-df-convert {\n",
              "      background-color: #E8F0FE;\n",
              "      border: none;\n",
              "      border-radius: 50%;\n",
              "      cursor: pointer;\n",
              "      display: none;\n",
              "      fill: #1967D2;\n",
              "      height: 32px;\n",
              "      padding: 0 0 0 0;\n",
              "      width: 32px;\n",
              "    }\n",
              "\n",
              "    .colab-df-convert:hover {\n",
              "      background-color: #E2EBFA;\n",
              "      box-shadow: 0px 1px 2px rgba(60, 64, 67, 0.3), 0px 1px 3px 1px rgba(60, 64, 67, 0.15);\n",
              "      fill: #174EA6;\n",
              "    }\n",
              "\n",
              "    [theme=dark] .colab-df-convert {\n",
              "      background-color: #3B4455;\n",
              "      fill: #D2E3FC;\n",
              "    }\n",
              "\n",
              "    [theme=dark] .colab-df-convert:hover {\n",
              "      background-color: #434B5C;\n",
              "      box-shadow: 0px 1px 3px 1px rgba(0, 0, 0, 0.15);\n",
              "      filter: drop-shadow(0px 1px 2px rgba(0, 0, 0, 0.3));\n",
              "      fill: #FFFFFF;\n",
              "    }\n",
              "  </style>\n",
              "\n",
              "      <script>\n",
              "        const buttonEl =\n",
              "          document.querySelector('#df-c2382ea1-b790-45c3-80c8-34cc429fa719 button.colab-df-convert');\n",
              "        buttonEl.style.display =\n",
              "          google.colab.kernel.accessAllowed ? 'block' : 'none';\n",
              "\n",
              "        async function convertToInteractive(key) {\n",
              "          const element = document.querySelector('#df-c2382ea1-b790-45c3-80c8-34cc429fa719');\n",
              "          const dataTable =\n",
              "            await google.colab.kernel.invokeFunction('convertToInteractive',\n",
              "                                                     [key], {});\n",
              "          if (!dataTable) return;\n",
              "\n",
              "          const docLinkHtml = 'Like what you see? Visit the ' +\n",
              "            '<a target=\"_blank\" href=https://colab.research.google.com/notebooks/data_table.ipynb>data table notebook</a>'\n",
              "            + ' to learn more about interactive tables.';\n",
              "          element.innerHTML = '';\n",
              "          dataTable['output_type'] = 'display_data';\n",
              "          await google.colab.output.renderOutput(dataTable, element);\n",
              "          const docLink = document.createElement('div');\n",
              "          docLink.innerHTML = docLinkHtml;\n",
              "          element.appendChild(docLink);\n",
              "        }\n",
              "      </script>\n",
              "    </div>\n",
              "  </div>\n",
              "  "
            ]
          },
          "metadata": {},
          "execution_count": 4
        }
      ]
    },
    {
      "cell_type": "code",
      "source": [
        "train.shape"
      ],
      "metadata": {
        "colab": {
          "base_uri": "https://localhost:8080/"
        },
        "id": "R0vYusFaoGcw",
        "outputId": "4a160444-193d-48b2-8a3d-07c3efcf796c"
      },
      "execution_count": null,
      "outputs": [
        {
          "output_type": "execute_result",
          "data": {
            "text/plain": [
              "(60000, 785)"
            ]
          },
          "metadata": {},
          "execution_count": 5
        }
      ]
    },
    {
      "cell_type": "code",
      "source": [
        "test.shape"
      ],
      "metadata": {
        "colab": {
          "base_uri": "https://localhost:8080/"
        },
        "id": "i7aMcA4A34DA",
        "outputId": "a4a1e9b8-d991-48a4-86e1-afb4c78ac6f4"
      },
      "execution_count": null,
      "outputs": [
        {
          "output_type": "execute_result",
          "data": {
            "text/plain": [
              "(10000, 785)"
            ]
          },
          "metadata": {},
          "execution_count": 6
        }
      ]
    },
    {
      "cell_type": "markdown",
      "source": [
        "## Get Label Vectors"
      ],
      "metadata": {
        "id": "IS_9pQaiped3"
      }
    },
    {
      "cell_type": "code",
      "source": [
        "# Gets the labeled data\n",
        "trainTrueLabels = train['label']\n",
        "testTrueLabels = test['label']\n",
        "train.drop(['label'], axis=1, inplace=True)\n",
        "test.drop(['label'], axis=1, inplace=True)"
      ],
      "metadata": {
        "id": "bR5YmPs5pgkA"
      },
      "execution_count": null,
      "outputs": []
    },
    {
      "cell_type": "markdown",
      "source": [
        "## Normalize Values"
      ],
      "metadata": {
        "id": "TsAadbRPbElU"
      }
    },
    {
      "cell_type": "code",
      "source": [
        "def NormalizeDF(funcDF):\n",
        "  x = funcDF.values #returns a numpy array\n",
        "  min_max_scaler = preprocessing.MinMaxScaler()\n",
        "  x_scaled = min_max_scaler.fit_transform(x)\n",
        "  return pd.DataFrame(x_scaled)\n",
        "\n",
        "# Normalizes dataset\n",
        "train = NormalizeDF(train)\n",
        "test = NormalizeDF(test)\n",
        "\n",
        "# Converting to a numpy array matrix\n",
        "train = train.to_numpy()\n",
        "test = test.to_numpy()"
      ],
      "metadata": {
        "id": "-rGzHqeKbC1I"
      },
      "execution_count": null,
      "outputs": []
    },
    {
      "cell_type": "markdown",
      "source": [
        "## Create Bias Column"
      ],
      "metadata": {
        "id": "8uogwLcCbAjO"
      }
    },
    {
      "cell_type": "code",
      "source": [
        "bias = np.negative(np.ones((train.shape[0], 1)))\n",
        "train = np.concatenate((bias, train), axis=1)\n",
        "bias = np.negative(np.ones((test.shape[0], 1)))\n",
        "test = np.concatenate((bias, test), axis=1)"
      ],
      "metadata": {
        "id": "W2Le7Iq9ZRKG"
      },
      "execution_count": null,
      "outputs": []
    },
    {
      "cell_type": "markdown",
      "source": [
        "# Calculating Loss"
      ],
      "metadata": {
        "id": "Pwa5g22tljqg"
      }
    },
    {
      "cell_type": "markdown",
      "source": [
        "## Helper Function"
      ],
      "metadata": {
        "id": "84ZcZf4_z0vL"
      }
    },
    {
      "cell_type": "code",
      "source": [
        "def Sigmoid(x):\n",
        "  return 1/(1 + np.exp(-x))"
      ],
      "metadata": {
        "id": "Vx99Vce4zxnD"
      },
      "execution_count": null,
      "outputs": []
    },
    {
      "cell_type": "markdown",
      "source": [
        "## Training"
      ],
      "metadata": {
        "id": "fcN0gvwIfCzR"
      }
    },
    {
      "cell_type": "code",
      "source": [
        "start_time = time.time()\n",
        "\n",
        "# This vector is used for the confusion matrix, counting predicted values\n",
        "testPredLabels = [1] * (test.shape[0])\n",
        "\n",
        "# Creating the perceptron of random weights\n",
        "W = np.random.uniform(-0.05,0.05,size=(train.shape[1],10))\n",
        "\n",
        "# Iterating through the dataset\n",
        "trainingAccuracies = []\n",
        "testingAccuracies = []\n",
        "\n",
        "# Parameters\n",
        "eta = 0.001\n",
        "epochCount = 70\n",
        "\n",
        "for i in range(epochCount):\n",
        "\n",
        "  # For plotting the training accuracy\n",
        "  trainingCorrect = 0\n",
        "\n",
        "  # Iterating through the training dataset\n",
        "  for j, x in enumerate(train):\n",
        "\n",
        "    # Create the x vector (row from training data)\n",
        "    x = x.reshape((1,785))\n",
        "\n",
        "    # Create the prediction vector (input applied to the weights)\n",
        "    y = Sigmoid(np.dot(x,W)).reshape(10)\n",
        "\n",
        "    # the label for this datapoint\n",
        "    targetVal = trainTrueLabels[j]\n",
        "\n",
        "    # Gets the pred value by finding the highest value\n",
        "    predVal = np.argmax(y)\n",
        "\n",
        "    if predVal == targetVal:\n",
        "      trainingCorrect += 1\n",
        "\n",
        "    # Creates a boolean vector, subtracts one from the target value index\n",
        "    y[targetVal] -= 1\n",
        "    y = y.reshape((10,1))\n",
        "\n",
        "    # Delta weights    \n",
        "    dW = np.dot(eta * y, x).T\n",
        "\n",
        "    # Update weights\n",
        "    W -= dW\n",
        "\n",
        "\n",
        "  # For plotting the test accuracy\n",
        "  testingCorrect = 0\n",
        "\n",
        "  # Iterating through the test dataset\n",
        "  for j, x in enumerate(test):\n",
        "    \n",
        "    # Create the x vector (row from training data)\n",
        "    x = x.reshape((1,785))\n",
        "\n",
        "    # Create the y vector (prediction vector, input applied to the weights)\n",
        "    y = np.dot(x,W).reshape(10)\n",
        "\n",
        "    # the label for this datapoint\n",
        "    targetVal = testTrueLabels[j]\n",
        "\n",
        "    # Get pred value by finding the highest value\n",
        "    predVal = np.argmax(y)\n",
        "\n",
        "    # Increases counter to keep track of accuracy\n",
        "    if predVal == targetVal:\n",
        "      testingCorrect += 1\n",
        "    \n",
        "    # Stores the predicted value in the test pred vector for confusion matrix\n",
        "    testPredLabels[j] = predVal\n",
        "\n",
        "  # Adding accuracies to the list for future plotting\n",
        "  trainingAccuracies.append(trainingCorrect/train.shape[0])\n",
        "  testingAccuracies.append(testingCorrect/test.shape[0])\n",
        "\n",
        "print(\"--- %s seconds ---\" % (time.time() - start_time))"
      ],
      "metadata": {
        "colab": {
          "base_uri": "https://localhost:8080/"
        },
        "id": "4uVbMfiYf1Np",
        "outputId": "04c11689-a423-43ba-f525-3f1e6c066f7c"
      },
      "execution_count": null,
      "outputs": [
        {
          "output_type": "stream",
          "name": "stdout",
          "text": [
            "--- 252.03256249427795 seconds ---\n"
          ]
        }
      ]
    },
    {
      "cell_type": "markdown",
      "source": [
        "# Plotting Accuracy"
      ],
      "metadata": {
        "id": "g1w7ox9VfhEz"
      }
    },
    {
      "cell_type": "code",
      "source": [
        "sns.set(rc = {'figure.figsize':(12,12)})  #Edits size of chart\n",
        "plt.plot(trainingAccuracies, label = \"Train\")\n",
        "plt.plot(testingAccuracies, label = \"Test\")\n",
        "plt.title(\"Training and Test Accuracies\")\n",
        "plt.xlabel('Epoch')\n",
        "plt.ylabel('Accuracy %')\n",
        "plt.legend()\n",
        "plt.show()"
      ],
      "metadata": {
        "id": "GHLsyNAT6Hus",
        "colab": {
          "base_uri": "https://localhost:8080/"
        },
        "outputId": "2a7ba533-1db3-4f61-8110-dcb949fd11a6"
      },
      "execution_count": null,
      "outputs": [
        {
          "output_type": "display_data",
          "data": {
            "text/plain": [
              "<Figure size 864x864 with 1 Axes>"
            ],
            "image/png": "[encoded data removed]"
          },
          "metadata": {}
        }
      ]
    },
    {
      "cell_type": "markdown",
      "source": [
        "# Heatmap"
      ],
      "metadata": {
        "id": "HVLv-KEDgN8P"
      }
    },
    {
      "cell_type": "code",
      "source": [
        "sns.set(rc = {'figure.figsize':(12,12)})  #Edits size of chart\n",
        "cm = confusion_matrix(testTrueLabels, testPredLabels)\n",
        "sns.heatmap(cm, annot=True, linewidths=1, square=True)"
      ],
      "metadata": {
        "colab": {
          "base_uri": "https://localhost:8080/",
          "height": 706
        },
        "id": "IHZUKCR3gTKD",
        "outputId": "ceb1ab9d-4a88-4604-b82e-0783b47baa70"
      },
      "execution_count": null,
      "outputs": [
        {
          "output_type": "execute_result",
          "data": {
            "text/plain": [
              "<matplotlib.axes._subplots.AxesSubplot at 0x7f2a206e3b50>"
            ]
          },
          "metadata": {},
          "execution_count": 12
        },
        {
          "output_type": "display_data",
          "data": {
            "text/plain": [
              "<Figure size 864x864 with 2 Axes>"
            ],
            "image/png": "[encoded data removed]"
          },
          "metadata": {}
        }
      ]
    },
    {
      "cell_type": "code",
      "source": [
        ""
      ],
      "metadata": {
        "id": "xjNXQC5kocAV"
      },
      "execution_count": null,
      "outputs": []
    }
  ]
}