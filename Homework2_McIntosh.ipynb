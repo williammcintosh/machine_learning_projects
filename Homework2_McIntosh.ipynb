{
  "nbformat": 4,
  "nbformat_minor": 0,
  "metadata": {
    "colab": {
      "name": "Homework2_McIntosh.ipynb",
      "provenance": [],
      "authorship_tag": "ABX9TyMG9QPAJyTTr+QZ/PzOjBLv",
      "include_colab_link": true
    },
    "kernelspec": {
      "name": "python3",
      "display_name": "Python 3"
    },
    "language_info": {
      "name": "python"
    }
  },
  "cells": [
    {
      "cell_type": "markdown",
      "metadata": {
        "id": "view-in-github",
        "colab_type": "text"
      },
      "source": [
        "<a href=\"https://colab.research.google.com/github/williammcintosh/machine_learning_projects/blob/main/Homework2_McIntosh.ipynb\" target=\"_parent\"><img src=\"https://colab.research.google.com/assets/colab-badge.svg\" alt=\"Open In Colab\"/></a>"
      ]
    },
    {
      "cell_type": "markdown",
      "source": [
        "# McIntosh\n",
        "\n",
        "## CS545 Homework2 Gradient Descent Problem"
      ],
      "metadata": {
        "id": "J6RFFkxTreL1"
      }
    },
    {
      "cell_type": "code",
      "execution_count": 2,
      "metadata": {
        "id": "2N29yQtGpj7P"
      },
      "outputs": [],
      "source": [
        "import numpy as np\n",
        "import random"
      ]
    },
    {
      "cell_type": "code",
      "source": [
        "# Parameters\n",
        "eta = 0.001\n",
        "\n",
        "# Number of iterations\n",
        "steps = 500\n",
        "trial = 10\n",
        "\n",
        "print(f\"Eta = {eta}\")\n",
        "print(\"_\"*30)\n",
        "\n",
        "for i in range(trial):\n",
        "\n",
        "  # Initialize x\n",
        "  x_1 = random.uniform(-10, 10)\n",
        "  x_2 = random.uniform(-10, 10)\n",
        "  x = np.array((x_1, x_2))\n",
        "\n",
        "  for j in range(steps):\n",
        "\n",
        "    # Calculate error\n",
        "    ex_1 = 4*(x[0]-1)\n",
        "    ex_2 = 6*(x[1]+4)\n",
        "\n",
        "    # Calcuate update\n",
        "    dx = eta * np.array((ex_1, ex_2))\n",
        "\n",
        "    # Update\n",
        "    x -= dx\n",
        "\n",
        "  print(f\"Trial {i+1} \\tx = {np.round(x, decimals=4)}\")\n"
      ],
      "metadata": {
        "colab": {
          "base_uri": "https://localhost:8080/"
        },
        "id": "GHJd3laxqBrA",
        "outputId": "cfa0b27b-22f0-49c0-c895-823bd695a7ac"
      },
      "execution_count": 30,
      "outputs": [
        {
          "output_type": "stream",
          "name": "stdout",
          "text": [
            "Eta = 0.001\n",
            "______________________________\n",
            "Trial 1 \tx = [-0.3177 -4.2607]\n",
            "Trial 2 \tx = [ 0.7221 -3.447 ]\n",
            "Trial 3 \tx = [ 0.6888 -3.4445]\n",
            "Trial 4 \tx = [ 0.2316 -3.5332]\n",
            "Trial 5 \tx = [ 1.1958 -4.0779]\n",
            "Trial 6 \tx = [ 0.171  -3.3998]\n",
            "Trial 7 \tx = [ 1.2293 -4.0958]\n",
            "Trial 8 \tx = [ 1.0398 -3.401 ]\n",
            "Trial 9 \tx = [-0.2827 -3.4552]\n",
            "Trial 10 \tx = [-0.2563 -3.4333]\n"
          ]
        }
      ]
    },
    {
      "cell_type": "code",
      "source": [
        ""
      ],
      "metadata": {
        "id": "5I_ErcV9qlUF"
      },
      "execution_count": null,
      "outputs": []
    }
  ]
}