{
  "nbformat": 4,
  "nbformat_minor": 0,
  "metadata": {
    "colab": {
      "name": "Multilayered_Perceptron_McIntosh_HW1.ipynb",
      "provenance": [],
      "collapsed_sections": [],
      "include_colab_link": true
    },
    "kernelspec": {
      "name": "python3",
      "display_name": "Python 3"
    },
    "language_info": {
      "name": "python"
    }
  },
  "cells": [
    {
      "cell_type": "markdown",
      "metadata": {
        "id": "view-in-github",
        "colab_type": "text"
      },
      "source": [
        "<a href=\"https://colab.research.google.com/github/williammcintosh/machine_learning_projects/blob/main/Multilayered_Perceptron_McIntosh_HW1.ipynb\" target=\"_parent\"><img src=\"https://colab.research.google.com/assets/colab-badge.svg\" alt=\"Open In Colab\"/></a>"
      ]
    },
    {
      "cell_type": "markdown",
      "source": [
        "# Multilayered Perceptron\n",
        "\n",
        "## Will McIntosh"
      ],
      "metadata": {
        "id": "i0PpgzucUsac"
      }
    },
    {
      "cell_type": "markdown",
      "source": [
        "## Methodology"
      ],
      "metadata": {
        "id": "rCLT9WPLF5XY"
      }
    },
    {
      "cell_type": "markdown",
      "source": [
        "### Components"
      ],
      "metadata": {
        "id": "bryX-8GOF7nf"
      }
    },
    {
      "cell_type": "markdown",
      "source": [
        "The Input layer\n",
        "\n",
        "$x_{785,1} =\n",
        " \\begin{pmatrix}\n",
        "  -1      \\\\\n",
        "  x_{2,1} \\\\\n",
        "  x_{3,1} \\\\\n",
        "  x_{4,1} \\\\\n",
        "  \\vdots  \\\\\n",
        "  x_{785,1}\n",
        " \\end{pmatrix}$\n",
        "\n",
        "The hidden layer\n",
        "\n",
        "$h_{n+1,1} =\n",
        " \\begin{pmatrix}\n",
        "  -1      \\\\\n",
        "  h_{2,1} \\\\\n",
        "  h_{3,1} \\\\\n",
        "  h_{4,1} \\\\\n",
        "  \\vdots  \\\\\n",
        "  h_{n+1,1}\n",
        " \\end{pmatrix}$\n",
        "\n",
        "The weights between the input and hidden layers\n",
        "\n",
        "$W1_{785,n} =\n",
        " \\begin{pmatrix}\n",
        "  W1_{1,1} & W1_{1,2} & W1_{1,3} & \\cdots & W1_{1,n} \\\\\n",
        "  W1_{2,1} & W1_{2,2} & W1_{2,3} & \\cdots & W1_{2,n} \\\\\n",
        "  W1_{3,1} & W1_{3,2} & W1_{3,3} & \\cdots & W1_{3,n} \\\\\n",
        "  \\vdots  & \\vdots & \\vdots & \\ddots & \\vdots  \\\\\n",
        "  W1_{785,1} & W1_{785,2} & W1_{785,3} & \\cdots & W1_{785,n}\n",
        " \\end{pmatrix}$\n",
        "\n",
        "The weights between the hidden and output layers\n",
        "\n",
        "$W2_{n+1,10} =\n",
        " \\begin{pmatrix}\n",
        "  W2_{1,1} & W2_{1,2} & W2_{1,3} & \\cdots & W2_{1,10} \\\\\n",
        "  W2_{2,1} & W2_{2,2} & W2_{2,3} & \\cdots & W2_{2,10} \\\\\n",
        "  W2_{3,1} & W2_{3,2} & W2_{3,3} & \\cdots & W2_{3,10} \\\\\n",
        "  \\vdots  & \\vdots & \\vdots & \\ddots & \\vdots  \\\\\n",
        "  W2_{n+1,1} & W2_{n+1,2} & W2_{n+1,3} & \\cdots & W2_{n+1,10}\n",
        " \\end{pmatrix}$\n",
        "\n",
        "The output layer\n",
        "\n",
        "$y_{10,1} =\n",
        " \\begin{pmatrix}\n",
        "  y_{1,1}      \\\\\n",
        "  y_{2,1} \\\\\n",
        "  y_{3,1} \\\\\n",
        "  y_{4,1} \\\\\n",
        "  \\vdots  \\\\\n",
        "  y_{10,1}\n",
        " \\end{pmatrix}$\n",
        "\n",
        "The target vector where the target is the number 3, or the 4th index\n",
        "\n",
        "$t_{10,1} =\n",
        " \\begin{pmatrix}\n",
        "  0.1      \\\\\n",
        "  0.1 \\\\\n",
        "  0.1 \\\\\n",
        "  0.9 \\\\\n",
        "  \\vdots  \\\\\n",
        "  y_{10,1}\n",
        " \\end{pmatrix}$"
      ],
      "metadata": {
        "id": "m18fvTNqKrqL"
      }
    },
    {
      "cell_type": "markdown",
      "source": [
        "### Forward Process"
      ],
      "metadata": {
        "id": "20IhB2LkQbSw"
      }
    },
    {
      "cell_type": "markdown",
      "source": [
        "#### Create Layers\n",
        "\n",
        "> Create the hidden layer with the bias node vector\n",
        "\n",
        "> * $h = Sigmoid((x \\cdot W1) + B1)$\n",
        "\n",
        "> Create the output layer with the bias node vector\n",
        "\n",
        "> * $y = Sigmoid((h \\cdot W2) + B2)$"
      ],
      "metadata": {
        "id": "SiVng_rlQfDr"
      }
    },
    {
      "cell_type": "markdown",
      "source": [
        "### Backpropagation"
      ],
      "metadata": {
        "id": "ehgau6H9Gd7T"
      }
    },
    {
      "cell_type": "markdown",
      "source": [
        "#### Calculate error terms\n",
        "\n",
        "> Formula between hidden and output layers\n",
        ">\n",
        "> * $ \\delta_{k} = o_{k}(1-o_{k})(t_{k}-o_{k})$\n",
        ">\n",
        "> Using linear algebra\n",
        ">\n",
        "> * $ eW2 = y \\otimes (I-y) \\otimes (t-y)$\n",
        "\n",
        "> Formula between input and hidden layers\n",
        ">\n",
        "> * $ \\delta_{j} = h_{j}(1-h_{j})(\\sum W_{jk}\\delta_{jk})$\n",
        ">\n",
        "> Using linear algebra\n",
        ">\n",
        "> * $ eW1 = h \\otimes (I-h) \\otimes (W2 \\cdot eW2)$\n",
        "\n",
        "#### Calculate Delta Weights\n",
        "\n",
        "> Formula between hidden and output layers\n",
        ">\n",
        "> * $\\Delta W_{kj} = \\eta \\delta_{k} h_{j} + \\alpha \\Delta W_{kj}^{t-1}$\n",
        ">\n",
        "> Using linear algebra where $PdW2$ is the previous $dW2$\n",
        ">\n",
        "> * $dW2 = (\\eta(eW2) \\cdot h^T + (\\alpha(PdW2))^T$\n",
        "\n",
        "> Formula between input and hidden layers\n",
        ">\n",
        "> * $\\Delta W_{ji} = \\eta \\delta_{k} h_{i} + \\alpha \\Delta W_{ji}^{t-1}$\n",
        ">\n",
        "> Using linear algebra where $PdW2$ is the previous $dW2$\n",
        ">\n",
        "> * $dW1 = (\\eta(eW1) \\cdot h^T + (\\alpha(PdW1))^T$"
      ],
      "metadata": {
        "id": "JyPkzhIRGrNr"
      }
    },
    {
      "metadata": {
        "id": "95ivcnayZtdV"
      },
      "cell_type": "markdown",
      "source": [
        "### Import libraries"
      ]
    },
    {
      "metadata": {
        "id": "-ynMP0dPZ3gg"
      },
      "cell_type": "code",
      "source": [
        "import pandas as pd\n",
        "import numpy as np\n",
        "import sys, os\n",
        "from sklearn import preprocessing\n",
        "from sklearn.metrics import confusion_matrix\n",
        "import matplotlib.pyplot as plt\n",
        "import seaborn as sns\n",
        "import time\n",
        "from sklearn.model_selection import train_test_split\n",
        "np.set_printoptions(threshold=sys.maxsize)\n",
        "%matplotlib inline"
      ],
      "execution_count": 141,
      "outputs": []
    },
    {
      "cell_type": "markdown",
      "source": [
        "## Download MNIST Dataset from Google Drive"
      ],
      "metadata": {
        "id": "WcZNzh5JVIu0"
      }
    },
    {
      "cell_type": "markdown",
      "source": [
        "## Get the Datasets"
      ],
      "metadata": {
        "id": "E9ldxiDEeF9x"
      }
    },
    {
      "cell_type": "markdown",
      "source": [
        "This will download the datasets from a google drive link, but only if the datasets haven't already been downloaded."
      ],
      "metadata": {
        "id": "lRU53SrtpPGW"
      }
    },
    {
      "cell_type": "code",
      "source": [
        "if os.path.isfile(\"/content/mnist_train.csv\") == False:\n",
        "  !gdown --id 1JJGSIoxXtJLqXTZXEBiJJG5dp9zZDGGs\n",
        "\n",
        "if os.path.isfile(\"/content/mnist_test.csv\") == False:\n",
        "  !gdown --id 1HpG3GuQFiknf1uEq2BbffPNLNINh7otH"
      ],
      "metadata": {
        "id": "rgZMY-tFVNPA"
      },
      "execution_count": 142,
      "outputs": []
    },
    {
      "cell_type": "code",
      "source": [
        "train = pd.read_csv(\"/content/mnist_train.csv\")\n",
        "test = pd.read_csv(\"/content/mnist_test.csv\")"
      ],
      "metadata": {
        "id": "tc4_MRhN_MsG"
      },
      "execution_count": 143,
      "outputs": []
    },
    {
      "cell_type": "markdown",
      "source": [
        "# Cleaning Up Dataset"
      ],
      "metadata": {
        "id": "0FekvvxUWdL7"
      }
    },
    {
      "cell_type": "code",
      "source": [
        "train.head()"
      ],
      "metadata": {
        "colab": {
          "base_uri": "https://localhost:8080/",
          "height": 235
        },
        "id": "7NvnLQxPXeVe",
        "outputId": "0c75270a-432b-4f7d-b807-71f9f6b35b5d"
      },
      "execution_count": 144,
      "outputs": [
        {
          "output_type": "execute_result",
          "data": {
            "text/plain": [
              "   label  1x1  1x2  1x3  1x4  1x5  1x6  1x7  1x8  1x9  ...  28x19  28x20  \\\n",
              "0      5    0    0    0    0    0    0    0    0    0  ...      0      0   \n",
              "1      0    0    0    0    0    0    0    0    0    0  ...      0      0   \n",
              "2      4    0    0    0    0    0    0    0    0    0  ...      0      0   \n",
              "3      1    0    0    0    0    0    0    0    0    0  ...      0      0   \n",
              "4      9    0    0    0    0    0    0    0    0    0  ...      0      0   \n",
              "\n",
              "   28x21  28x22  28x23  28x24  28x25  28x26  28x27  28x28  \n",
              "0      0      0      0      0      0      0      0      0  \n",
              "1      0      0      0      0      0      0      0      0  \n",
              "2      0      0      0      0      0      0      0      0  \n",
              "3      0      0      0      0      0      0      0      0  \n",
              "4      0      0      0      0      0      0      0      0  \n",
              "\n",
              "[5 rows x 785 columns]"
            ],
            "text/html": [
              "\n",
              "  <div id=\"df-31faad95-102c-4380-976a-1b86391fd944\">\n",
              "    <div class=\"colab-df-container\">\n",
              "      <div>\n",
              "<style scoped>\n",
              "    .dataframe tbody tr th:only-of-type {\n",
              "        vertical-align: middle;\n",
              "    }\n",
              "\n",
              "    .dataframe tbody tr th {\n",
              "        vertical-align: top;\n",
              "    }\n",
              "\n",
              "    .dataframe thead th {\n",
              "        text-align: right;\n",
              "    }\n",
              "</style>\n",
              "<table border=\"1\" class=\"dataframe\">\n",
              "  <thead>\n",
              "    <tr style=\"text-align: right;\">\n",
              "      <th></th>\n",
              "      <th>label</th>\n",
              "      <th>1x1</th>\n",
              "      <th>1x2</th>\n",
              "      <th>1x3</th>\n",
              "      <th>1x4</th>\n",
              "      <th>1x5</th>\n",
              "      <th>1x6</th>\n",
              "      <th>1x7</th>\n",
              "      <th>1x8</th>\n",
              "      <th>1x9</th>\n",
              "      <th>...</th>\n",
              "      <th>28x19</th>\n",
              "      <th>28x20</th>\n",
              "      <th>28x21</th>\n",
              "      <th>28x22</th>\n",
              "      <th>28x23</th>\n",
              "      <th>28x24</th>\n",
              "      <th>28x25</th>\n",
              "      <th>28x26</th>\n",
              "      <th>28x27</th>\n",
              "      <th>28x28</th>\n",
              "    </tr>\n",
              "  </thead>\n",
              "  <tbody>\n",
              "    <tr>\n",
              "      <th>0</th>\n",
              "      <td>5</td>\n",
              "      <td>0</td>\n",
              "      <td>0</td>\n",
              "      <td>0</td>\n",
              "      <td>0</td>\n",
              "      <td>0</td>\n",
              "      <td>0</td>\n",
              "      <td>0</td>\n",
              "      <td>0</td>\n",
              "      <td>0</td>\n",
              "      <td>...</td>\n",
              "      <td>0</td>\n",
              "      <td>0</td>\n",
              "      <td>0</td>\n",
              "      <td>0</td>\n",
              "      <td>0</td>\n",
              "      <td>0</td>\n",
              "      <td>0</td>\n",
              "      <td>0</td>\n",
              "      <td>0</td>\n",
              "      <td>0</td>\n",
              "    </tr>\n",
              "    <tr>\n",
              "      <th>1</th>\n",
              "      <td>0</td>\n",
              "      <td>0</td>\n",
              "      <td>0</td>\n",
              "      <td>0</td>\n",
              "      <td>0</td>\n",
              "      <td>0</td>\n",
              "      <td>0</td>\n",
              "      <td>0</td>\n",
              "      <td>0</td>\n",
              "      <td>0</td>\n",
              "      <td>...</td>\n",
              "      <td>0</td>\n",
              "      <td>0</td>\n",
              "      <td>0</td>\n",
              "      <td>0</td>\n",
              "      <td>0</td>\n",
              "      <td>0</td>\n",
              "      <td>0</td>\n",
              "      <td>0</td>\n",
              "      <td>0</td>\n",
              "      <td>0</td>\n",
              "    </tr>\n",
              "    <tr>\n",
              "      <th>2</th>\n",
              "      <td>4</td>\n",
              "      <td>0</td>\n",
              "      <td>0</td>\n",
              "      <td>0</td>\n",
              "      <td>0</td>\n",
              "      <td>0</td>\n",
              "      <td>0</td>\n",
              "      <td>0</td>\n",
              "      <td>0</td>\n",
              "      <td>0</td>\n",
              "      <td>...</td>\n",
              "      <td>0</td>\n",
              "      <td>0</td>\n",
              "      <td>0</td>\n",
              "      <td>0</td>\n",
              "      <td>0</td>\n",
              "      <td>0</td>\n",
              "      <td>0</td>\n",
              "      <td>0</td>\n",
              "      <td>0</td>\n",
              "      <td>0</td>\n",
              "    </tr>\n",
              "    <tr>\n",
              "      <th>3</th>\n",
              "      <td>1</td>\n",
              "      <td>0</td>\n",
              "      <td>0</td>\n",
              "      <td>0</td>\n",
              "      <td>0</td>\n",
              "      <td>0</td>\n",
              "      <td>0</td>\n",
              "      <td>0</td>\n",
              "      <td>0</td>\n",
              "      <td>0</td>\n",
              "      <td>...</td>\n",
              "      <td>0</td>\n",
              "      <td>0</td>\n",
              "      <td>0</td>\n",
              "      <td>0</td>\n",
              "      <td>0</td>\n",
              "      <td>0</td>\n",
              "      <td>0</td>\n",
              "      <td>0</td>\n",
              "      <td>0</td>\n",
              "      <td>0</td>\n",
              "    </tr>\n",
              "    <tr>\n",
              "      <th>4</th>\n",
              "      <td>9</td>\n",
              "      <td>0</td>\n",
              "      <td>0</td>\n",
              "      <td>0</td>\n",
              "      <td>0</td>\n",
              "      <td>0</td>\n",
              "      <td>0</td>\n",
              "      <td>0</td>\n",
              "      <td>0</td>\n",
              "      <td>0</td>\n",
              "      <td>...</td>\n",
              "      <td>0</td>\n",
              "      <td>0</td>\n",
              "      <td>0</td>\n",
              "      <td>0</td>\n",
              "      <td>0</td>\n",
              "      <td>0</td>\n",
              "      <td>0</td>\n",
              "      <td>0</td>\n",
              "      <td>0</td>\n",
              "      <td>0</td>\n",
              "    </tr>\n",
              "  </tbody>\n",
              "</table>\n",
              "<p>5 rows × 785 columns</p>\n",
              "</div>\n",
              "      <button class=\"colab-df-convert\" onclick=\"convertToInteractive('df-31faad95-102c-4380-976a-1b86391fd944')\"\n",
              "              title=\"Convert this dataframe to an interactive table.\"\n",
              "              style=\"display:none;\">\n",
              "        \n",
              "  <svg xmlns=\"http://www.w3.org/2000/svg\" height=\"24px\"viewBox=\"0 0 24 24\"\n",
              "       width=\"24px\">\n",
              "    <path d=\"M0 0h24v24H0V0z\" fill=\"none\"/>\n",
              "    <path d=\"M18.56 5.44l.94 2.06.94-2.06 2.06-.94-2.06-.94-.94-2.06-.94 2.06-2.06.94zm-11 1L8.5 8.5l.94-2.06 2.06-.94-2.06-.94L8.5 2.5l-.94 2.06-2.06.94zm10 10l.94 2.06.94-2.06 2.06-.94-2.06-.94-.94-2.06-.94 2.06-2.06.94z\"/><path d=\"M17.41 7.96l-1.37-1.37c-.4-.4-.92-.59-1.43-.59-.52 0-1.04.2-1.43.59L10.3 9.45l-7.72 7.72c-.78.78-.78 2.05 0 2.83L4 21.41c.39.39.9.59 1.41.59.51 0 1.02-.2 1.41-.59l7.78-7.78 2.81-2.81c.8-.78.8-2.07 0-2.86zM5.41 20L4 18.59l7.72-7.72 1.47 1.35L5.41 20z\"/>\n",
              "  </svg>\n",
              "      </button>\n",
              "      \n",
              "  <style>\n",
              "    .colab-df-container {\n",
              "      display:flex;\n",
              "      flex-wrap:wrap;\n",
              "      gap: 12px;\n",
              "    }\n",
              "\n",
              "    .colab-df-convert {\n",
              "      background-color: #E8F0FE;\n",
              "      border: none;\n",
              "      border-radius: 50%;\n",
              "      cursor: pointer;\n",
              "      display: none;\n",
              "      fill: #1967D2;\n",
              "      height: 32px;\n",
              "      padding: 0 0 0 0;\n",
              "      width: 32px;\n",
              "    }\n",
              "\n",
              "    .colab-df-convert:hover {\n",
              "      background-color: #E2EBFA;\n",
              "      box-shadow: 0px 1px 2px rgba(60, 64, 67, 0.3), 0px 1px 3px 1px rgba(60, 64, 67, 0.15);\n",
              "      fill: #174EA6;\n",
              "    }\n",
              "\n",
              "    [theme=dark] .colab-df-convert {\n",
              "      background-color: #3B4455;\n",
              "      fill: #D2E3FC;\n",
              "    }\n",
              "\n",
              "    [theme=dark] .colab-df-convert:hover {\n",
              "      background-color: #434B5C;\n",
              "      box-shadow: 0px 1px 3px 1px rgba(0, 0, 0, 0.15);\n",
              "      filter: drop-shadow(0px 1px 2px rgba(0, 0, 0, 0.3));\n",
              "      fill: #FFFFFF;\n",
              "    }\n",
              "  </style>\n",
              "\n",
              "      <script>\n",
              "        const buttonEl =\n",
              "          document.querySelector('#df-31faad95-102c-4380-976a-1b86391fd944 button.colab-df-convert');\n",
              "        buttonEl.style.display =\n",
              "          google.colab.kernel.accessAllowed ? 'block' : 'none';\n",
              "\n",
              "        async function convertToInteractive(key) {\n",
              "          const element = document.querySelector('#df-31faad95-102c-4380-976a-1b86391fd944');\n",
              "          const dataTable =\n",
              "            await google.colab.kernel.invokeFunction('convertToInteractive',\n",
              "                                                     [key], {});\n",
              "          if (!dataTable) return;\n",
              "\n",
              "          const docLinkHtml = 'Like what you see? Visit the ' +\n",
              "            '<a target=\"_blank\" href=https://colab.research.google.com/notebooks/data_table.ipynb>data table notebook</a>'\n",
              "            + ' to learn more about interactive tables.';\n",
              "          element.innerHTML = '';\n",
              "          dataTable['output_type'] = 'display_data';\n",
              "          await google.colab.output.renderOutput(dataTable, element);\n",
              "          const docLink = document.createElement('div');\n",
              "          docLink.innerHTML = docLinkHtml;\n",
              "          element.appendChild(docLink);\n",
              "        }\n",
              "      </script>\n",
              "    </div>\n",
              "  </div>\n",
              "  "
            ]
          },
          "metadata": {},
          "execution_count": 144
        }
      ]
    },
    {
      "cell_type": "code",
      "source": [
        "train.shape"
      ],
      "metadata": {
        "colab": {
          "base_uri": "https://localhost:8080/"
        },
        "id": "R0vYusFaoGcw",
        "outputId": "7e13d274-d2db-45ce-9bbb-09767be4113c"
      },
      "execution_count": 145,
      "outputs": [
        {
          "output_type": "execute_result",
          "data": {
            "text/plain": [
              "(60000, 785)"
            ]
          },
          "metadata": {},
          "execution_count": 145
        }
      ]
    },
    {
      "cell_type": "code",
      "source": [
        "test.shape"
      ],
      "metadata": {
        "colab": {
          "base_uri": "https://localhost:8080/"
        },
        "id": "i7aMcA4A34DA",
        "outputId": "2abb7bd5-c668-4363-f05f-23de9e69cde7"
      },
      "execution_count": 146,
      "outputs": [
        {
          "output_type": "execute_result",
          "data": {
            "text/plain": [
              "(10000, 785)"
            ]
          },
          "metadata": {},
          "execution_count": 146
        }
      ]
    },
    {
      "cell_type": "markdown",
      "source": [
        "## Get Label Vectors"
      ],
      "metadata": {
        "id": "IS_9pQaiped3"
      }
    },
    {
      "cell_type": "code",
      "source": [
        "# Gets the labeled data\n",
        "y = trainTrueLabels = train['label']\n",
        "testTrueLabels = test['label']\n",
        "train.drop(['label'], axis=1, inplace=True)\n",
        "test.drop(['label'], axis=1, inplace=True)"
      ],
      "metadata": {
        "id": "bR5YmPs5pgkA"
      },
      "execution_count": 147,
      "outputs": []
    },
    {
      "cell_type": "markdown",
      "source": [
        "## Normalize Values"
      ],
      "metadata": {
        "id": "TsAadbRPbElU"
      }
    },
    {
      "cell_type": "code",
      "source": [
        "def NormalizeDF(funcDF):\n",
        "  x = funcDF.values #returns a numpy array\n",
        "  min_max_scaler = preprocessing.MinMaxScaler()\n",
        "  x_scaled = min_max_scaler.fit_transform(x)\n",
        "  return pd.DataFrame(x_scaled)\n",
        "\n",
        "# Normalizes dataset\n",
        "train = NormalizeDF(train)\n",
        "test = NormalizeDF(test)\n",
        "\n",
        "# Converting to a numpy matrix\n",
        "X = train.to_numpy()\n",
        "test = test.to_numpy()\n",
        "\n",
        "# Splitting the training data to only be 1/4\n",
        "train, x_test, trainTrueLabels, y_test = train_test_split(X, y,\n",
        "                                                    test_size=0.5,\n",
        "                                                    random_state=0,\n",
        "                                                    stratify=y)\n",
        "\n",
        "trainTrueLabels = trainTrueLabels.to_numpy().reshape((trainTrueLabels.shape[0], 1))\n",
        "print(train.shape)\n",
        "print(trainTrueLabels.shape)"
      ],
      "metadata": {
        "id": "-rGzHqeKbC1I",
        "colab": {
          "base_uri": "https://localhost:8080/"
        },
        "outputId": "7a3b9927-2260-4abc-cb16-090f52196039"
      },
      "execution_count": 148,
      "outputs": [
        {
          "output_type": "stream",
          "name": "stdout",
          "text": [
            "(30000, 784)\n",
            "(30000, 1)\n"
          ]
        }
      ]
    },
    {
      "cell_type": "code",
      "source": [
        "print(f\"Count for digit 0 = {np.count_nonzero(trainTrueLabels == 0)}\")\n",
        "print(f\"Count for digit 1 = {np.count_nonzero(trainTrueLabels == 1)}\")\n",
        "print(f\"Count for digit 2 = {np.count_nonzero(trainTrueLabels == 2)}\")\n",
        "print(f\"Count for digit 3 = {np.count_nonzero(trainTrueLabels == 3)}\")\n",
        "print(f\"Count for digit 4 = {np.count_nonzero(trainTrueLabels == 4)}\")\n",
        "print(f\"Count for digit 5 = {np.count_nonzero(trainTrueLabels == 5)}\")\n",
        "print(f\"Count for digit 6 = {np.count_nonzero(trainTrueLabels == 6)}\")\n",
        "print(f\"Count for digit 7 = {np.count_nonzero(trainTrueLabels == 7)}\")\n",
        "print(f\"Count for digit 8 = {np.count_nonzero(trainTrueLabels == 8)}\")\n",
        "print(f\"Count for digit 9 = {np.count_nonzero(trainTrueLabels == 9)}\")"
      ],
      "metadata": {
        "colab": {
          "base_uri": "https://localhost:8080/"
        },
        "id": "9rMexlz6UA9z",
        "outputId": "04ff99ed-1937-4501-de88-0dd9d1c3d433"
      },
      "execution_count": 149,
      "outputs": [
        {
          "output_type": "stream",
          "name": "stdout",
          "text": [
            "Count for digit 0 = 2961\n",
            "Count for digit 1 = 3371\n",
            "Count for digit 2 = 2979\n",
            "Count for digit 3 = 3066\n",
            "Count for digit 4 = 2921\n",
            "Count for digit 5 = 2711\n",
            "Count for digit 6 = 2959\n",
            "Count for digit 7 = 3132\n",
            "Count for digit 8 = 2925\n",
            "Count for digit 9 = 2975\n"
          ]
        }
      ]
    },
    {
      "cell_type": "markdown",
      "source": [
        "## Create Bias Column"
      ],
      "metadata": {
        "id": "8uogwLcCbAjO"
      }
    },
    {
      "cell_type": "code",
      "source": [
        "bias = np.negative(np.ones((train.shape[0], 1)))\n",
        "train = np.concatenate((bias, train), axis=1)\n",
        "bias = np.negative(np.ones((test.shape[0], 1)))\n",
        "test = np.concatenate((bias, test), axis=1)"
      ],
      "metadata": {
        "id": "W2Le7Iq9ZRKG"
      },
      "execution_count": 150,
      "outputs": []
    },
    {
      "cell_type": "markdown",
      "source": [
        "# Calculating Loss"
      ],
      "metadata": {
        "id": "Pwa5g22tljqg"
      }
    },
    {
      "cell_type": "markdown",
      "source": [
        "## Helper Function"
      ],
      "metadata": {
        "id": "84ZcZf4_z0vL"
      }
    },
    {
      "cell_type": "code",
      "source": [
        "def Sigmoid(x):\n",
        "  return 1/(1 + np.exp(-x))"
      ],
      "metadata": {
        "id": "Vx99Vce4zxnD"
      },
      "execution_count": 151,
      "outputs": []
    },
    {
      "cell_type": "markdown",
      "source": [
        "## Training"
      ],
      "metadata": {
        "id": "fcN0gvwIfCzR"
      }
    },
    {
      "cell_type": "code",
      "source": [
        "start_time = time.time()\n",
        "\n",
        "# Parameters\n",
        "eta = 0.001\n",
        "a = momentum = 0.9\n",
        "epochCount = 50\n",
        "n = hiddenNeurons = 100\n",
        "\n",
        "# This vector is used for the confusion matrix, counting predicted values\n",
        "testPredLabels = [1] * (test.shape[0])\n",
        "\n",
        "# Creating the weights\n",
        "W1 = np.random.uniform(-0.05,0.05,size=(train.shape[1], n))\n",
        "W2 = np.random.uniform(-0.05,0.05,size=(n, 10))\n",
        "B1 = np.negative(np.ones((1, n)))\n",
        "B2 = np.negative(np.ones((1, 10)))\n",
        "\n",
        "# Instantiating the delta weights\n",
        "dW1 = np.zeros(W1.shape)\n",
        "dW2 = np.zeros(W2.shape)\n",
        "dB1 = np.zeros(B1.shape)\n",
        "dB2 = np.zeros(B2.shape)\n",
        "\n",
        "# Storing accuracies for plots\n",
        "trainingAccuracies = []\n",
        "testingAccuracies = []\n",
        "\n",
        "for i in range(epochCount):\n",
        "\n",
        "  # For plotting the training accuracy\n",
        "  trainingCorrect = 0\n",
        "\n",
        "  # Iterating through the training dataset\n",
        "  for j, x in enumerate(train):\n",
        "\n",
        "    # Create the x vector (row from training data)\n",
        "    x = x.reshape((1,train.shape[1]))\n",
        "\n",
        "    # Create the hidden layer vector (input * hidden weights) + bias node\n",
        "    h = Sigmoid(np.dot(x, W1) + B1)\n",
        "\n",
        "    # Create the prediction vector (hidden * output weights)\n",
        "    y = Sigmoid(np.dot(h, W2) + B2).T\n",
        "\n",
        "    # the label for this datapoint\n",
        "    targetVal = trainTrueLabels[j]\n",
        "\n",
        "    # Gets the pred value by finding the highest value\n",
        "    predVal = np.argmax(y)\n",
        "\n",
        "    if predVal == targetVal:\n",
        "      trainingCorrect += 1\n",
        "\n",
        "    # Creates the target vector of value 0.1, and 0.9 for the target value\n",
        "    t = np.ones((y.shape[0], 1)) * 0.1\n",
        "    t[targetVal] *= 9\n",
        "\n",
        "    # Calculate error terms\n",
        "    I = np.ones((y.shape[0], 1))\n",
        "    eW2 = y*(I-y)*(t-y)\n",
        "    eB2 = y*(I-y)*(t-y)\n",
        "    I = np.ones((h.shape[0], 1))\n",
        "    eW1 = h.T*(I-h.T)*np.array(W2@eW2)\n",
        "    eB1 = h.T*(I-h.T)*np.array(B2@eB2)\n",
        "\n",
        "    # Store previous deltas and bias weights\n",
        "    PdW2 = dW2\n",
        "    PdW1 = dW1\n",
        "    PdB1 = dB1\n",
        "    PdB2 = dB2\n",
        "\n",
        "    # Calculate delta weight adjustments\n",
        "    dW1 = (eta * eW1 @ x + (momentum*PdW1).T).T\n",
        "    dW2 = (eta * eW2 @ h + (momentum*PdW2).T).T\n",
        "    dB1 = (eta * eB1 + (momentum*PdB1).T).T\n",
        "    dB2 = (eta * eB2 + (momentum*PdB2).T).T\n",
        "\n",
        "    # Update weights\n",
        "    W1 += dW1\n",
        "    W2 += dW2\n",
        "    B1 += dB1\n",
        "    B2 += dB2\n",
        "\n",
        "\n",
        "  # For plotting the test accuracy\n",
        "  testingCorrect = 0\n",
        "\n",
        "  # Iterating through the test dataset\n",
        "  for j, x in enumerate(test):\n",
        "    \n",
        "    # Create the x vector (row from training data)\n",
        "    x = x.reshape((1,test.shape[1]))\n",
        "\n",
        "    # Create the hidden layer vector (input * hidden weights) + bias node\n",
        "    h = Sigmoid(np.dot(x, W1) + B1)\n",
        "\n",
        "    # Create the prediction vector (hidden * output weights)\n",
        "    y = Sigmoid(np.dot(h, W2) + B2).T\n",
        "\n",
        "    # the label for this datapoint\n",
        "    targetVal = testTrueLabels[j]\n",
        "\n",
        "    # Gets the pred value by finding the highest value\n",
        "    predVal = np.argmax(y)\n",
        "\n",
        "    if predVal == targetVal:\n",
        "      testingCorrect += 1\n",
        "    \n",
        "    # Stores the predicted value in the test pred vector for confusion matrix\n",
        "    testPredLabels[j] = predVal\n",
        "\n",
        "  # Adding accuracies to the list for future plotting\n",
        "  trainingAccuracies.append(trainingCorrect/train.shape[0])\n",
        "  testingAccuracies.append(testingCorrect/test.shape[0])\n",
        "\n",
        "\n",
        "duration = round((time.time() - start_time), 3)\n",
        "perEpochDuration = round((duration / epochCount), 3)\n",
        "print(f\"--- {duration} seconds total ---\")\n",
        "print(f\"--- {perEpochDuration} seconds per epoch ---\")\n",
        "if epochCount > 1:\n",
        "  trainAcc = round(trainingAccuracies[-1], 4)\n",
        "  testnAcc = round(testingAccuracies[-1], 4)\n",
        "  print(f\"Final Training Accuracy = {trainAcc}\")\n",
        "  print(f\"Final Test Accuracy = {testnAcc}\")"
      ],
      "metadata": {
        "colab": {
          "base_uri": "https://localhost:8080/"
        },
        "id": "4uVbMfiYf1Np",
        "outputId": "fe0b48f1-93dc-4689-f1ea-2a3d595ccc96"
      },
      "execution_count": 152,
      "outputs": [
        {
          "output_type": "stream",
          "name": "stdout",
          "text": [
            "--- 2129.004 seconds total ---\n",
            "--- 42.58 seconds per epoch ---\n",
            "Final Training Accuracy = 0.975\n",
            "Final Test Accuracy = 0.9664\n"
          ]
        }
      ]
    },
    {
      "cell_type": "markdown",
      "source": [
        "# Plotting Accuracy"
      ],
      "metadata": {
        "id": "g1w7ox9VfhEz"
      }
    },
    {
      "cell_type": "code",
      "source": [
        "sns.set(rc = {'figure.figsize':(12,12)})  #Edits size of chart\n",
        "plt.plot(trainingAccuracies, label = \"Train\")\n",
        "plt.plot(testingAccuracies, label = \"Test\")\n",
        "plt.title(\"Training and Test Accuracies\")\n",
        "plt.xlabel('Epoch')\n",
        "plt.ylabel('Accuracy %')\n",
        "plt.legend()\n",
        "plt.show()"
      ],
      "metadata": {
        "id": "GHLsyNAT6Hus",
        "colab": {
          "base_uri": "https://localhost:8080/",
          "height": 736
        },
        "outputId": "71176c4e-246b-4e2f-9a18-99c6067d7706"
      },
      "execution_count": 153,
      "outputs": [
        {
          "output_type": "display_data",
          "data": {
            "text/plain": [
              "<Figure size 864x864 with 1 Axes>"
            ],
            "image/png": "[encoded data removed]"
          },
          "metadata": {}
        }
      ]
    },
    {
      "cell_type": "markdown",
      "source": [
        "# Heatmap"
      ],
      "metadata": {
        "id": "HVLv-KEDgN8P"
      }
    },
    {
      "cell_type": "code",
      "source": [
        "sns.set(rc = {'figure.figsize':(12,12)})  #Edits size of chart\n",
        "cm = confusion_matrix(testTrueLabels, testPredLabels)\n",
        "sns.heatmap(cm, annot=True, linewidths=1, square=True)"
      ],
      "metadata": {
        "id": "IHZUKCR3gTKD",
        "colab": {
          "base_uri": "https://localhost:8080/",
          "height": 706
        },
        "outputId": "bf52e876-736e-4a2c-aaa1-c332069accd6"
      },
      "execution_count": 154,
      "outputs": [
        {
          "output_type": "execute_result",
          "data": {
            "text/plain": [
              "<matplotlib.axes._subplots.AxesSubplot at 0x7f83cf332910>"
            ]
          },
          "metadata": {},
          "execution_count": 154
        },
        {
          "output_type": "display_data",
          "data": {
            "text/plain": [
              "<Figure size 864x864 with 2 Axes>"
            ],
            "image/png": "[encoded data removed]"
          },
          "metadata": {}
        }
      ]
    },
    {
      "cell_type": "code",
      "source": [
        ""
      ],
      "metadata": {
        "id": "xjNXQC5kocAV"
      },
      "execution_count": 154,
      "outputs": []
    }
  ]
}