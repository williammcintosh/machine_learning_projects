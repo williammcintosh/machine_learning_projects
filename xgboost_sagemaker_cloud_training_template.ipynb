{
  "cells": [
    {
      "cell_type": "markdown",
      "metadata": {
        "id": "view-in-github",
        "colab_type": "text"
      },
      "source": [
        "<a href=\"https://colab.research.google.com/github/williammcintosh/machine_learning_projects/blob/main/xgboost_sagemaker_cloud_training_template.ipynb\" target=\"_parent\"><img src=\"https://colab.research.google.com/assets/colab-badge.svg\" alt=\"Open In Colab\"/></a>"
      ]
    },
    {
      "cell_type": "markdown",
      "source": [
        "# AWS Sagemaker XGBoost\n",
        "\n",
        "## Will McIntosh\n",
        "\n",
        "## Purpose\n",
        "\n",
        "The main purpose of this project was to create a template to work with for my job as a data scientist for Homeoptions. Since the data used for Homeoption was sensitive, displaying this template gives the general idea of the work we did. [Click here for](https://github.com/williammcintosh/machine_learning_projects/tree/main/Hosting_Model_on_Sagemaker) the complete step-by-step tutorial I created.\n",
        "\n",
        "## Process\n",
        "\n",
        "I was tasked with creating a hosting a model in AWS that would predict the likelihood of an individual foreclosing on their home in a year. We were asked to make this model available on a website that the sales team could easily make predictions against without any knowledge of coding or datascience. I chose to watch a few tutorials online to learn how to get started and this is the result of that work.\n",
        "\n",
        "## XGBoost Explained\n",
        "\n",
        "XGBoost, which stands for Extreme Gradient Boosting, is a scalable, distributed gradient-boosted decision tree (GBDT) machine learning library. It provides parallel tree boosting and is the leading machine learning library for regression, classification, and ranking problems. It's excellent for datasets with a high number of features which is an issue we had with our project."
      ],
      "metadata": {
        "id": "PRhZ6AfwzvDB"
      }
    },
    {
      "cell_type": "markdown",
      "source": [
        "## Imports"
      ],
      "metadata": {
        "id": "-FwXXyWyzbyn"
      }
    },
    {
      "cell_type": "code",
      "execution_count": null,
      "metadata": {
        "id": "9DHWxS_0y1l3"
      },
      "outputs": [],
      "source": [
        "import numpy as np\n",
        "import pandas as pd\n",
        "\n",
        "import boto3\n",
        "import re\n",
        "\n",
        "import sagemaker\n",
        "from sagemaker import get_execution_role\n",
        "# SageMaker SDK Documentation: http://sagemaker.readthedocs.io/en/latest/estimators.html"
      ]
    },
    {
      "cell_type": "markdown",
      "source": [
        "# Data Exploration"
      ],
      "metadata": {
        "id": "oZC3bdHQzZlD"
      }
    },
    {
      "cell_type": "code",
      "execution_count": null,
      "metadata": {
        "id": "-nIpfQh0zMSU"
      },
      "outputs": [],
      "source": [
        "columns = ['count', 'season', 'holiday', 'workingday', 'weather', 'temp',\n",
        "       'atemp', 'humidity', 'windspeed', 'year', 'month', 'day', 'dayofweek','hour']"
      ]
    },
    {
      "cell_type": "code",
      "execution_count": null,
      "metadata": {
        "id": "idSmYzD3zMSU"
      },
      "outputs": [],
      "source": [
        "df = pd.read_csv('train.csv', parse_dates=['datetime'],index_col=0)\n",
        "df_test = pd.read_csv('test.csv', parse_dates=['datetime'],index_col=0)"
      ]
    },
    {
      "cell_type": "code",
      "execution_count": null,
      "metadata": {
        "id": "0x1IoFNYzMSU",
        "outputId": "6f7e5597-9948-4884-9492-165f3889c90d"
      },
      "outputs": [
        {
          "data": {
            "text/html": [
              "<div>\n",
              "<style scoped>\n",
              "    .dataframe tbody tr th:only-of-type {\n",
              "        vertical-align: middle;\n",
              "    }\n",
              "\n",
              "    .dataframe tbody tr th {\n",
              "        vertical-align: top;\n",
              "    }\n",
              "\n",
              "    .dataframe thead th {\n",
              "        text-align: right;\n",
              "    }\n",
              "</style>\n",
              "<table border=\"1\" class=\"dataframe\">\n",
              "  <thead>\n",
              "    <tr style=\"text-align: right;\">\n",
              "      <th></th>\n",
              "      <th>season</th>\n",
              "      <th>holiday</th>\n",
              "      <th>workingday</th>\n",
              "      <th>weather</th>\n",
              "      <th>temp</th>\n",
              "      <th>atemp</th>\n",
              "      <th>humidity</th>\n",
              "      <th>windspeed</th>\n",
              "      <th>casual</th>\n",
              "      <th>registered</th>\n",
              "      <th>count</th>\n",
              "    </tr>\n",
              "    <tr>\n",
              "      <th>datetime</th>\n",
              "      <th></th>\n",
              "      <th></th>\n",
              "      <th></th>\n",
              "      <th></th>\n",
              "      <th></th>\n",
              "      <th></th>\n",
              "      <th></th>\n",
              "      <th></th>\n",
              "      <th></th>\n",
              "      <th></th>\n",
              "      <th></th>\n",
              "    </tr>\n",
              "  </thead>\n",
              "  <tbody>\n",
              "    <tr>\n",
              "      <th>2011-01-01 00:00:00</th>\n",
              "      <td>1</td>\n",
              "      <td>0</td>\n",
              "      <td>0</td>\n",
              "      <td>1</td>\n",
              "      <td>9.84</td>\n",
              "      <td>14.395</td>\n",
              "      <td>81</td>\n",
              "      <td>0.0</td>\n",
              "      <td>3</td>\n",
              "      <td>13</td>\n",
              "      <td>16</td>\n",
              "    </tr>\n",
              "    <tr>\n",
              "      <th>2011-01-01 01:00:00</th>\n",
              "      <td>1</td>\n",
              "      <td>0</td>\n",
              "      <td>0</td>\n",
              "      <td>1</td>\n",
              "      <td>9.02</td>\n",
              "      <td>13.635</td>\n",
              "      <td>80</td>\n",
              "      <td>0.0</td>\n",
              "      <td>8</td>\n",
              "      <td>32</td>\n",
              "      <td>40</td>\n",
              "    </tr>\n",
              "    <tr>\n",
              "      <th>2011-01-01 02:00:00</th>\n",
              "      <td>1</td>\n",
              "      <td>0</td>\n",
              "      <td>0</td>\n",
              "      <td>1</td>\n",
              "      <td>9.02</td>\n",
              "      <td>13.635</td>\n",
              "      <td>80</td>\n",
              "      <td>0.0</td>\n",
              "      <td>5</td>\n",
              "      <td>27</td>\n",
              "      <td>32</td>\n",
              "    </tr>\n",
              "    <tr>\n",
              "      <th>2011-01-01 03:00:00</th>\n",
              "      <td>1</td>\n",
              "      <td>0</td>\n",
              "      <td>0</td>\n",
              "      <td>1</td>\n",
              "      <td>9.84</td>\n",
              "      <td>14.395</td>\n",
              "      <td>75</td>\n",
              "      <td>0.0</td>\n",
              "      <td>3</td>\n",
              "      <td>10</td>\n",
              "      <td>13</td>\n",
              "    </tr>\n",
              "    <tr>\n",
              "      <th>2011-01-01 04:00:00</th>\n",
              "      <td>1</td>\n",
              "      <td>0</td>\n",
              "      <td>0</td>\n",
              "      <td>1</td>\n",
              "      <td>9.84</td>\n",
              "      <td>14.395</td>\n",
              "      <td>75</td>\n",
              "      <td>0.0</td>\n",
              "      <td>0</td>\n",
              "      <td>1</td>\n",
              "      <td>1</td>\n",
              "    </tr>\n",
              "  </tbody>\n",
              "</table>\n",
              "</div>"
            ],
            "text/plain": [
              "                     season  holiday  workingday  weather  temp   atemp  \\\n",
              "datetime                                                                  \n",
              "2011-01-01 00:00:00       1        0           0        1  9.84  14.395   \n",
              "2011-01-01 01:00:00       1        0           0        1  9.02  13.635   \n",
              "2011-01-01 02:00:00       1        0           0        1  9.02  13.635   \n",
              "2011-01-01 03:00:00       1        0           0        1  9.84  14.395   \n",
              "2011-01-01 04:00:00       1        0           0        1  9.84  14.395   \n",
              "\n",
              "                     humidity  windspeed  casual  registered  count  \n",
              "datetime                                                             \n",
              "2011-01-01 00:00:00        81        0.0       3          13     16  \n",
              "2011-01-01 01:00:00        80        0.0       8          32     40  \n",
              "2011-01-01 02:00:00        80        0.0       5          27     32  \n",
              "2011-01-01 03:00:00        75        0.0       3          10     13  \n",
              "2011-01-01 04:00:00        75        0.0       0           1      1  "
            ]
          },
          "execution_count": 4,
          "metadata": {},
          "output_type": "execute_result"
        }
      ],
      "source": [
        "df.head()"
      ]
    },
    {
      "cell_type": "code",
      "execution_count": null,
      "metadata": {
        "id": "SsNBdGuvzMSV"
      },
      "outputs": [],
      "source": [
        "# We need to convert datetime to numeric for training.\n",
        "# Let's extract key features into separate numeric columns\n",
        "def add_features(df):\n",
        "    df['year'] = df.index.year\n",
        "    df['month'] = df.index.month\n",
        "    df['day'] = df.index.day\n",
        "    df['dayofweek'] = df.index.dayofweek\n",
        "    df['hour'] = df.index.hour"
      ]
    },
    {
      "cell_type": "code",
      "execution_count": null,
      "metadata": {
        "id": "BeiC-Jr9zMSV"
      },
      "outputs": [],
      "source": [
        "# Add New Features\n",
        "add_features(df)\n",
        "add_features(df_test)"
      ]
    },
    {
      "cell_type": "code",
      "execution_count": null,
      "metadata": {
        "id": "7xh4na8vzMSV",
        "outputId": "af6bac2b-2878-43e9-e36f-4c5071f229fe"
      },
      "outputs": [
        {
          "data": {
            "text/html": [
              "<div>\n",
              "<style scoped>\n",
              "    .dataframe tbody tr th:only-of-type {\n",
              "        vertical-align: middle;\n",
              "    }\n",
              "\n",
              "    .dataframe tbody tr th {\n",
              "        vertical-align: top;\n",
              "    }\n",
              "\n",
              "    .dataframe thead th {\n",
              "        text-align: right;\n",
              "    }\n",
              "</style>\n",
              "<table border=\"1\" class=\"dataframe\">\n",
              "  <thead>\n",
              "    <tr style=\"text-align: right;\">\n",
              "      <th></th>\n",
              "      <th>season</th>\n",
              "      <th>holiday</th>\n",
              "      <th>workingday</th>\n",
              "      <th>weather</th>\n",
              "      <th>temp</th>\n",
              "      <th>atemp</th>\n",
              "      <th>humidity</th>\n",
              "      <th>windspeed</th>\n",
              "      <th>casual</th>\n",
              "      <th>registered</th>\n",
              "      <th>count</th>\n",
              "      <th>year</th>\n",
              "      <th>month</th>\n",
              "      <th>day</th>\n",
              "      <th>dayofweek</th>\n",
              "      <th>hour</th>\n",
              "    </tr>\n",
              "    <tr>\n",
              "      <th>datetime</th>\n",
              "      <th></th>\n",
              "      <th></th>\n",
              "      <th></th>\n",
              "      <th></th>\n",
              "      <th></th>\n",
              "      <th></th>\n",
              "      <th></th>\n",
              "      <th></th>\n",
              "      <th></th>\n",
              "      <th></th>\n",
              "      <th></th>\n",
              "      <th></th>\n",
              "      <th></th>\n",
              "      <th></th>\n",
              "      <th></th>\n",
              "      <th></th>\n",
              "    </tr>\n",
              "  </thead>\n",
              "  <tbody>\n",
              "    <tr>\n",
              "      <th>2011-01-01 00:00:00</th>\n",
              "      <td>1</td>\n",
              "      <td>0</td>\n",
              "      <td>0</td>\n",
              "      <td>1</td>\n",
              "      <td>9.84</td>\n",
              "      <td>14.395</td>\n",
              "      <td>81</td>\n",
              "      <td>0.0</td>\n",
              "      <td>3</td>\n",
              "      <td>13</td>\n",
              "      <td>16</td>\n",
              "      <td>2011</td>\n",
              "      <td>1</td>\n",
              "      <td>1</td>\n",
              "      <td>5</td>\n",
              "      <td>0</td>\n",
              "    </tr>\n",
              "    <tr>\n",
              "      <th>2011-01-01 01:00:00</th>\n",
              "      <td>1</td>\n",
              "      <td>0</td>\n",
              "      <td>0</td>\n",
              "      <td>1</td>\n",
              "      <td>9.02</td>\n",
              "      <td>13.635</td>\n",
              "      <td>80</td>\n",
              "      <td>0.0</td>\n",
              "      <td>8</td>\n",
              "      <td>32</td>\n",
              "      <td>40</td>\n",
              "      <td>2011</td>\n",
              "      <td>1</td>\n",
              "      <td>1</td>\n",
              "      <td>5</td>\n",
              "      <td>1</td>\n",
              "    </tr>\n",
              "    <tr>\n",
              "      <th>2011-01-01 02:00:00</th>\n",
              "      <td>1</td>\n",
              "      <td>0</td>\n",
              "      <td>0</td>\n",
              "      <td>1</td>\n",
              "      <td>9.02</td>\n",
              "      <td>13.635</td>\n",
              "      <td>80</td>\n",
              "      <td>0.0</td>\n",
              "      <td>5</td>\n",
              "      <td>27</td>\n",
              "      <td>32</td>\n",
              "      <td>2011</td>\n",
              "      <td>1</td>\n",
              "      <td>1</td>\n",
              "      <td>5</td>\n",
              "      <td>2</td>\n",
              "    </tr>\n",
              "    <tr>\n",
              "      <th>2011-01-01 03:00:00</th>\n",
              "      <td>1</td>\n",
              "      <td>0</td>\n",
              "      <td>0</td>\n",
              "      <td>1</td>\n",
              "      <td>9.84</td>\n",
              "      <td>14.395</td>\n",
              "      <td>75</td>\n",
              "      <td>0.0</td>\n",
              "      <td>3</td>\n",
              "      <td>10</td>\n",
              "      <td>13</td>\n",
              "      <td>2011</td>\n",
              "      <td>1</td>\n",
              "      <td>1</td>\n",
              "      <td>5</td>\n",
              "      <td>3</td>\n",
              "    </tr>\n",
              "    <tr>\n",
              "      <th>2011-01-01 04:00:00</th>\n",
              "      <td>1</td>\n",
              "      <td>0</td>\n",
              "      <td>0</td>\n",
              "      <td>1</td>\n",
              "      <td>9.84</td>\n",
              "      <td>14.395</td>\n",
              "      <td>75</td>\n",
              "      <td>0.0</td>\n",
              "      <td>0</td>\n",
              "      <td>1</td>\n",
              "      <td>1</td>\n",
              "      <td>2011</td>\n",
              "      <td>1</td>\n",
              "      <td>1</td>\n",
              "      <td>5</td>\n",
              "      <td>4</td>\n",
              "    </tr>\n",
              "  </tbody>\n",
              "</table>\n",
              "</div>"
            ],
            "text/plain": [
              "                     season  holiday  workingday  weather  temp   atemp  \\\n",
              "datetime                                                                  \n",
              "2011-01-01 00:00:00       1        0           0        1  9.84  14.395   \n",
              "2011-01-01 01:00:00       1        0           0        1  9.02  13.635   \n",
              "2011-01-01 02:00:00       1        0           0        1  9.02  13.635   \n",
              "2011-01-01 03:00:00       1        0           0        1  9.84  14.395   \n",
              "2011-01-01 04:00:00       1        0           0        1  9.84  14.395   \n",
              "\n",
              "                     humidity  windspeed  casual  registered  count  year  \\\n",
              "datetime                                                                    \n",
              "2011-01-01 00:00:00        81        0.0       3          13     16  2011   \n",
              "2011-01-01 01:00:00        80        0.0       8          32     40  2011   \n",
              "2011-01-01 02:00:00        80        0.0       5          27     32  2011   \n",
              "2011-01-01 03:00:00        75        0.0       3          10     13  2011   \n",
              "2011-01-01 04:00:00        75        0.0       0           1      1  2011   \n",
              "\n",
              "                     month  day  dayofweek  hour  \n",
              "datetime                                          \n",
              "2011-01-01 00:00:00      1    1          5     0  \n",
              "2011-01-01 01:00:00      1    1          5     1  \n",
              "2011-01-01 02:00:00      1    1          5     2  \n",
              "2011-01-01 03:00:00      1    1          5     3  \n",
              "2011-01-01 04:00:00      1    1          5     4  "
            ]
          },
          "execution_count": 7,
          "metadata": {},
          "output_type": "execute_result"
        }
      ],
      "source": [
        "df.head()"
      ]
    },
    {
      "cell_type": "code",
      "execution_count": null,
      "metadata": {
        "id": "ESM4RZT9zMSV",
        "outputId": "6a7d686c-232b-42b0-bdce-7d7cb44ed88c"
      },
      "outputs": [
        {
          "data": {
            "image/png": "[encoded data removed]",
            "text/plain": [
              "<Figure size 432x288 with 1 Axes>"
            ]
          },
          "metadata": {
            "needs_background": "light"
          },
          "output_type": "display_data"
        }
      ],
      "source": [
        "# Need to predict the missing data\n",
        "plt.title('Rental Count - Gaps')\n",
        "df['2011-01':'2011-02']['count'].plot()\n",
        "plt.show()"
      ]
    },
    {
      "cell_type": "code",
      "execution_count": null,
      "metadata": {
        "id": "isag6IEnzMSV",
        "outputId": "df4e1a1d-aaf5-49a2-cbba-8dfe3ed777a6"
      },
      "outputs": [
        {
          "name": "stderr",
          "output_type": "stream",
          "text": [
            "/tmp/ipykernel_6987/3377219014.py:2: FutureWarning: Indexing a DataFrame with a datetimelike index using a single string to slice the rows, like `frame[string]`, is deprecated and will be removed in a future version. Use `frame.loc[string]` instead.\n",
            "  plt.plot(df['2011-01-01']['count'])\n"
          ]
        },
        {
          "data": {
            "image/png": "[encoded data removed]",
            "text/plain": [
              "<Figure size 432x288 with 1 Axes>"
            ]
          },
          "metadata": {
            "needs_background": "light"
          },
          "output_type": "display_data"
        }
      ],
      "source": [
        "# Rentals change hourly!\n",
        "plt.plot(df['2011-01-01']['count'])\n",
        "plt.xticks(fontsize=14, rotation=45)\n",
        "plt.xlabel('Date')\n",
        "plt.ylabel('Rental Count')\n",
        "plt.title('Hourly Rentals for Jan 01, 2011')\n",
        "plt.show()"
      ]
    },
    {
      "cell_type": "code",
      "execution_count": null,
      "metadata": {
        "id": "sLhKozN5zMSW",
        "outputId": "80cfb5a9-33bb-4003-98df-c3bf5a2d59c4"
      },
      "outputs": [
        {
          "name": "stderr",
          "output_type": "stream",
          "text": [
            "/tmp/ipykernel_6987/3648170626.py:2: FutureWarning: Indexing a DataFrame with a datetimelike index using a single string to slice the rows, like `frame[string]`, is deprecated and will be removed in a future version. Use `frame.loc[string]` instead.\n",
            "  plt.plot(df['2011-01']['count'])\n"
          ]
        },
        {
          "data": {
            "image/png": "[encoded data removed]",
            "text/plain": [
              "<Figure size 432x288 with 1 Axes>"
            ]
          },
          "metadata": {
            "needs_background": "light"
          },
          "output_type": "display_data"
        }
      ],
      "source": [
        "# Seasonal\n",
        "plt.plot(df['2011-01']['count'])\n",
        "plt.xticks(fontsize=14, rotation=45)\n",
        "plt.xlabel('Date')\n",
        "plt.ylabel('Rental Count')\n",
        "plt.title('Jan 2011 Rentals (1 month)')\n",
        "plt.show()"
      ]
    },
    {
      "cell_type": "code",
      "execution_count": null,
      "metadata": {
        "id": "_540kgCWzMSW"
      },
      "outputs": [],
      "source": [
        "group_hour = df.groupby(['hour'])\n",
        "average_by_hour = group_hour['count'].mean()"
      ]
    },
    {
      "cell_type": "code",
      "execution_count": null,
      "metadata": {
        "id": "7Hi_fUH-zMSW",
        "outputId": "eb8ec614-3851-40e5-ef26-ab2c2408634e"
      },
      "outputs": [
        {
          "data": {
            "text/plain": [
              "Text(0.5, 1.0, 'Average Hourly Rental Count')"
            ]
          },
          "execution_count": 12,
          "metadata": {},
          "output_type": "execute_result"
        },
        {
          "data": {
            "image/png": "[encoded data removed]",
            "text/plain": [
              "<Figure size 432x288 with 1 Axes>"
            ]
          },
          "metadata": {
            "needs_background": "light"
          },
          "output_type": "display_data"
        }
      ],
      "source": [
        "plt.plot(average_by_hour.index,average_by_hour)\n",
        "plt.xlabel('Hour')\n",
        "plt.ylabel('Rental Count')\n",
        "plt.xticks(np.arange(24))\n",
        "plt.grid(True)\n",
        "plt.title('Average Hourly Rental Count')"
      ]
    },
    {
      "cell_type": "code",
      "execution_count": null,
      "metadata": {
        "id": "JJiAzxrWzMSW",
        "outputId": "2a2cb6ae-f556-4144-b309-4ef6ee82cde3"
      },
      "outputs": [
        {
          "name": "stderr",
          "output_type": "stream",
          "text": [
            "/tmp/ipykernel_6987/3135732940.py:2: FutureWarning: Indexing a DataFrame with a datetimelike index using a single string to slice the rows, like `frame[string]`, is deprecated and will be removed in a future version. Use `frame.loc[string]` instead.\n",
            "  plt.plot(df['2011']['count'],label='2011')\n",
            "/tmp/ipykernel_6987/3135732940.py:3: FutureWarning: Indexing a DataFrame with a datetimelike index using a single string to slice the rows, like `frame[string]`, is deprecated and will be removed in a future version. Use `frame.loc[string]` instead.\n",
            "  plt.plot(df['2012']['count'],label='2012')\n"
          ]
        },
        {
          "data": {
            "image/png": "[encoded data removed]",
            "text/plain": [
              "<Figure size 432x288 with 1 Axes>"
            ]
          },
          "metadata": {
            "needs_background": "light"
          },
          "output_type": "display_data"
        }
      ],
      "source": [
        "# Year to year trend\n",
        "plt.plot(df['2011']['count'],label='2011')\n",
        "plt.plot(df['2012']['count'],label='2012')\n",
        "plt.xticks(fontsize=14, rotation=45)\n",
        "plt.xlabel('Date')\n",
        "plt.ylabel('Rental Count')\n",
        "plt.title('2011 and 2012 Rentals (Year to Year)')\n",
        "plt.legend()\n",
        "plt.show()"
      ]
    },
    {
      "cell_type": "code",
      "execution_count": null,
      "metadata": {
        "id": "sJ93BdiszMSW"
      },
      "outputs": [],
      "source": [
        "group_year_month = df.groupby(['year','month'])"
      ]
    },
    {
      "cell_type": "code",
      "execution_count": null,
      "metadata": {
        "id": "B5QUPRBizMSW"
      },
      "outputs": [],
      "source": [
        "average_year_month = group_year_month['count'].mean()"
      ]
    },
    {
      "cell_type": "code",
      "execution_count": null,
      "metadata": {
        "id": "bYd8CM1czMSX",
        "outputId": "129ae24a-d191-460d-c899-15b7125a5566"
      },
      "outputs": [
        {
          "data": {
            "text/plain": [
              "year  month\n",
              "2011  1         54.645012\n",
              "      2         73.641256\n",
              "      3         86.849776\n",
              "      4        111.026374\n",
              "      5        174.809211\n",
              "      6        196.877193\n",
              "      7        203.614035\n",
              "      8        182.666667\n",
              "      9        174.622517\n",
              "      10       174.773626\n",
              "      11       155.458333\n",
              "      12       134.173246\n",
              "2012  1        124.353201\n",
              "      2        145.646154\n",
              "      3        208.276923\n",
              "      4        257.455947\n",
              "      5        264.109649\n",
              "      6        287.186404\n",
              "      7        267.037281\n",
              "      8        285.570175\n",
              "      9        292.598684\n",
              "      10       280.508772\n",
              "      11       231.980220\n",
              "      12       217.054825\n",
              "Name: count, dtype: float64"
            ]
          },
          "execution_count": 16,
          "metadata": {},
          "output_type": "execute_result"
        }
      ],
      "source": [
        "average_year_month"
      ]
    },
    {
      "cell_type": "code",
      "execution_count": null,
      "metadata": {
        "id": "nY3nlyCuzMSX",
        "outputId": "2677669a-4293-4cba-edf6-b7863bcfe0a4"
      },
      "outputs": [
        {
          "data": {
            "image/png": "[encoded data removed]",
            "text/plain": [
              "<Figure size 432x288 with 1 Axes>"
            ]
          },
          "metadata": {
            "needs_background": "light"
          },
          "output_type": "display_data"
        }
      ],
      "source": [
        "for year in average_year_month.index.levels[0]:\n",
        "    plt.plot(average_year_month[year].index,average_year_month[year],label=year)\n",
        "\n",
        "plt.legend()\n",
        "plt.xlabel('Month')\n",
        "plt.ylabel('Count')\n",
        "plt.grid(True)\n",
        "plt.title('Average Monthly Rental Count for 2011, 2012')\n",
        "plt.show()"
      ]
    },
    {
      "cell_type": "code",
      "execution_count": null,
      "metadata": {
        "id": "URBlnfBwzMSX",
        "outputId": "93fd7f34-bc5d-4b73-f4ae-f139e9317c31"
      },
      "outputs": [
        {
          "data": {
            "text/plain": [
              "Text(0.5, 1.0, 'Average Hourly Rental Count - 2011, 2012')"
            ]
          },
          "execution_count": 18,
          "metadata": {},
          "output_type": "execute_result"
        },
        {
          "data": {
            "image/png": "[encoded data removed]",
            "text/plain": [
              "<Figure size 432x288 with 1 Axes>"
            ]
          },
          "metadata": {
            "needs_background": "light"
          },
          "output_type": "display_data"
        }
      ],
      "source": [
        "group_year_hour = df.groupby(['year','hour'])\n",
        "average_year_hour = group_year_hour['count'].mean()\n",
        "for year in average_year_hour.index.levels[0]:\n",
        "    #print (year)\n",
        "    #print(average_year_month[year])\n",
        "    plt.plot(average_year_hour[year].index,average_year_hour[year],label=year)\n",
        "\n",
        "plt.legend()\n",
        "plt.xlabel('Hour')\n",
        "plt.ylabel('Count')\n",
        "plt.xticks(np.arange(24))\n",
        "plt.grid(True)\n",
        "plt.title('Average Hourly Rental Count - 2011, 2012')"
      ]
    },
    {
      "cell_type": "code",
      "execution_count": null,
      "metadata": {
        "id": "b1O6lfRnzMSX"
      },
      "outputs": [],
      "source": [
        "group_workingday_hour = df.groupby(['workingday','hour'])\n",
        "average_workingday_hour = group_workingday_hour['count'].mean()"
      ]
    },
    {
      "cell_type": "code",
      "execution_count": null,
      "metadata": {
        "id": "UxS_ToXazMSX",
        "outputId": "b67defe4-77c3-45d3-ff49-091ce2c14c66"
      },
      "outputs": [
        {
          "data": {
            "image/png": "[encoded data removed]",
            "text/plain": [
              "<Figure size 432x288 with 1 Axes>"
            ]
          },
          "metadata": {
            "needs_background": "light"
          },
          "output_type": "display_data"
        }
      ],
      "source": [
        "for workingday in average_workingday_hour.index.levels[0]:\n",
        "    #print (year)\n",
        "    #print(average_year_month[year])\n",
        "    plt.plot(average_workingday_hour[workingday].index,average_workingday_hour[workingday],\n",
        "             label=workingday)\n",
        "\n",
        "plt.legend()\n",
        "plt.xlabel('Hour')\n",
        "plt.ylabel('Count')\n",
        "plt.xticks(np.arange(24))\n",
        "plt.grid(True)\n",
        "plt.title('Average Hourly Rental Count by Working Day')\n",
        "plt.show()"
      ]
    },
    {
      "cell_type": "code",
      "execution_count": null,
      "metadata": {
        "id": "0pSfJWQ7zMSX",
        "outputId": "940bb5e6-038c-4135-acd1-84fabff11f75"
      },
      "outputs": [
        {
          "data": {
            "text/plain": [
              "season        0.163439\n",
              "holiday      -0.005393\n",
              "workingday    0.011594\n",
              "weather      -0.128655\n",
              "temp          0.394454\n",
              "atemp         0.389784\n",
              "humidity     -0.317371\n",
              "windspeed     0.101369\n",
              "casual        0.690414\n",
              "registered    0.970948\n",
              "count         1.000000\n",
              "year          0.260403\n",
              "month         0.166862\n",
              "day           0.019826\n",
              "dayofweek    -0.002283\n",
              "hour          0.400601\n",
              "Name: count, dtype: float64"
            ]
          },
          "execution_count": 21,
          "metadata": {},
          "output_type": "execute_result"
        }
      ],
      "source": [
        "# Let's look at correlation beween features and target\n",
        "df.corr()['count']"
      ]
    },
    {
      "cell_type": "code",
      "execution_count": null,
      "metadata": {
        "id": "bfg8uUKuzMSX",
        "outputId": "860bf381-3630-49ed-ddd1-705deb4c8952"
      },
      "outputs": [
        {
          "data": {
            "image/png": "[encoded data removed]",
            "text/plain": [
              "<Figure size 432x288 with 1 Axes>"
            ]
          },
          "metadata": {
            "needs_background": "light"
          },
          "output_type": "display_data"
        }
      ],
      "source": [
        "# Any relation between temperature and rental count?\n",
        "plt.scatter(x=df.temp,y=df[\"count\"])\n",
        "plt.grid(True)\n",
        "plt.xlabel('Temperature')\n",
        "plt.ylabel('Count')\n",
        "plt.title('Temperature vs Count')\n",
        "plt.show()"
      ]
    },
    {
      "cell_type": "code",
      "execution_count": null,
      "metadata": {
        "id": "2Ig5Qx8czMSY",
        "outputId": "93aa4ebb-b416-499f-ef67-c5eb820e113a"
      },
      "outputs": [
        {
          "data": {
            "image/png": "[encoded data removed]",
            "text/plain": [
              "<Figure size 432x288 with 1 Axes>"
            ]
          },
          "metadata": {
            "needs_background": "light"
          },
          "output_type": "display_data"
        }
      ],
      "source": [
        "# Any relation between humidity and rental count?\n",
        "plt.scatter(x=df.humidity,y=df[\"count\"],label='Humidity')\n",
        "plt.grid(True)\n",
        "plt.xlabel('Humidity')\n",
        "plt.ylabel('Count')\n",
        "plt.title('Humidity vs Count')\n",
        "plt.show()"
      ]
    },
    {
      "cell_type": "code",
      "execution_count": null,
      "metadata": {
        "id": "Wsmx67bSzMSY"
      },
      "outputs": [],
      "source": [
        "# Save all data\n",
        "df.to_csv('bike_all.csv',index=True,index_label='datetime',columns=columns)"
      ]
    },
    {
      "cell_type": "markdown",
      "metadata": {
        "id": "e8hc9FlzzMSY"
      },
      "source": [
        "# Training and Validation Set\n",
        "\n",
        "### Target Variable as first column followed by input features\n",
        "### Training, Validation files do not have a column header"
      ]
    },
    {
      "cell_type": "code",
      "execution_count": null,
      "metadata": {
        "id": "rVgxqsLbzMSY"
      },
      "outputs": [],
      "source": [
        "# Training = 70% of the data\n",
        "# Validation = 30% of the data\n",
        "# Randomize the datset\n",
        "np.random.seed(5)\n",
        "l = list(df.index)\n",
        "np.random.shuffle(l)\n",
        "df = df.loc[l]"
      ]
    },
    {
      "cell_type": "code",
      "execution_count": null,
      "metadata": {
        "id": "3aAeTczgzMSY"
      },
      "outputs": [],
      "source": [
        "rows = df.shape[0]\n",
        "train = int(.7 * rows)\n",
        "test = rows-train"
      ]
    },
    {
      "cell_type": "code",
      "execution_count": null,
      "metadata": {
        "id": "BYJ6LEexzMSY",
        "outputId": "37f5dc45-b07c-477c-ae18-1d2414990c71"
      },
      "outputs": [
        {
          "data": {
            "text/plain": [
              "(10886, 7620, 3266)"
            ]
          },
          "execution_count": 27,
          "metadata": {},
          "output_type": "execute_result"
        }
      ],
      "source": [
        "rows, train, test"
      ]
    },
    {
      "cell_type": "code",
      "execution_count": null,
      "metadata": {
        "id": "0GCG3LsCzMSY",
        "outputId": "1bb1c3e5-3b23-4b8d-a7f0-25d94b352bc3"
      },
      "outputs": [
        {
          "data": {
            "text/plain": [
              "['count',\n",
              " 'season',\n",
              " 'holiday',\n",
              " 'workingday',\n",
              " 'weather',\n",
              " 'temp',\n",
              " 'atemp',\n",
              " 'humidity',\n",
              " 'windspeed',\n",
              " 'year',\n",
              " 'month',\n",
              " 'day',\n",
              " 'dayofweek',\n",
              " 'hour']"
            ]
          },
          "execution_count": 28,
          "metadata": {},
          "output_type": "execute_result"
        }
      ],
      "source": [
        "columns"
      ]
    },
    {
      "cell_type": "code",
      "execution_count": null,
      "metadata": {
        "id": "398PvIlXzMSZ"
      },
      "outputs": [],
      "source": [
        "# Write Training Set\n",
        "df.iloc[:train].to_csv('bike_train.csv'\n",
        "                          ,index=False,header=False\n",
        "                          ,columns=columns)"
      ]
    },
    {
      "cell_type": "code",
      "execution_count": null,
      "metadata": {
        "id": "oB_8ilcFzMSZ"
      },
      "outputs": [],
      "source": [
        "# Write Validation Set\n",
        "df.iloc[train:].to_csv('bike_validation.csv'\n",
        "                          ,index=False,header=False\n",
        "                          ,columns=columns)"
      ]
    },
    {
      "cell_type": "code",
      "execution_count": null,
      "metadata": {
        "id": "jQmTG9HOzMSZ"
      },
      "outputs": [],
      "source": [
        "# Test Data has only input features\n",
        "df_test.to_csv('bike_test.csv',index=True,index_label='datetime')"
      ]
    },
    {
      "cell_type": "code",
      "execution_count": null,
      "metadata": {
        "id": "LjXLTEXgzMSZ",
        "outputId": "f71cb3a2-dc32-440b-b7a0-7bd58fc9802c"
      },
      "outputs": [
        {
          "name": "stdout",
          "output_type": "stream",
          "text": [
            "count,season,holiday,workingday,weather,temp,atemp,humidity,windspeed,year,month,day,dayofweek,hour\n"
          ]
        }
      ],
      "source": [
        "print(','.join(columns))"
      ]
    },
    {
      "cell_type": "code",
      "execution_count": null,
      "metadata": {
        "id": "-sDE9mZRzMSZ"
      },
      "outputs": [],
      "source": [
        "# Write Column List\n",
        "with open('bike_train_column_list.txt','w') as f:\n",
        "    f.write(','.join(columns))"
      ]
    },
    {
      "cell_type": "markdown",
      "metadata": {
        "id": "LL4v_Bivy1l5"
      },
      "source": [
        "# Upload Data to S3"
      ]
    },
    {
      "cell_type": "code",
      "execution_count": null,
      "metadata": {
        "id": "9LWFDHjWy1l7"
      },
      "outputs": [],
      "source": [
        "# Specify your bucket name\n",
        "bucket_name = 'xgboost-hosted-model-bucket'\n",
        "\n",
        "training_folder = r'bikerental/training/'\n",
        "validation_folder = r'bikerental/validation/'\n",
        "test_folder = r'bikerental/test/'\n",
        "\n",
        "s3_model_output_location = r's3://{0}/bikerental/model'.format(bucket_name)\n",
        "s3_training_file_location = r's3://{0}/{1}'.format(bucket_name,training_folder)\n",
        "s3_validation_file_location = r's3://{0}/{1}'.format(bucket_name,validation_folder)\n",
        "s3_test_file_location = r's3://{0}/{1}'.format(bucket_name,test_folder)"
      ]
    },
    {
      "cell_type": "code",
      "execution_count": null,
      "metadata": {
        "id": "b9gLv6xFy1l7",
        "outputId": "0c33fe97-772d-46b8-9155-8c2deae62f62"
      },
      "outputs": [
        {
          "name": "stdout",
          "output_type": "stream",
          "text": [
            "s3://xgboost-hosted-model-bucket/bikerental/model\n",
            "s3://xgboost-hosted-model-bucket/bikerental/training/\n",
            "s3://xgboost-hosted-model-bucket/bikerental/validation/\n",
            "s3://xgboost-hosted-model-bucket/bikerental/test/\n"
          ]
        }
      ],
      "source": [
        "print(s3_model_output_location)\n",
        "print(s3_training_file_location)\n",
        "print(s3_validation_file_location)\n",
        "print(s3_test_file_location)"
      ]
    },
    {
      "cell_type": "code",
      "execution_count": null,
      "metadata": {
        "id": "dwvifELDy1l8"
      },
      "outputs": [],
      "source": [
        "# Write and Reading from S3 is just as easy\n",
        "# files are referred as objects in S3.\n",
        "# file name is referred as key name in S3\n",
        "\n",
        "# File stored in S3 is automatically replicated across 3 different availability zones\n",
        "# in the region where the bucket was created.\n",
        "\n",
        "# http://boto3.readthedocs.io/en/latest/guide/s3.html\n",
        "def write_to_s3(filename, bucket, key):\n",
        "    with open(filename,'rb') as f: # Read in binary mode\n",
        "        return boto3.Session().resource('s3').Bucket(bucket).Object(key).upload_fileobj(f)"
      ]
    },
    {
      "cell_type": "code",
      "execution_count": null,
      "metadata": {
        "id": "3sBZ84roy1l8"
      },
      "outputs": [],
      "source": [
        "write_to_s3('bike_train.csv',\n",
        "            bucket_name,\n",
        "            training_folder + 'bike_train.csv')\n",
        "\n",
        "write_to_s3('bike_validation.csv',\n",
        "            bucket_name,\n",
        "            validation_folder + 'bike_validation.csv')\n",
        "\n",
        "write_to_s3('bike_test.csv',\n",
        "            bucket_name,\n",
        "            test_folder + 'bike_test.csv')"
      ]
    },
    {
      "cell_type": "markdown",
      "metadata": {
        "id": "CQN3ugRZy1l9"
      },
      "source": [
        "# Training Algorithm Docker Image\n",
        "\n",
        "### SageMaker maintains a separate image for algorithm and region\n",
        "https://docs.aws.amazon.com/sagemaker/latest/dg/sagemaker-algo-docker-registry-paths.html"
      ]
    },
    {
      "cell_type": "code",
      "execution_count": null,
      "metadata": {
        "id": "OR33ly8_y1l9"
      },
      "outputs": [],
      "source": [
        "# Establish a session with AWS\n",
        "sess = sagemaker.Session()"
      ]
    },
    {
      "cell_type": "code",
      "execution_count": null,
      "metadata": {
        "id": "R-ECHqP2y1l9"
      },
      "outputs": [],
      "source": [
        "role = get_execution_role()"
      ]
    },
    {
      "cell_type": "code",
      "execution_count": null,
      "metadata": {
        "id": "vyj1YOkRy1l9",
        "outputId": "f2184b85-28c0-464a-ee81-267b4031c0c6"
      },
      "outputs": [
        {
          "name": "stdout",
          "output_type": "stream",
          "text": [
            "arn:aws:iam::000933986445:role/service-role/AmazonSageMaker-ExecutionRole-20220710T111301\n"
          ]
        }
      ],
      "source": [
        "# This role contains the permissions needed to train, deploy models\n",
        "# SageMaker Service is trusted to assume this role\n",
        "print(role)"
      ]
    },
    {
      "cell_type": "raw",
      "metadata": {
        "id": "4FVtsFs5y1l-"
      },
      "source": [
        "In the past, we had to maintain the algorithm containers mapping:\n",
        "\n",
        "\n",
        "containers = {'us-west-2': '433757028032.dkr.ecr.us-west-2.amazonaws.com/xgboost:latest',\n",
        "              'us-east-1': '811284229777.dkr.ecr.us-east-1.amazonaws.com/xgboost:latest',\n",
        "              'us-east-2': '825641698319.dkr.ecr.us-east-2.amazonaws.com/xgboost:latest',\n",
        "              'eu-west-1': '685385470294.dkr.ecr.eu-west-1.amazonaws.com/xgboost:latest'}\n",
        "\n",
        "Reference:\n",
        "https://docs.aws.amazon.com/sagemaker/latest/dg/sagemaker-algo-docker-registry-paths.html"
      ]
    },
    {
      "cell_type": "code",
      "execution_count": null,
      "metadata": {
        "id": "uR4tcaZ-y1l-",
        "outputId": "46ae0814-384d-4c11-b385-f39b034dcb7b"
      },
      "outputs": [
        {
          "name": "stderr",
          "output_type": "stream",
          "text": [
            "The method get_image_uri has been renamed in sagemaker>=2.\n",
            "See: https://sagemaker.readthedocs.io/en/stable/v2.html for details.\n"
          ]
        },
        {
          "name": "stdout",
          "output_type": "stream",
          "text": [
            "Using SageMaker XGBoost container:\n",
            "811284229777.dkr.ecr.us-east-1.amazonaws.com/xgboost:latest (us-east-1)\n"
          ]
        }
      ],
      "source": [
        "# Sagemaker API now maintains the algorithm container mapping for us\n",
        "# Specify the region, algorithm and version\n",
        "container = sagemaker.amazon.amazon_estimator.get_image_uri(\n",
        "    sess.boto_region_name,\n",
        "    \"xgboost\",\n",
        "    \"latest\")\n",
        "\n",
        "print('Using SageMaker XGBoost container:\\n{} ({})'.format(container, sess.boto_region_name))"
      ]
    },
    {
      "cell_type": "markdown",
      "metadata": {
        "id": "JPrvtN_Xy1l-"
      },
      "source": [
        "## Build Model"
      ]
    },
    {
      "cell_type": "code",
      "execution_count": null,
      "metadata": {
        "id": "i5_8esOay1l_",
        "outputId": "d6b10e49-6cc8-4348-a363-a7741715ae00"
      },
      "outputs": [
        {
          "name": "stderr",
          "output_type": "stream",
          "text": [
            "train_instance_count has been renamed in sagemaker>=2.\n",
            "See: https://sagemaker.readthedocs.io/en/stable/v2.html for details.\n",
            "train_instance_type has been renamed in sagemaker>=2.\n",
            "See: https://sagemaker.readthedocs.io/en/stable/v2.html for details.\n"
          ]
        }
      ],
      "source": [
        "# Configure the training job\n",
        "# Specify type and number of instances to use\n",
        "# S3 location where final artifacts needs to be stored\n",
        "\n",
        "#   Reference: http://sagemaker.readthedocs.io/en/latest/estimators.html\n",
        "\n",
        "estimator = sagemaker.estimator.Estimator(\n",
        "    container,\n",
        "    role,\n",
        "    train_instance_count=1,\n",
        "    train_instance_type='ml.m4.xlarge',\n",
        "    output_path=s3_model_output_location,\n",
        "    sagemaker_session=sess,\n",
        "    base_job_name ='xgboost-bikerental-v1')"
      ]
    },
    {
      "cell_type": "code",
      "execution_count": null,
      "metadata": {
        "id": "eMgj36ydy1l_"
      },
      "outputs": [],
      "source": [
        "# Specify hyper parameters that appropriate for the training algorithm\n",
        "# XGBoost Training Parameter Reference:\n",
        "#   https://github.com/dmlc/xgboost/blob/master/doc/parameter.md\n",
        "\n",
        "# max_depth=5,eta=0.1,subsample=0.7,num_round=150\n",
        "estimator.set_hyperparameters(max_depth=5,\n",
        "                              objective=\"reg:linear\",\n",
        "                              eta=0.1,\n",
        "                              num_round=150)"
      ]
    },
    {
      "cell_type": "code",
      "execution_count": null,
      "metadata": {
        "id": "9WFSsIA6y1l_",
        "outputId": "fee5f5d8-e65a-4d13-8057-dd45aa266b3a"
      },
      "outputs": [
        {
          "data": {
            "text/plain": [
              "{'max_depth': 5, 'objective': 'reg:linear', 'eta': 0.1, 'num_round': 150}"
            ]
          },
          "execution_count": 12,
          "metadata": {},
          "output_type": "execute_result"
        }
      ],
      "source": [
        "estimator.hyperparameters()"
      ]
    },
    {
      "cell_type": "markdown",
      "metadata": {
        "collapsed": true,
        "id": "BE_jhYT4y1l_"
      },
      "source": [
        "### Specify Training Data Location and Optionally, Validation Data Location"
      ]
    },
    {
      "cell_type": "code",
      "execution_count": null,
      "metadata": {
        "id": "HJLRQf4Hy1mA",
        "outputId": "819c1a55-8869-4320-85ba-1732352a80da"
      },
      "outputs": [
        {
          "name": "stderr",
          "output_type": "stream",
          "text": [
            "The class sagemaker.session.s3_input has been renamed in sagemaker>=2.\n",
            "See: https://sagemaker.readthedocs.io/en/stable/v2.html for details.\n",
            "The class sagemaker.session.s3_input has been renamed in sagemaker>=2.\n",
            "See: https://sagemaker.readthedocs.io/en/stable/v2.html for details.\n"
          ]
        }
      ],
      "source": [
        "# content type can be libsvm or csv for XGBoost\n",
        "training_input_config = sagemaker.session.s3_input(\n",
        "    s3_data=s3_training_file_location,\n",
        "    content_type='csv',\n",
        "    s3_data_type='S3Prefix')\n",
        "\n",
        "validation_input_config = sagemaker.session.s3_input(\n",
        "    s3_data=s3_validation_file_location,\n",
        "    content_type='csv',\n",
        "    s3_data_type='S3Prefix'\n",
        ")\n",
        "\n",
        "data_channels = {'train': training_input_config, 'validation': validation_input_config}"
      ]
    },
    {
      "cell_type": "code",
      "execution_count": null,
      "metadata": {
        "id": "S8ZxvPnsy1mA",
        "outputId": "ed0dd15e-b60f-49aa-adc2-7c94bf19bf12"
      },
      "outputs": [
        {
          "name": "stdout",
          "output_type": "stream",
          "text": [
            "{'DataSource': {'S3DataSource': {'S3DataType': 'S3Prefix', 'S3Uri': 's3://xgboost-hosted-model-bucket/bikerental/training/', 'S3DataDistributionType': 'FullyReplicated'}}, 'ContentType': 'csv'}\n",
            "{'DataSource': {'S3DataSource': {'S3DataType': 'S3Prefix', 'S3Uri': 's3://xgboost-hosted-model-bucket/bikerental/validation/', 'S3DataDistributionType': 'FullyReplicated'}}, 'ContentType': 'csv'}\n"
          ]
        }
      ],
      "source": [
        "print(training_input_config.config)\n",
        "print(validation_input_config.config)"
      ]
    },
    {
      "cell_type": "markdown",
      "metadata": {
        "id": "ULx6cejry1mA"
      },
      "source": [
        "### Train the model"
      ]
    },
    {
      "cell_type": "code",
      "execution_count": null,
      "metadata": {
        "id": "h4tlCsAdy1mB",
        "outputId": "9cf1b125-a5f8-4cd9-fedc-5cfdc738cd7f"
      },
      "outputs": [
        {
          "name": "stdout",
          "output_type": "stream",
          "text": [
            "2022-07-10 18:24:11 Starting - Starting the training job...\n",
            "2022-07-10 18:24:36 Starting - Preparing the instances for trainingProfilerReport-1657477451: InProgress\n",
            "............\n",
            "2022-07-10 18:26:35 Downloading - Downloading input data...\n",
            "2022-07-10 18:27:10 Training - Downloading the training image......\n",
            "2022-07-10 18:28:01 Training - Training image download completed. Training in progress.\u001b[34mArguments: train\u001b[0m\n",
            "\u001b[34m[2022-07-10:18:28:05:INFO] Running standalone xgboost training.\u001b[0m\n",
            "\u001b[34m[2022-07-10:18:28:05:INFO] File size need to be processed in the node: 0.5mb. Available memory size in the node: 8441.59mb\u001b[0m\n",
            "\u001b[34m[2022-07-10:18:28:05:INFO] Determined delimiter of CSV input is ','\u001b[0m\n",
            "\u001b[34m[18:28:05] S3DistributionType set as FullyReplicated\u001b[0m\n",
            "\u001b[34m[18:28:05] 7620x13 matrix with 99060 entries loaded from /opt/ml/input/data/train?format=csv&label_column=0&delimiter=,\u001b[0m\n",
            "\u001b[34m[2022-07-10:18:28:05:INFO] Determined delimiter of CSV input is ','\u001b[0m\n",
            "\u001b[34m[18:28:05] S3DistributionType set as FullyReplicated\u001b[0m\n",
            "\u001b[34m[18:28:05] 3266x13 matrix with 42458 entries loaded from /opt/ml/input/data/validation?format=csv&label_column=0&delimiter=,\u001b[0m\n",
            "\u001b[34m[18:28:05] src/tree/updater_prune.cc:74: tree pruning end, 1 roots, 62 extra nodes, 0 pruned nodes, max_depth=5\u001b[0m\n",
            "\u001b[34m[0]#011train-rmse:242.025#011validation-rmse:240.479\u001b[0m\n",
            "\u001b[34m[18:28:05] src/tree/updater_prune.cc:74: tree pruning end, 1 roots, 62 extra nodes, 0 pruned nodes, max_depth=5\u001b[0m\n",
            "\u001b[34m[1]#011train-rmse:222.814#011validation-rmse:221.173\u001b[0m\n",
            "\u001b[34m[18:28:05] src/tree/updater_prune.cc:74: tree pruning end, 1 roots, 62 extra nodes, 0 pruned nodes, max_depth=5\u001b[0m\n",
            "\u001b[34m[2]#011train-rmse:205.576#011validation-rmse:204.063\u001b[0m\n",
            "\u001b[34m[18:28:05] src/tree/updater_prune.cc:74: tree pruning end, 1 roots, 62 extra nodes, 0 pruned nodes, max_depth=5\u001b[0m\n",
            "\u001b[34m[3]#011train-rmse:190.467#011validation-rmse:188.931\u001b[0m\n",
            "\u001b[34m[18:28:05] src/tree/updater_prune.cc:74: tree pruning end, 1 roots, 62 extra nodes, 0 pruned nodes, max_depth=5\u001b[0m\n",
            "\u001b[34m[4]#011train-rmse:177.236#011validation-rmse:175.83\u001b[0m\n",
            "\u001b[34m[18:28:05] src/tree/updater_prune.cc:74: tree pruning end, 1 roots, 62 extra nodes, 0 pruned nodes, max_depth=5\u001b[0m\n",
            "\u001b[34m[5]#011train-rmse:165.797#011validation-rmse:164.383\u001b[0m\n",
            "\u001b[34m[18:28:05] src/tree/updater_prune.cc:74: tree pruning end, 1 roots, 62 extra nodes, 0 pruned nodes, max_depth=5\u001b[0m\n",
            "\u001b[34m[6]#011train-rmse:155.567#011validation-rmse:154.231\u001b[0m\n",
            "\u001b[34m[18:28:05] src/tree/updater_prune.cc:74: tree pruning end, 1 roots, 62 extra nodes, 0 pruned nodes, max_depth=5\u001b[0m\n",
            "\u001b[34m[7]#011train-rmse:146.625#011validation-rmse:145.386\u001b[0m\n",
            "\u001b[34m[18:28:05] src/tree/updater_prune.cc:74: tree pruning end, 1 roots, 62 extra nodes, 0 pruned nodes, max_depth=5\u001b[0m\n",
            "\u001b[34m[8]#011train-rmse:138.655#011validation-rmse:137.59\u001b[0m\n",
            "\u001b[34m[18:28:05] src/tree/updater_prune.cc:74: tree pruning end, 1 roots, 62 extra nodes, 0 pruned nodes, max_depth=5\u001b[0m\n",
            "\u001b[34m[9]#011train-rmse:131.49#011validation-rmse:130.621\u001b[0m\n",
            "\u001b[34m[18:28:05] src/tree/updater_prune.cc:74: tree pruning end, 1 roots, 62 extra nodes, 0 pruned nodes, max_depth=5\u001b[0m\n",
            "\u001b[34m[10]#011train-rmse:125.398#011validation-rmse:124.688\u001b[0m\n",
            "\u001b[34m[18:28:05] src/tree/updater_prune.cc:74: tree pruning end, 1 roots, 62 extra nodes, 0 pruned nodes, max_depth=5\u001b[0m\n",
            "\u001b[34m[11]#011train-rmse:118.571#011validation-rmse:118.203\u001b[0m\n",
            "\u001b[34m[18:28:05] src/tree/updater_prune.cc:74: tree pruning end, 1 roots, 62 extra nodes, 0 pruned nodes, max_depth=5\u001b[0m\n",
            "\u001b[34m[12]#011train-rmse:112.712#011validation-rmse:112.613\u001b[0m\n",
            "\u001b[34m[18:28:06] src/tree/updater_prune.cc:74: tree pruning end, 1 roots, 62 extra nodes, 0 pruned nodes, max_depth=5\u001b[0m\n",
            "\u001b[34m[13]#011train-rmse:105.46#011validation-rmse:105.865\u001b[0m\n",
            "\u001b[34m[18:28:06] src/tree/updater_prune.cc:74: tree pruning end, 1 roots, 62 extra nodes, 0 pruned nodes, max_depth=5\u001b[0m\n",
            "\u001b[34m[14]#011train-rmse:101.209#011validation-rmse:101.796\u001b[0m\n",
            "\u001b[34m[18:28:06] src/tree/updater_prune.cc:74: tree pruning end, 1 roots, 62 extra nodes, 0 pruned nodes, max_depth=5\u001b[0m\n",
            "\u001b[34m[15]#011train-rmse:97.0593#011validation-rmse:97.9149\u001b[0m\n",
            "\u001b[34m[18:28:06] src/tree/updater_prune.cc:74: tree pruning end, 1 roots, 62 extra nodes, 0 pruned nodes, max_depth=5\u001b[0m\n",
            "\u001b[34m[16]#011train-rmse:91.9215#011validation-rmse:93.0642\u001b[0m\n",
            "\u001b[34m[18:28:06] src/tree/updater_prune.cc:74: tree pruning end, 1 roots, 62 extra nodes, 0 pruned nodes, max_depth=5\u001b[0m\n",
            "\u001b[34m[17]#011train-rmse:89.172#011validation-rmse:90.3688\u001b[0m\n",
            "\u001b[34m[18:28:06] src/tree/updater_prune.cc:74: tree pruning end, 1 roots, 62 extra nodes, 0 pruned nodes, max_depth=5\u001b[0m\n",
            "\u001b[34m[18]#011train-rmse:86.7558#011validation-rmse:88.0906\u001b[0m\n",
            "\u001b[34m[18:28:06] src/tree/updater_prune.cc:74: tree pruning end, 1 roots, 62 extra nodes, 0 pruned nodes, max_depth=5\u001b[0m\n",
            "\u001b[34m[19]#011train-rmse:82.9479#011validation-rmse:84.527\u001b[0m\n",
            "\u001b[34m[18:28:06] src/tree/updater_prune.cc:74: tree pruning end, 1 roots, 62 extra nodes, 0 pruned nodes, max_depth=5\u001b[0m\n",
            "\u001b[34m[20]#011train-rmse:80.8197#011validation-rmse:82.6188\u001b[0m\n",
            "\u001b[34m[18:28:06] src/tree/updater_prune.cc:74: tree pruning end, 1 roots, 62 extra nodes, 0 pruned nodes, max_depth=5\u001b[0m\n",
            "\u001b[34m[21]#011train-rmse:78.6916#011validation-rmse:80.7038\u001b[0m\n",
            "\u001b[34m[18:28:06] src/tree/updater_prune.cc:74: tree pruning end, 1 roots, 62 extra nodes, 0 pruned nodes, max_depth=5\u001b[0m\n",
            "\u001b[34m[22]#011train-rmse:76.535#011validation-rmse:78.6643\u001b[0m\n",
            "\u001b[34m[18:28:06] src/tree/updater_prune.cc:74: tree pruning end, 1 roots, 62 extra nodes, 0 pruned nodes, max_depth=5\u001b[0m\n",
            "\u001b[34m[23]#011train-rmse:72.7328#011validation-rmse:75.2092\u001b[0m\n",
            "\u001b[34m[18:28:06] src/tree/updater_prune.cc:74: tree pruning end, 1 roots, 62 extra nodes, 0 pruned nodes, max_depth=5\u001b[0m\n",
            "\u001b[34m[24]#011train-rmse:70.7264#011validation-rmse:73.3703\u001b[0m\n",
            "\u001b[34m[18:28:06] src/tree/updater_prune.cc:74: tree pruning end, 1 roots, 62 extra nodes, 0 pruned nodes, max_depth=5\u001b[0m\n",
            "\u001b[34m[25]#011train-rmse:67.9877#011validation-rmse:70.9934\u001b[0m\n",
            "\u001b[34m[18:28:06] src/tree/updater_prune.cc:74: tree pruning end, 1 roots, 62 extra nodes, 0 pruned nodes, max_depth=5\u001b[0m\n",
            "\u001b[34m[26]#011train-rmse:66.7764#011validation-rmse:69.8578\u001b[0m\n",
            "\u001b[34m[18:28:06] src/tree/updater_prune.cc:74: tree pruning end, 1 roots, 62 extra nodes, 0 pruned nodes, max_depth=5\u001b[0m\n",
            "\u001b[34m[27]#011train-rmse:64.72#011validation-rmse:67.9461\u001b[0m\n",
            "\u001b[34m[18:28:06] src/tree/updater_prune.cc:74: tree pruning end, 1 roots, 62 extra nodes, 0 pruned nodes, max_depth=5\u001b[0m\n",
            "\u001b[34m[28]#011train-rmse:63.8874#011validation-rmse:67.1669\u001b[0m\n",
            "\u001b[34m[18:28:06] src/tree/updater_prune.cc:74: tree pruning end, 1 roots, 62 extra nodes, 0 pruned nodes, max_depth=5\u001b[0m\n",
            "\u001b[34m[29]#011train-rmse:62.6582#011validation-rmse:66.0732\u001b[0m\n",
            "\u001b[34m[18:28:06] src/tree/updater_prune.cc:74: tree pruning end, 1 roots, 62 extra nodes, 0 pruned nodes, max_depth=5\u001b[0m\n",
            "\u001b[34m[30]#011train-rmse:61.9487#011validation-rmse:65.4109\u001b[0m\n",
            "\u001b[34m[18:28:06] src/tree/updater_prune.cc:74: tree pruning end, 1 roots, 60 extra nodes, 0 pruned nodes, max_depth=5\u001b[0m\n",
            "\u001b[34m[31]#011train-rmse:61.0521#011validation-rmse:64.67\u001b[0m\n",
            "\u001b[34m[18:28:06] src/tree/updater_prune.cc:74: tree pruning end, 1 roots, 62 extra nodes, 0 pruned nodes, max_depth=5\u001b[0m\n",
            "\u001b[34m[32]#011train-rmse:59.856#011validation-rmse:63.6201\u001b[0m\n",
            "\u001b[34m[18:28:06] src/tree/updater_prune.cc:74: tree pruning end, 1 roots, 62 extra nodes, 0 pruned nodes, max_depth=5\u001b[0m\n",
            "\u001b[34m[33]#011train-rmse:59.3592#011validation-rmse:63.1742\u001b[0m\n",
            "\u001b[34m[18:28:06] src/tree/updater_prune.cc:74: tree pruning end, 1 roots, 62 extra nodes, 0 pruned nodes, max_depth=5\u001b[0m\n",
            "\u001b[34m[34]#011train-rmse:58.6687#011validation-rmse:62.5111\u001b[0m\n",
            "\u001b[34m[18:28:06] src/tree/updater_prune.cc:74: tree pruning end, 1 roots, 62 extra nodes, 0 pruned nodes, max_depth=5\u001b[0m\n",
            "\u001b[34m[35]#011train-rmse:56.9749#011validation-rmse:60.9725\u001b[0m\n",
            "\u001b[34m[18:28:06] src/tree/updater_prune.cc:74: tree pruning end, 1 roots, 62 extra nodes, 0 pruned nodes, max_depth=5\u001b[0m\n",
            "\u001b[34m[36]#011train-rmse:56.3934#011validation-rmse:60.4343\u001b[0m\n",
            "\u001b[34m[18:28:06] src/tree/updater_prune.cc:74: tree pruning end, 1 roots, 62 extra nodes, 0 pruned nodes, max_depth=5\u001b[0m\n",
            "\u001b[34m[37]#011train-rmse:55.7189#011validation-rmse:59.8064\u001b[0m\n",
            "\u001b[34m[18:28:06] src/tree/updater_prune.cc:74: tree pruning end, 1 roots, 62 extra nodes, 0 pruned nodes, max_depth=5\u001b[0m\n",
            "\u001b[34m[38]#011train-rmse:55.357#011validation-rmse:59.5839\u001b[0m\n",
            "\u001b[34m[18:28:06] src/tree/updater_prune.cc:74: tree pruning end, 1 roots, 62 extra nodes, 0 pruned nodes, max_depth=5\u001b[0m\n",
            "\u001b[34m[39]#011train-rmse:53.9357#011validation-rmse:58.3509\u001b[0m\n",
            "\u001b[34m[18:28:06] src/tree/updater_prune.cc:74: tree pruning end, 1 roots, 62 extra nodes, 0 pruned nodes, max_depth=5\u001b[0m\n",
            "\u001b[34m[40]#011train-rmse:53.5099#011validation-rmse:57.993\u001b[0m\n",
            "\u001b[34m[18:28:06] src/tree/updater_prune.cc:74: tree pruning end, 1 roots, 62 extra nodes, 0 pruned nodes, max_depth=5\u001b[0m\n",
            "\u001b[34m[41]#011train-rmse:52.8346#011validation-rmse:57.4131\u001b[0m\n",
            "\u001b[34m[18:28:06] src/tree/updater_prune.cc:74: tree pruning end, 1 roots, 62 extra nodes, 0 pruned nodes, max_depth=5\u001b[0m\n",
            "\u001b[34m[42]#011train-rmse:52.4266#011validation-rmse:57.0511\u001b[0m\n",
            "\u001b[34m[18:28:06] src/tree/updater_prune.cc:74: tree pruning end, 1 roots, 62 extra nodes, 0 pruned nodes, max_depth=5\u001b[0m\n",
            "\u001b[34m[43]#011train-rmse:51.9126#011validation-rmse:56.6252\u001b[0m\n",
            "\u001b[34m[18:28:06] src/tree/updater_prune.cc:74: tree pruning end, 1 roots, 52 extra nodes, 0 pruned nodes, max_depth=5\u001b[0m\n",
            "\u001b[34m[44]#011train-rmse:51.6476#011validation-rmse:56.3983\u001b[0m\n",
            "\u001b[34m[18:28:06] src/tree/updater_prune.cc:74: tree pruning end, 1 roots, 62 extra nodes, 0 pruned nodes, max_depth=5\u001b[0m\n",
            "\u001b[34m[45]#011train-rmse:51.3462#011validation-rmse:56.1691\u001b[0m\n",
            "\u001b[34m[18:28:06] src/tree/updater_prune.cc:74: tree pruning end, 1 roots, 62 extra nodes, 0 pruned nodes, max_depth=5\u001b[0m\n",
            "\u001b[34m[46]#011train-rmse:50.3351#011validation-rmse:55.3221\u001b[0m\n",
            "\u001b[34m[18:28:06] src/tree/updater_prune.cc:74: tree pruning end, 1 roots, 52 extra nodes, 0 pruned nodes, max_depth=5\u001b[0m\n",
            "\u001b[34m[47]#011train-rmse:50.1585#011validation-rmse:55.176\u001b[0m\n",
            "\u001b[34m[18:28:06] src/tree/updater_prune.cc:74: tree pruning end, 1 roots, 62 extra nodes, 0 pruned nodes, max_depth=5\u001b[0m\n",
            "\u001b[34m[48]#011train-rmse:49.778#011validation-rmse:54.8772\u001b[0m\n",
            "\u001b[34m[18:28:06] src/tree/updater_prune.cc:74: tree pruning end, 1 roots, 50 extra nodes, 0 pruned nodes, max_depth=5\u001b[0m\n",
            "\u001b[34m[49]#011train-rmse:49.5895#011validation-rmse:54.7289\u001b[0m\n",
            "\u001b[34m[18:28:06] src/tree/updater_prune.cc:74: tree pruning end, 1 roots, 48 extra nodes, 0 pruned nodes, max_depth=5\u001b[0m\n",
            "\u001b[34m[50]#011train-rmse:49.2581#011validation-rmse:54.4745\u001b[0m\n",
            "\u001b[34m[18:28:06] src/tree/updater_prune.cc:74: tree pruning end, 1 roots, 62 extra nodes, 0 pruned nodes, max_depth=5\u001b[0m\n",
            "\u001b[34m[51]#011train-rmse:48.3306#011validation-rmse:53.5913\u001b[0m\n",
            "\u001b[34m[18:28:06] src/tree/updater_prune.cc:74: tree pruning end, 1 roots, 58 extra nodes, 0 pruned nodes, max_depth=5\u001b[0m\n",
            "\u001b[34m[52]#011train-rmse:47.9093#011validation-rmse:53.2166\u001b[0m\n",
            "\u001b[34m[18:28:06] src/tree/updater_prune.cc:74: tree pruning end, 1 roots, 52 extra nodes, 0 pruned nodes, max_depth=5\u001b[0m\n",
            "\u001b[34m[53]#011train-rmse:47.6984#011validation-rmse:53.0755\u001b[0m\n",
            "\u001b[34m[18:28:06] src/tree/updater_prune.cc:74: tree pruning end, 1 roots, 62 extra nodes, 0 pruned nodes, max_depth=5\u001b[0m\n",
            "\u001b[34m[54]#011train-rmse:47.46#011validation-rmse:52.9403\u001b[0m\n",
            "\u001b[34m[18:28:06] src/tree/updater_prune.cc:74: tree pruning end, 1 roots, 50 extra nodes, 0 pruned nodes, max_depth=5\u001b[0m\n",
            "\u001b[34m[55]#011train-rmse:47.2575#011validation-rmse:52.8084\u001b[0m\n",
            "\u001b[34m[18:28:06] src/tree/updater_prune.cc:74: tree pruning end, 1 roots, 62 extra nodes, 0 pruned nodes, max_depth=5\u001b[0m\n",
            "\u001b[34m[56]#011train-rmse:46.6325#011validation-rmse:52.2982\u001b[0m\n",
            "\u001b[34m[18:28:06] src/tree/updater_prune.cc:74: tree pruning end, 1 roots, 54 extra nodes, 0 pruned nodes, max_depth=5\u001b[0m\n",
            "\u001b[34m[57]#011train-rmse:46.4256#011validation-rmse:52.1642\u001b[0m\n",
            "\u001b[34m[18:28:06] src/tree/updater_prune.cc:74: tree pruning end, 1 roots, 60 extra nodes, 0 pruned nodes, max_depth=5\u001b[0m\n",
            "\u001b[34m[58]#011train-rmse:46.2462#011validation-rmse:52.0213\u001b[0m\n",
            "\u001b[34m[18:28:06] src/tree/updater_prune.cc:74: tree pruning end, 1 roots, 52 extra nodes, 0 pruned nodes, max_depth=5\u001b[0m\n",
            "\u001b[34m[59]#011train-rmse:46.1184#011validation-rmse:51.9262\u001b[0m\n",
            "\u001b[34m[18:28:06] src/tree/updater_prune.cc:74: tree pruning end, 1 roots, 58 extra nodes, 0 pruned nodes, max_depth=5\u001b[0m\n",
            "\u001b[34m[60]#011train-rmse:45.6404#011validation-rmse:51.5341\u001b[0m\n",
            "\u001b[34m[18:28:06] src/tree/updater_prune.cc:74: tree pruning end, 1 roots, 54 extra nodes, 0 pruned nodes, max_depth=5\u001b[0m\n",
            "\u001b[34m[61]#011train-rmse:45.4455#011validation-rmse:51.3781\u001b[0m\n",
            "\u001b[34m[18:28:06] src/tree/updater_prune.cc:74: tree pruning end, 1 roots, 60 extra nodes, 0 pruned nodes, max_depth=5\u001b[0m\n",
            "\u001b[34m[62]#011train-rmse:45.2652#011validation-rmse:51.2524\u001b[0m\n",
            "\u001b[34m[18:28:06] src/tree/updater_prune.cc:74: tree pruning end, 1 roots, 58 extra nodes, 0 pruned nodes, max_depth=5\u001b[0m\n",
            "\u001b[34m[63]#011train-rmse:45.1747#011validation-rmse:51.1696\u001b[0m\n",
            "\u001b[34m[18:28:06] src/tree/updater_prune.cc:74: tree pruning end, 1 roots, 62 extra nodes, 0 pruned nodes, max_depth=5\u001b[0m\n",
            "\u001b[34m[64]#011train-rmse:44.4613#011validation-rmse:50.5362\u001b[0m\n",
            "\u001b[34m[18:28:06] src/tree/updater_prune.cc:74: tree pruning end, 1 roots, 54 extra nodes, 0 pruned nodes, max_depth=5\u001b[0m\n",
            "\u001b[34m[65]#011train-rmse:44.317#011validation-rmse:50.4338\u001b[0m\n",
            "\u001b[34m[18:28:06] src/tree/updater_prune.cc:74: tree pruning end, 1 roots, 52 extra nodes, 0 pruned nodes, max_depth=5\u001b[0m\n",
            "\u001b[34m[66]#011train-rmse:43.9179#011validation-rmse:50.0375\u001b[0m\n",
            "\u001b[34m[18:28:06] src/tree/updater_prune.cc:74: tree pruning end, 1 roots, 58 extra nodes, 0 pruned nodes, max_depth=5\u001b[0m\n",
            "\u001b[34m[67]#011train-rmse:43.8019#011validation-rmse:49.9805\u001b[0m\n",
            "\u001b[34m[18:28:06] src/tree/updater_prune.cc:74: tree pruning end, 1 roots, 62 extra nodes, 0 pruned nodes, max_depth=5\u001b[0m\n",
            "\u001b[34m[68]#011train-rmse:43.6265#011validation-rmse:49.8504\u001b[0m\n",
            "\u001b[34m[18:28:06] src/tree/updater_prune.cc:74: tree pruning end, 1 roots, 54 extra nodes, 0 pruned nodes, max_depth=5\u001b[0m\n",
            "\u001b[34m[69]#011train-rmse:43.498#011validation-rmse:49.7385\u001b[0m\n",
            "\u001b[34m[18:28:06] src/tree/updater_prune.cc:74: tree pruning end, 1 roots, 36 extra nodes, 0 pruned nodes, max_depth=5\u001b[0m\n",
            "\u001b[34m[70]#011train-rmse:43.4059#011validation-rmse:49.6714\u001b[0m\n",
            "\u001b[34m[18:28:06] src/tree/updater_prune.cc:74: tree pruning end, 1 roots, 52 extra nodes, 0 pruned nodes, max_depth=5\u001b[0m\n",
            "\u001b[34m[71]#011train-rmse:43.2869#011validation-rmse:49.5945\u001b[0m\n",
            "\u001b[34m[18:28:06] src/tree/updater_prune.cc:74: tree pruning end, 1 roots, 50 extra nodes, 0 pruned nodes, max_depth=5\u001b[0m\n",
            "\u001b[34m[72]#011train-rmse:43.2151#011validation-rmse:49.5345\u001b[0m\n",
            "\u001b[34m[73]#011train-rmse:43.0995#011validation-rmse:49.4675\u001b[0m\n",
            "\u001b[34m[18:28:06] src/tree/updater_prune.cc:74: tree pruning end, 1 roots, 58 extra nodes, 0 pruned nodes, max_depth=5\u001b[0m\n",
            "\u001b[34m[18:28:06] src/tree/updater_prune.cc:74: tree pruning end, 1 roots, 56 extra nodes, 0 pruned nodes, max_depth=5\u001b[0m\n",
            "\u001b[34m[74]#011train-rmse:42.9509#011validation-rmse:49.3753\u001b[0m\n",
            "\u001b[34m[18:28:06] src/tree/updater_prune.cc:74: tree pruning end, 1 roots, 62 extra nodes, 0 pruned nodes, max_depth=5\u001b[0m\n",
            "\u001b[34m[75]#011train-rmse:42.3179#011validation-rmse:48.8719\u001b[0m\n",
            "\u001b[34m[18:28:06] src/tree/updater_prune.cc:74: tree pruning end, 1 roots, 56 extra nodes, 0 pruned nodes, max_depth=5\u001b[0m\n",
            "\u001b[34m[76]#011train-rmse:42.1975#011validation-rmse:48.7758\u001b[0m\n",
            "\u001b[34m[18:28:06] src/tree/updater_prune.cc:74: tree pruning end, 1 roots, 56 extra nodes, 0 pruned nodes, max_depth=5\u001b[0m\n",
            "\u001b[34m[77]#011train-rmse:41.7256#011validation-rmse:48.3387\u001b[0m\n",
            "\u001b[34m[18:28:06] src/tree/updater_prune.cc:74: tree pruning end, 1 roots, 38 extra nodes, 0 pruned nodes, max_depth=5\u001b[0m\n",
            "\u001b[34m[78]#011train-rmse:41.6475#011validation-rmse:48.2489\u001b[0m\n",
            "\u001b[34m[18:28:06] src/tree/updater_prune.cc:74: tree pruning end, 1 roots, 60 extra nodes, 0 pruned nodes, max_depth=5\u001b[0m\n",
            "\u001b[34m[79]#011train-rmse:41.5605#011validation-rmse:48.2131\u001b[0m\n",
            "\u001b[34m[18:28:06] src/tree/updater_prune.cc:74: tree pruning end, 1 roots, 62 extra nodes, 0 pruned nodes, max_depth=5\u001b[0m\n",
            "\u001b[34m[80]#011train-rmse:41.401#011validation-rmse:48.0841\u001b[0m\n",
            "\u001b[34m[18:28:06] src/tree/updater_prune.cc:74: tree pruning end, 1 roots, 62 extra nodes, 0 pruned nodes, max_depth=5\u001b[0m\n",
            "\u001b[34m[81]#011train-rmse:41.306#011validation-rmse:48.0292\u001b[0m\n",
            "\u001b[34m[18:28:06] src/tree/updater_prune.cc:74: tree pruning end, 1 roots, 54 extra nodes, 0 pruned nodes, max_depth=5\u001b[0m\n",
            "\u001b[34m[82]#011train-rmse:41.1029#011validation-rmse:47.889\u001b[0m\n",
            "\u001b[34m[18:28:06] src/tree/updater_prune.cc:74: tree pruning end, 1 roots, 60 extra nodes, 0 pruned nodes, max_depth=5\u001b[0m\n",
            "\u001b[34m[83]#011train-rmse:41.0099#011validation-rmse:47.8349\u001b[0m\n",
            "\u001b[34m[18:28:06] src/tree/updater_prune.cc:74: tree pruning end, 1 roots, 56 extra nodes, 0 pruned nodes, max_depth=5\u001b[0m\n",
            "\u001b[34m[84]#011train-rmse:40.8551#011validation-rmse:47.7956\u001b[0m\n",
            "\u001b[34m[18:28:06] src/tree/updater_prune.cc:74: tree pruning end, 1 roots, 62 extra nodes, 0 pruned nodes, max_depth=5\u001b[0m\n",
            "\u001b[34m[85]#011train-rmse:40.7265#011validation-rmse:47.714\u001b[0m\n",
            "\u001b[34m[18:28:06] src/tree/updater_prune.cc:74: tree pruning end, 1 roots, 62 extra nodes, 0 pruned nodes, max_depth=5\u001b[0m\n",
            "\u001b[34m[86]#011train-rmse:40.4088#011validation-rmse:47.425\u001b[0m\n",
            "\u001b[34m[18:28:06] src/tree/updater_prune.cc:74: tree pruning end, 1 roots, 58 extra nodes, 0 pruned nodes, max_depth=5\u001b[0m\n",
            "\u001b[34m[87]#011train-rmse:40.3509#011validation-rmse:47.4013\u001b[0m\n",
            "\u001b[34m[18:28:06] src/tree/updater_prune.cc:74: tree pruning end, 1 roots, 58 extra nodes, 0 pruned nodes, max_depth=5\u001b[0m\n",
            "\u001b[34m[88]#011train-rmse:40.2749#011validation-rmse:47.3677\u001b[0m\n",
            "\u001b[34m[18:28:06] src/tree/updater_prune.cc:74: tree pruning end, 1 roots, 62 extra nodes, 0 pruned nodes, max_depth=5\u001b[0m\n",
            "\u001b[34m[89]#011train-rmse:39.877#011validation-rmse:47.077\u001b[0m\n",
            "\u001b[34m[18:28:06] src/tree/updater_prune.cc:74: tree pruning end, 1 roots, 58 extra nodes, 0 pruned nodes, max_depth=5\u001b[0m\n",
            "\u001b[34m[90]#011train-rmse:39.7827#011validation-rmse:47.0027\u001b[0m\n",
            "\u001b[34m[18:28:06] src/tree/updater_prune.cc:74: tree pruning end, 1 roots, 38 extra nodes, 0 pruned nodes, max_depth=5\u001b[0m\n",
            "\u001b[34m[91]#011train-rmse:39.7534#011validation-rmse:46.9766\u001b[0m\n",
            "\u001b[34m[18:28:06] src/tree/updater_prune.cc:74: tree pruning end, 1 roots, 62 extra nodes, 0 pruned nodes, max_depth=5\u001b[0m\n",
            "\u001b[34m[92]#011train-rmse:39.3265#011validation-rmse:46.6478\u001b[0m\n",
            "\u001b[34m[18:28:06] src/tree/updater_prune.cc:74: tree pruning end, 1 roots, 38 extra nodes, 0 pruned nodes, max_depth=5\u001b[0m\n",
            "\u001b[34m[93]#011train-rmse:39.2724#011validation-rmse:46.6208\u001b[0m\n",
            "\u001b[34m[18:28:06] src/tree/updater_prune.cc:74: tree pruning end, 1 roots, 54 extra nodes, 0 pruned nodes, max_depth=5\u001b[0m\n",
            "\u001b[34m[94]#011train-rmse:39.2244#011validation-rmse:46.6255\u001b[0m\n",
            "\u001b[34m[18:28:06] src/tree/updater_prune.cc:74: tree pruning end, 1 roots, 52 extra nodes, 0 pruned nodes, max_depth=5\u001b[0m\n",
            "\u001b[34m[95]#011train-rmse:39.1685#011validation-rmse:46.5826\u001b[0m\n",
            "\u001b[34m[18:28:06] src/tree/updater_prune.cc:74: tree pruning end, 1 roots, 40 extra nodes, 0 pruned nodes, max_depth=5\u001b[0m\n",
            "\u001b[34m[96]#011train-rmse:39.0116#011validation-rmse:46.4651\u001b[0m\n",
            "\u001b[34m[18:28:06] src/tree/updater_prune.cc:74: tree pruning end, 1 roots, 60 extra nodes, 0 pruned nodes, max_depth=5\u001b[0m\n",
            "\u001b[34m[97]#011train-rmse:38.7848#011validation-rmse:46.2809\u001b[0m\n",
            "\u001b[34m[18:28:06] src/tree/updater_prune.cc:74: tree pruning end, 1 roots, 54 extra nodes, 0 pruned nodes, max_depth=5\u001b[0m\n",
            "\u001b[34m[98]#011train-rmse:38.6823#011validation-rmse:46.214\u001b[0m\n",
            "\u001b[34m[18:28:06] src/tree/updater_prune.cc:74: tree pruning end, 1 roots, 62 extra nodes, 0 pruned nodes, max_depth=5\u001b[0m\n",
            "\u001b[34m[99]#011train-rmse:38.4533#011validation-rmse:46.0403\u001b[0m\n",
            "\u001b[34m[18:28:06] src/tree/updater_prune.cc:74: tree pruning end, 1 roots, 40 extra nodes, 0 pruned nodes, max_depth=5\u001b[0m\n",
            "\u001b[34m[100]#011train-rmse:38.4162#011validation-rmse:46.0346\u001b[0m\n",
            "\u001b[34m[18:28:06] src/tree/updater_prune.cc:74: tree pruning end, 1 roots, 54 extra nodes, 0 pruned nodes, max_depth=5\u001b[0m\n",
            "\u001b[34m[101]#011train-rmse:38.3458#011validation-rmse:46.0174\u001b[0m\n",
            "\u001b[34m[18:28:06] src/tree/updater_prune.cc:74: tree pruning end, 1 roots, 62 extra nodes, 0 pruned nodes, max_depth=5\u001b[0m\n",
            "\u001b[34m[102]#011train-rmse:38.1573#011validation-rmse:45.8544\u001b[0m\n",
            "\u001b[34m[18:28:06] src/tree/updater_prune.cc:74: tree pruning end, 1 roots, 62 extra nodes, 0 pruned nodes, max_depth=5\u001b[0m\n",
            "\u001b[34m[103]#011train-rmse:38.0401#011validation-rmse:45.8059\u001b[0m\n",
            "\u001b[34m[18:28:06] src/tree/updater_prune.cc:74: tree pruning end, 1 roots, 62 extra nodes, 0 pruned nodes, max_depth=5\u001b[0m\n",
            "\u001b[34m[18:28:06] src/tree/updater_prune.cc:74: tree pruning end, 1 roots, 60 extra nodes, 0 pruned nodes, max_depth=5\u001b[0m\n",
            "\u001b[34m[104]#011train-rmse:37.8823#011validation-rmse:45.7136\u001b[0m\n",
            "\u001b[34m[105]#011train-rmse:37.7321#011validation-rmse:45.6125\u001b[0m\n",
            "\u001b[34m[18:28:06] src/tree/updater_prune.cc:74: tree pruning end, 1 roots, 62 extra nodes, 0 pruned nodes, max_depth=5\u001b[0m\n",
            "\u001b[34m[106]#011train-rmse:37.5791#011validation-rmse:45.5504\u001b[0m\n",
            "\u001b[34m[18:28:06] src/tree/updater_prune.cc:74: tree pruning end, 1 roots, 46 extra nodes, 0 pruned nodes, max_depth=5\u001b[0m\n",
            "\u001b[34m[107]#011train-rmse:37.5484#011validation-rmse:45.5254\u001b[0m\n",
            "\u001b[34m[18:28:06] src/tree/updater_prune.cc:74: tree pruning end, 1 roots, 60 extra nodes, 0 pruned nodes, max_depth=5\u001b[0m\n",
            "\u001b[34m[108]#011train-rmse:37.4542#011validation-rmse:45.4524\u001b[0m\n",
            "\u001b[34m[18:28:06] src/tree/updater_prune.cc:74: tree pruning end, 1 roots, 62 extra nodes, 0 pruned nodes, max_depth=5\u001b[0m\n",
            "\u001b[34m[109]#011train-rmse:37.2885#011validation-rmse:45.3743\u001b[0m\n",
            "\u001b[34m[18:28:06] src/tree/updater_prune.cc:74: tree pruning end, 1 roots, 60 extra nodes, 0 pruned nodes, max_depth=5\u001b[0m\n",
            "\u001b[34m[110]#011train-rmse:37.2143#011validation-rmse:45.3207\u001b[0m\n",
            "\u001b[34m[18:28:06] src/tree/updater_prune.cc:74: tree pruning end, 1 roots, 54 extra nodes, 0 pruned nodes, max_depth=5\u001b[0m\n",
            "\u001b[34m[111]#011train-rmse:37.1374#011validation-rmse:45.2849\u001b[0m\n",
            "\u001b[34m[18:28:06] src/tree/updater_prune.cc:74: tree pruning end, 1 roots, 58 extra nodes, 0 pruned nodes, max_depth=5\u001b[0m\n",
            "\u001b[34m[112]#011train-rmse:37.0506#011validation-rmse:45.2187\u001b[0m\n",
            "\u001b[34m[18:28:06] src/tree/updater_prune.cc:74: tree pruning end, 1 roots, 62 extra nodes, 0 pruned nodes, max_depth=5\u001b[0m\n",
            "\u001b[34m[113]#011train-rmse:36.8214#011validation-rmse:45.0142\u001b[0m\n",
            "\u001b[34m[18:28:06] src/tree/updater_prune.cc:74: tree pruning end, 1 roots, 60 extra nodes, 0 pruned nodes, max_depth=5\u001b[0m\n",
            "\u001b[34m[114]#011train-rmse:36.7345#011validation-rmse:44.9521\u001b[0m\n",
            "\u001b[34m[18:28:06] src/tree/updater_prune.cc:74: tree pruning end, 1 roots, 56 extra nodes, 0 pruned nodes, max_depth=5\u001b[0m\n",
            "\u001b[34m[115]#011train-rmse:36.6683#011validation-rmse:44.8934\u001b[0m\n",
            "\u001b[34m[18:28:06] src/tree/updater_prune.cc:74: tree pruning end, 1 roots, 62 extra nodes, 0 pruned nodes, max_depth=5\u001b[0m\n",
            "\u001b[34m[116]#011train-rmse:36.5661#011validation-rmse:44.8552\u001b[0m\n",
            "\u001b[34m[18:28:06] src/tree/updater_prune.cc:74: tree pruning end, 1 roots, 58 extra nodes, 0 pruned nodes, max_depth=5\u001b[0m\n",
            "\u001b[34m[117]#011train-rmse:36.4181#011validation-rmse:44.7344\u001b[0m\n",
            "\u001b[34m[18:28:06] src/tree/updater_prune.cc:74: tree pruning end, 1 roots, 62 extra nodes, 0 pruned nodes, max_depth=5\u001b[0m\n",
            "\u001b[34m[118]#011train-rmse:36.3357#011validation-rmse:44.7103\u001b[0m\n",
            "\u001b[34m[18:28:06] src/tree/updater_prune.cc:74: tree pruning end, 1 roots, 62 extra nodes, 0 pruned nodes, max_depth=5\u001b[0m\n",
            "\u001b[34m[119]#011train-rmse:36.208#011validation-rmse:44.691\u001b[0m\n",
            "\u001b[34m[18:28:06] src/tree/updater_prune.cc:74: tree pruning end, 1 roots, 62 extra nodes, 0 pruned nodes, max_depth=5\u001b[0m\n",
            "\u001b[34m[120]#011train-rmse:36.1498#011validation-rmse:44.6562\u001b[0m\n",
            "\u001b[34m[18:28:06] src/tree/updater_prune.cc:74: tree pruning end, 1 roots, 54 extra nodes, 0 pruned nodes, max_depth=5\u001b[0m\n",
            "\u001b[34m[121]#011train-rmse:36.1237#011validation-rmse:44.6397\u001b[0m\n",
            "\u001b[34m[18:28:06] src/tree/updater_prune.cc:74: tree pruning end, 1 roots, 62 extra nodes, 0 pruned nodes, max_depth=5\u001b[0m\n",
            "\u001b[34m[122]#011train-rmse:36.0144#011validation-rmse:44.5871\u001b[0m\n",
            "\u001b[34m[18:28:06] src/tree/updater_prune.cc:74: tree pruning end, 1 roots, 62 extra nodes, 0 pruned nodes, max_depth=5\u001b[0m\n",
            "\u001b[34m[123]#011train-rmse:35.9654#011validation-rmse:44.5195\u001b[0m\n",
            "\u001b[34m[18:28:06] src/tree/updater_prune.cc:74: tree pruning end, 1 roots, 60 extra nodes, 0 pruned nodes, max_depth=5\u001b[0m\n",
            "\u001b[34m[124]#011train-rmse:35.9196#011validation-rmse:44.4835\u001b[0m\n",
            "\u001b[34m[18:28:06] src/tree/updater_prune.cc:74: tree pruning end, 1 roots, 50 extra nodes, 0 pruned nodes, max_depth=5\u001b[0m\n",
            "\u001b[34m[125]#011train-rmse:35.9022#011validation-rmse:44.4738\u001b[0m\n",
            "\u001b[34m[18:28:06] src/tree/updater_prune.cc:74: tree pruning end, 1 roots, 62 extra nodes, 0 pruned nodes, max_depth=5\u001b[0m\n",
            "\u001b[34m[126]#011train-rmse:35.8101#011validation-rmse:44.4493\u001b[0m\n",
            "\u001b[34m[18:28:06] src/tree/updater_prune.cc:74: tree pruning end, 1 roots, 58 extra nodes, 0 pruned nodes, max_depth=5\u001b[0m\n",
            "\u001b[34m[127]#011train-rmse:35.7257#011validation-rmse:44.3897\u001b[0m\n",
            "\u001b[34m[18:28:06] src/tree/updater_prune.cc:74: tree pruning end, 1 roots, 62 extra nodes, 0 pruned nodes, max_depth=5\u001b[0m\n",
            "\u001b[34m[128]#011train-rmse:35.6025#011validation-rmse:44.345\u001b[0m\n",
            "\u001b[34m[18:28:06] src/tree/updater_prune.cc:74: tree pruning end, 1 roots, 62 extra nodes, 0 pruned nodes, max_depth=5\u001b[0m\n",
            "\u001b[34m[129]#011train-rmse:35.5633#011validation-rmse:44.3174\u001b[0m\n",
            "\u001b[34m[18:28:06] src/tree/updater_prune.cc:74: tree pruning end, 1 roots, 60 extra nodes, 0 pruned nodes, max_depth=5\u001b[0m\n",
            "\u001b[34m[130]#011train-rmse:35.4866#011validation-rmse:44.3069\u001b[0m\n",
            "\u001b[34m[18:28:06] src/tree/updater_prune.cc:74: tree pruning end, 1 roots, 62 extra nodes, 0 pruned nodes, max_depth=5\u001b[0m\n",
            "\u001b[34m[131]#011train-rmse:35.4061#011validation-rmse:44.2359\u001b[0m\n",
            "\u001b[34m[18:28:06] src/tree/updater_prune.cc:74: tree pruning end, 1 roots, 60 extra nodes, 0 pruned nodes, max_depth=5\u001b[0m\n",
            "\u001b[34m[132]#011train-rmse:35.3537#011validation-rmse:44.2071\u001b[0m\n",
            "\u001b[34m[18:28:06] src/tree/updater_prune.cc:74: tree pruning end, 1 roots, 62 extra nodes, 0 pruned nodes, max_depth=5\u001b[0m\n",
            "\u001b[34m[133]#011train-rmse:35.3182#011validation-rmse:44.208\u001b[0m\n",
            "\u001b[34m[18:28:06] src/tree/updater_prune.cc:74: tree pruning end, 1 roots, 32 extra nodes, 0 pruned nodes, max_depth=5\u001b[0m\n",
            "\u001b[34m[134]#011train-rmse:35.2799#011validation-rmse:44.1939\u001b[0m\n",
            "\u001b[34m[18:28:06] src/tree/updater_prune.cc:74: tree pruning end, 1 roots, 58 extra nodes, 0 pruned nodes, max_depth=5\u001b[0m\n",
            "\u001b[34m[135]#011train-rmse:35.257#011validation-rmse:44.1878\u001b[0m\n",
            "\u001b[34m[18:28:06] src/tree/updater_prune.cc:74: tree pruning end, 1 roots, 56 extra nodes, 0 pruned nodes, max_depth=5\u001b[0m\n",
            "\u001b[34m[136]#011train-rmse:35.2195#011validation-rmse:44.1722\u001b[0m\n",
            "\u001b[34m[18:28:06] src/tree/updater_prune.cc:74: tree pruning end, 1 roots, 32 extra nodes, 0 pruned nodes, max_depth=5\u001b[0m\n",
            "\u001b[34m[137]#011train-rmse:35.1672#011validation-rmse:44.1371\u001b[0m\n",
            "\u001b[34m[18:28:06] src/tree/updater_prune.cc:74: tree pruning end, 1 roots, 60 extra nodes, 0 pruned nodes, max_depth=5\u001b[0m\n",
            "\u001b[34m[138]#011train-rmse:35.0985#011validation-rmse:44.0935\u001b[0m\n",
            "\u001b[34m[18:28:06] src/tree/updater_prune.cc:74: tree pruning end, 1 roots, 62 extra nodes, 0 pruned nodes, max_depth=5\u001b[0m\n",
            "\u001b[34m[139]#011train-rmse:35.0623#011validation-rmse:44.0586\u001b[0m\n",
            "\u001b[34m[18:28:06] src/tree/updater_prune.cc:74: tree pruning end, 1 roots, 44 extra nodes, 0 pruned nodes, max_depth=5\u001b[0m\n",
            "\u001b[34m[140]#011train-rmse:35.0458#011validation-rmse:44.0519\u001b[0m\n",
            "\u001b[34m[18:28:06] src/tree/updater_prune.cc:74: tree pruning end, 1 roots, 54 extra nodes, 0 pruned nodes, max_depth=5\u001b[0m\n",
            "\u001b[34m[141]#011train-rmse:35.0304#011validation-rmse:44.042\u001b[0m\n",
            "\u001b[34m[18:28:06] src/tree/updater_prune.cc:74: tree pruning end, 1 roots, 62 extra nodes, 0 pruned nodes, max_depth=5\u001b[0m\n",
            "\u001b[34m[142]#011train-rmse:34.9691#011validation-rmse:44.0269\u001b[0m\n",
            "\u001b[34m[18:28:06] src/tree/updater_prune.cc:74: tree pruning end, 1 roots, 32 extra nodes, 0 pruned nodes, max_depth=5\u001b[0m\n",
            "\u001b[34m[143]#011train-rmse:34.9399#011validation-rmse:44.0023\u001b[0m\n",
            "\u001b[34m[18:28:06] src/tree/updater_prune.cc:74: tree pruning end, 1 roots, 34 extra nodes, 0 pruned nodes, max_depth=5\u001b[0m\n",
            "\u001b[34m[144]#011train-rmse:34.8965#011validation-rmse:43.9539\u001b[0m\n",
            "\u001b[34m[18:28:06] src/tree/updater_prune.cc:74: tree pruning end, 1 roots, 62 extra nodes, 0 pruned nodes, max_depth=5\u001b[0m\n",
            "\u001b[34m[145]#011train-rmse:34.8405#011validation-rmse:43.9478\u001b[0m\n",
            "\u001b[34m[18:28:06] src/tree/updater_prune.cc:74: tree pruning end, 1 roots, 62 extra nodes, 0 pruned nodes, max_depth=5\u001b[0m\n",
            "\u001b[34m[146]#011train-rmse:34.7385#011validation-rmse:43.8967\u001b[0m\n",
            "\u001b[34m[18:28:06] src/tree/updater_prune.cc:74: tree pruning end, 1 roots, 60 extra nodes, 0 pruned nodes, max_depth=5\u001b[0m\n",
            "\u001b[34m[147]#011train-rmse:34.7118#011validation-rmse:43.8866\u001b[0m\n",
            "\u001b[34m[18:28:06] src/tree/updater_prune.cc:74: tree pruning end, 1 roots, 62 extra nodes, 0 pruned nodes, max_depth=5\u001b[0m\n",
            "\u001b[34m[148]#011train-rmse:34.6408#011validation-rmse:43.8734\u001b[0m\n",
            "\u001b[34m[18:28:06] src/tree/updater_prune.cc:74: tree pruning end, 1 roots, 60 extra nodes, 0 pruned nodes, max_depth=5\u001b[0m\n",
            "\u001b[34m[149]#011train-rmse:34.5259#011validation-rmse:43.8091\u001b[0m\n",
            "\n",
            "2022-07-10 18:28:36 Uploading - Uploading generated training model\n",
            "2022-07-10 18:28:36 Completed - Training job completed\n",
            "ProfilerReport-1657477451: NoIssuesFound\n",
            "Training seconds: 126\n",
            "Billable seconds: 126\n"
          ]
        }
      ],
      "source": [
        "# XGBoost supports \"train\", \"validation\" channels\n",
        "# Reference: Supported channels by algorithm\n",
        "#   https://docs.aws.amazon.com/sagemaker/latest/dg/sagemaker-algo-docker-registry-paths.html\n",
        "estimator.fit(data_channels)"
      ]
    },
    {
      "cell_type": "markdown",
      "metadata": {
        "id": "L7GXNPJ5y1mB"
      },
      "source": [
        "## Deploy Model"
      ]
    },
    {
      "cell_type": "code",
      "execution_count": null,
      "metadata": {
        "id": "YUa3SSq0y1mB",
        "outputId": "0f791aeb-cc59-462e-a152-e65a472b5841"
      },
      "outputs": [
        {
          "name": "stdout",
          "output_type": "stream",
          "text": [
            "---------!"
          ]
        }
      ],
      "source": [
        "# Ref: http://sagemaker.readthedocs.io/en/latest/estimators.html\n",
        "predictor = estimator.deploy(initial_instance_count=1,\n",
        "                             instance_type='ml.m4.xlarge',\n",
        "                             endpoint_name = 'xgboost-bikerental-v1')"
      ]
    },
    {
      "cell_type": "markdown",
      "metadata": {
        "collapsed": true,
        "id": "4yR2Vcn5y1mB"
      },
      "source": [
        "## Run Predictions"
      ]
    },
    {
      "cell_type": "code",
      "execution_count": null,
      "metadata": {
        "id": "w68uN0G_y1mB"
      },
      "outputs": [],
      "source": [
        "from sagemaker.serializers import CSVSerializer\n",
        "predictor.serializer = CSVSerializer()"
      ]
    },
    {
      "cell_type": "code",
      "execution_count": null,
      "metadata": {
        "id": "Nh9ard1Ly1mB",
        "outputId": "413b107b-efca-4e43-b631-25bd8eb0e78b"
      },
      "outputs": [
        {
          "data": {
            "text/plain": [
              "b'42.761497497558594'"
            ]
          },
          "execution_count": 18,
          "metadata": {},
          "output_type": "execute_result"
        }
      ],
      "source": [
        "predictor.predict([[3,0,1,2,28.7,33.335,79,12.998,2011,7,7,3]])"
      ]
    },
    {
      "cell_type": "markdown",
      "metadata": {
        "collapsed": true,
        "id": "qiJrJqMay1mC"
      },
      "source": [
        "## Summary"
      ]
    },
    {
      "cell_type": "markdown",
      "metadata": {
        "id": "pq3sLJjmy1mC"
      },
      "source": [
        "1. Ensure Training, Test and Validation data are in S3 Bucket\n",
        "2. Select Algorithm Container Registry Path - Path varies by region\n",
        "3. Configure Estimator for training - Specify Algorithm container, instance count, instance type, model output location\n",
        "4. Specify algorithm specific hyper parameters\n",
        "5. Train model\n",
        "6. Deploy model - Specify instance count, instance type and endpoint name\n",
        "7. Run Predictions"
      ]
    },
    {
      "cell_type": "code",
      "execution_count": null,
      "metadata": {
        "id": "m0soaogwy1mC"
      },
      "outputs": [],
      "source": []
    }
  ],
  "metadata": {
    "kernelspec": {
      "display_name": "conda_python3",
      "language": "python",
      "name": "conda_python3"
    },
    "language_info": {
      "codemirror_mode": {
        "name": "ipython",
        "version": 3
      },
      "file_extension": ".py",
      "mimetype": "text/x-python",
      "name": "python",
      "nbconvert_exporter": "python",
      "pygments_lexer": "ipython3",
      "version": "3.10.13"
    },
    "colab": {
      "provenance": [],
      "include_colab_link": true
    }
  },
  "nbformat": 4,
  "nbformat_minor": 0
}