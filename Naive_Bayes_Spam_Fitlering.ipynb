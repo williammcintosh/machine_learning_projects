{
  "nbformat": 4,
  "nbformat_minor": 0,
  "metadata": {
    "colab": {
      "name": "CS545-Program2_McIntosh.ipynb",
      "provenance": [],
      "collapsed_sections": [],
      "include_colab_link": true
    },
    "kernelspec": {
      "name": "python3",
      "display_name": "Python 3"
    },
    "language_info": {
      "name": "python"
    }
  },
  "cells": [
    {
      "cell_type": "markdown",
      "metadata": {
        "id": "view-in-github",
        "colab_type": "text"
      },
      "source": [
        "<a href=\"https://colab.research.google.com/github/williammcintosh/machine_learning_projects/blob/main/Naive_Bayes_Spam_Fitlering.ipynb\" target=\"_parent\"><img src=\"https://colab.research.google.com/assets/colab-badge.svg\" alt=\"Open In Colab\"/></a>"
      ]
    },
    {
      "cell_type": "markdown",
      "source": [
        "# Program 2\n",
        "\n",
        "## Will McIntosh"
      ],
      "metadata": {
        "id": "0JpfXorxryyO"
      }
    },
    {
      "cell_type": "markdown",
      "source": [
        "# Import Data"
      ],
      "metadata": {
        "id": "zBkcOVKkr1jL"
      }
    },
    {
      "cell_type": "code",
      "execution_count": 146,
      "metadata": {
        "id": "SPzY6bAHg4te"
      },
      "outputs": [],
      "source": [
        "import pandas as pd\n",
        "import numpy as np\n",
        "import sys, os"
      ]
    },
    {
      "cell_type": "code",
      "source": [
        "if os.path.isfile(\"/content/spambasedata.csv\") == False:\n",
        "  !gdown --id 1chSjCneNjtQ-xfwtyYQ_ntt5BRGcAwpc"
      ],
      "metadata": {
        "id": "vq32p2pThCah"
      },
      "execution_count": 147,
      "outputs": []
    },
    {
      "cell_type": "code",
      "source": [
        "df = pd.read_csv(\"/content/spambasedata.csv\", header=None)"
      ],
      "metadata": {
        "id": "vM9P9aavhG6h"
      },
      "execution_count": 148,
      "outputs": []
    },
    {
      "cell_type": "markdown",
      "source": [
        "# Examine Data"
      ],
      "metadata": {
        "id": "2ox9f8VJr4F_"
      }
    },
    {
      "cell_type": "code",
      "source": [
        "df.head()"
      ],
      "metadata": {
        "colab": {
          "base_uri": "https://localhost:8080/",
          "height": 235
        },
        "id": "J2jw83mQhZM1",
        "outputId": "3f40034a-3d5e-48ec-8c7d-05c33a467f63"
      },
      "execution_count": 149,
      "outputs": [
        {
          "output_type": "execute_result",
          "data": {
            "text/plain": [
              "     0     1     2    3     4     5     6     7     8     9   ...    48  \\\n",
              "0  0.00  0.64  0.64  0.0  0.32  0.00  0.00  0.00  0.00  0.00  ...  0.00   \n",
              "1  0.21  0.28  0.50  0.0  0.14  0.28  0.21  0.07  0.00  0.94  ...  0.00   \n",
              "2  0.06  0.00  0.71  0.0  1.23  0.19  0.19  0.12  0.64  0.25  ...  0.01   \n",
              "3  0.00  0.00  0.00  0.0  0.63  0.00  0.31  0.63  0.31  0.63  ...  0.00   \n",
              "4  0.00  0.00  0.00  0.0  0.63  0.00  0.31  0.63  0.31  0.63  ...  0.00   \n",
              "\n",
              "      49   50     51     52     53     54   55    56  57  \n",
              "0  0.000  0.0  0.778  0.000  0.000  3.756   61   278   1  \n",
              "1  0.132  0.0  0.372  0.180  0.048  5.114  101  1028   1  \n",
              "2  0.143  0.0  0.276  0.184  0.010  9.821  485  2259   1  \n",
              "3  0.137  0.0  0.137  0.000  0.000  3.537   40   191   1  \n",
              "4  0.135  0.0  0.135  0.000  0.000  3.537   40   191   1  \n",
              "\n",
              "[5 rows x 58 columns]"
            ],
            "text/html": [
              "\n",
              "  <div id=\"df-ff66dfac-bf43-41b8-b50e-498a726710da\">\n",
              "    <div class=\"colab-df-container\">\n",
              "      <div>\n",
              "<style scoped>\n",
              "    .dataframe tbody tr th:only-of-type {\n",
              "        vertical-align: middle;\n",
              "    }\n",
              "\n",
              "    .dataframe tbody tr th {\n",
              "        vertical-align: top;\n",
              "    }\n",
              "\n",
              "    .dataframe thead th {\n",
              "        text-align: right;\n",
              "    }\n",
              "</style>\n",
              "<table border=\"1\" class=\"dataframe\">\n",
              "  <thead>\n",
              "    <tr style=\"text-align: right;\">\n",
              "      <th></th>\n",
              "      <th>0</th>\n",
              "      <th>1</th>\n",
              "      <th>2</th>\n",
              "      <th>3</th>\n",
              "      <th>4</th>\n",
              "      <th>5</th>\n",
              "      <th>6</th>\n",
              "      <th>7</th>\n",
              "      <th>8</th>\n",
              "      <th>9</th>\n",
              "      <th>...</th>\n",
              "      <th>48</th>\n",
              "      <th>49</th>\n",
              "      <th>50</th>\n",
              "      <th>51</th>\n",
              "      <th>52</th>\n",
              "      <th>53</th>\n",
              "      <th>54</th>\n",
              "      <th>55</th>\n",
              "      <th>56</th>\n",
              "      <th>57</th>\n",
              "    </tr>\n",
              "  </thead>\n",
              "  <tbody>\n",
              "    <tr>\n",
              "      <th>0</th>\n",
              "      <td>0.00</td>\n",
              "      <td>0.64</td>\n",
              "      <td>0.64</td>\n",
              "      <td>0.0</td>\n",
              "      <td>0.32</td>\n",
              "      <td>0.00</td>\n",
              "      <td>0.00</td>\n",
              "      <td>0.00</td>\n",
              "      <td>0.00</td>\n",
              "      <td>0.00</td>\n",
              "      <td>...</td>\n",
              "      <td>0.00</td>\n",
              "      <td>0.000</td>\n",
              "      <td>0.0</td>\n",
              "      <td>0.778</td>\n",
              "      <td>0.000</td>\n",
              "      <td>0.000</td>\n",
              "      <td>3.756</td>\n",
              "      <td>61</td>\n",
              "      <td>278</td>\n",
              "      <td>1</td>\n",
              "    </tr>\n",
              "    <tr>\n",
              "      <th>1</th>\n",
              "      <td>0.21</td>\n",
              "      <td>0.28</td>\n",
              "      <td>0.50</td>\n",
              "      <td>0.0</td>\n",
              "      <td>0.14</td>\n",
              "      <td>0.28</td>\n",
              "      <td>0.21</td>\n",
              "      <td>0.07</td>\n",
              "      <td>0.00</td>\n",
              "      <td>0.94</td>\n",
              "      <td>...</td>\n",
              "      <td>0.00</td>\n",
              "      <td>0.132</td>\n",
              "      <td>0.0</td>\n",
              "      <td>0.372</td>\n",
              "      <td>0.180</td>\n",
              "      <td>0.048</td>\n",
              "      <td>5.114</td>\n",
              "      <td>101</td>\n",
              "      <td>1028</td>\n",
              "      <td>1</td>\n",
              "    </tr>\n",
              "    <tr>\n",
              "      <th>2</th>\n",
              "      <td>0.06</td>\n",
              "      <td>0.00</td>\n",
              "      <td>0.71</td>\n",
              "      <td>0.0</td>\n",
              "      <td>1.23</td>\n",
              "      <td>0.19</td>\n",
              "      <td>0.19</td>\n",
              "      <td>0.12</td>\n",
              "      <td>0.64</td>\n",
              "      <td>0.25</td>\n",
              "      <td>...</td>\n",
              "      <td>0.01</td>\n",
              "      <td>0.143</td>\n",
              "      <td>0.0</td>\n",
              "      <td>0.276</td>\n",
              "      <td>0.184</td>\n",
              "      <td>0.010</td>\n",
              "      <td>9.821</td>\n",
              "      <td>485</td>\n",
              "      <td>2259</td>\n",
              "      <td>1</td>\n",
              "    </tr>\n",
              "    <tr>\n",
              "      <th>3</th>\n",
              "      <td>0.00</td>\n",
              "      <td>0.00</td>\n",
              "      <td>0.00</td>\n",
              "      <td>0.0</td>\n",
              "      <td>0.63</td>\n",
              "      <td>0.00</td>\n",
              "      <td>0.31</td>\n",
              "      <td>0.63</td>\n",
              "      <td>0.31</td>\n",
              "      <td>0.63</td>\n",
              "      <td>...</td>\n",
              "      <td>0.00</td>\n",
              "      <td>0.137</td>\n",
              "      <td>0.0</td>\n",
              "      <td>0.137</td>\n",
              "      <td>0.000</td>\n",
              "      <td>0.000</td>\n",
              "      <td>3.537</td>\n",
              "      <td>40</td>\n",
              "      <td>191</td>\n",
              "      <td>1</td>\n",
              "    </tr>\n",
              "    <tr>\n",
              "      <th>4</th>\n",
              "      <td>0.00</td>\n",
              "      <td>0.00</td>\n",
              "      <td>0.00</td>\n",
              "      <td>0.0</td>\n",
              "      <td>0.63</td>\n",
              "      <td>0.00</td>\n",
              "      <td>0.31</td>\n",
              "      <td>0.63</td>\n",
              "      <td>0.31</td>\n",
              "      <td>0.63</td>\n",
              "      <td>...</td>\n",
              "      <td>0.00</td>\n",
              "      <td>0.135</td>\n",
              "      <td>0.0</td>\n",
              "      <td>0.135</td>\n",
              "      <td>0.000</td>\n",
              "      <td>0.000</td>\n",
              "      <td>3.537</td>\n",
              "      <td>40</td>\n",
              "      <td>191</td>\n",
              "      <td>1</td>\n",
              "    </tr>\n",
              "  </tbody>\n",
              "</table>\n",
              "<p>5 rows × 58 columns</p>\n",
              "</div>\n",
              "      <button class=\"colab-df-convert\" onclick=\"convertToInteractive('df-ff66dfac-bf43-41b8-b50e-498a726710da')\"\n",
              "              title=\"Convert this dataframe to an interactive table.\"\n",
              "              style=\"display:none;\">\n",
              "        \n",
              "  <svg xmlns=\"http://www.w3.org/2000/svg\" height=\"24px\"viewBox=\"0 0 24 24\"\n",
              "       width=\"24px\">\n",
              "    <path d=\"M0 0h24v24H0V0z\" fill=\"none\"/>\n",
              "    <path d=\"M18.56 5.44l.94 2.06.94-2.06 2.06-.94-2.06-.94-.94-2.06-.94 2.06-2.06.94zm-11 1L8.5 8.5l.94-2.06 2.06-.94-2.06-.94L8.5 2.5l-.94 2.06-2.06.94zm10 10l.94 2.06.94-2.06 2.06-.94-2.06-.94-.94-2.06-.94 2.06-2.06.94z\"/><path d=\"M17.41 7.96l-1.37-1.37c-.4-.4-.92-.59-1.43-.59-.52 0-1.04.2-1.43.59L10.3 9.45l-7.72 7.72c-.78.78-.78 2.05 0 2.83L4 21.41c.39.39.9.59 1.41.59.51 0 1.02-.2 1.41-.59l7.78-7.78 2.81-2.81c.8-.78.8-2.07 0-2.86zM5.41 20L4 18.59l7.72-7.72 1.47 1.35L5.41 20z\"/>\n",
              "  </svg>\n",
              "      </button>\n",
              "      \n",
              "  <style>\n",
              "    .colab-df-container {\n",
              "      display:flex;\n",
              "      flex-wrap:wrap;\n",
              "      gap: 12px;\n",
              "    }\n",
              "\n",
              "    .colab-df-convert {\n",
              "      background-color: #E8F0FE;\n",
              "      border: none;\n",
              "      border-radius: 50%;\n",
              "      cursor: pointer;\n",
              "      display: none;\n",
              "      fill: #1967D2;\n",
              "      height: 32px;\n",
              "      padding: 0 0 0 0;\n",
              "      width: 32px;\n",
              "    }\n",
              "\n",
              "    .colab-df-convert:hover {\n",
              "      background-color: #E2EBFA;\n",
              "      box-shadow: 0px 1px 2px rgba(60, 64, 67, 0.3), 0px 1px 3px 1px rgba(60, 64, 67, 0.15);\n",
              "      fill: #174EA6;\n",
              "    }\n",
              "\n",
              "    [theme=dark] .colab-df-convert {\n",
              "      background-color: #3B4455;\n",
              "      fill: #D2E3FC;\n",
              "    }\n",
              "\n",
              "    [theme=dark] .colab-df-convert:hover {\n",
              "      background-color: #434B5C;\n",
              "      box-shadow: 0px 1px 3px 1px rgba(0, 0, 0, 0.15);\n",
              "      filter: drop-shadow(0px 1px 2px rgba(0, 0, 0, 0.3));\n",
              "      fill: #FFFFFF;\n",
              "    }\n",
              "  </style>\n",
              "\n",
              "      <script>\n",
              "        const buttonEl =\n",
              "          document.querySelector('#df-ff66dfac-bf43-41b8-b50e-498a726710da button.colab-df-convert');\n",
              "        buttonEl.style.display =\n",
              "          google.colab.kernel.accessAllowed ? 'block' : 'none';\n",
              "\n",
              "        async function convertToInteractive(key) {\n",
              "          const element = document.querySelector('#df-ff66dfac-bf43-41b8-b50e-498a726710da');\n",
              "          const dataTable =\n",
              "            await google.colab.kernel.invokeFunction('convertToInteractive',\n",
              "                                                     [key], {});\n",
              "          if (!dataTable) return;\n",
              "\n",
              "          const docLinkHtml = 'Like what you see? Visit the ' +\n",
              "            '<a target=\"_blank\" href=https://colab.research.google.com/notebooks/data_table.ipynb>data table notebook</a>'\n",
              "            + ' to learn more about interactive tables.';\n",
              "          element.innerHTML = '';\n",
              "          dataTable['output_type'] = 'display_data';\n",
              "          await google.colab.output.renderOutput(dataTable, element);\n",
              "          const docLink = document.createElement('div');\n",
              "          docLink.innerHTML = docLinkHtml;\n",
              "          element.appendChild(docLink);\n",
              "        }\n",
              "      </script>\n",
              "    </div>\n",
              "  </div>\n",
              "  "
            ]
          },
          "metadata": {},
          "execution_count": 149
        }
      ]
    },
    {
      "cell_type": "markdown",
      "source": [
        "# Test a +1 To each Value"
      ],
      "metadata": {
        "id": "FWQtrb2d-_UJ"
      }
    },
    {
      "cell_type": "code",
      "source": [
        "df += 1"
      ],
      "metadata": {
        "id": "KZnHnhvc_Bam"
      },
      "execution_count": 150,
      "outputs": []
    },
    {
      "cell_type": "code",
      "source": [
        "df.head()"
      ],
      "metadata": {
        "colab": {
          "base_uri": "https://localhost:8080/",
          "height": 235
        },
        "id": "DpWiZChM_D22",
        "outputId": "7728fb0a-f0f7-4cdd-add3-74396a825b1f"
      },
      "execution_count": 151,
      "outputs": [
        {
          "output_type": "execute_result",
          "data": {
            "text/plain": [
              "     0     1     2    3     4     5     6     7     8     9   ...    48  \\\n",
              "0  1.00  1.64  1.64  1.0  1.32  1.00  1.00  1.00  1.00  1.00  ...  1.00   \n",
              "1  1.21  1.28  1.50  1.0  1.14  1.28  1.21  1.07  1.00  1.94  ...  1.00   \n",
              "2  1.06  1.00  1.71  1.0  2.23  1.19  1.19  1.12  1.64  1.25  ...  1.01   \n",
              "3  1.00  1.00  1.00  1.0  1.63  1.00  1.31  1.63  1.31  1.63  ...  1.00   \n",
              "4  1.00  1.00  1.00  1.0  1.63  1.00  1.31  1.63  1.31  1.63  ...  1.00   \n",
              "\n",
              "      49   50     51     52     53      54   55    56  57  \n",
              "0  1.000  1.0  1.778  1.000  1.000   4.756   62   279   2  \n",
              "1  1.132  1.0  1.372  1.180  1.048   6.114  102  1029   2  \n",
              "2  1.143  1.0  1.276  1.184  1.010  10.821  486  2260   2  \n",
              "3  1.137  1.0  1.137  1.000  1.000   4.537   41   192   2  \n",
              "4  1.135  1.0  1.135  1.000  1.000   4.537   41   192   2  \n",
              "\n",
              "[5 rows x 58 columns]"
            ],
            "text/html": [
              "\n",
              "  <div id=\"df-09a98b62-26c0-40cf-8b90-c1afee048ece\">\n",
              "    <div class=\"colab-df-container\">\n",
              "      <div>\n",
              "<style scoped>\n",
              "    .dataframe tbody tr th:only-of-type {\n",
              "        vertical-align: middle;\n",
              "    }\n",
              "\n",
              "    .dataframe tbody tr th {\n",
              "        vertical-align: top;\n",
              "    }\n",
              "\n",
              "    .dataframe thead th {\n",
              "        text-align: right;\n",
              "    }\n",
              "</style>\n",
              "<table border=\"1\" class=\"dataframe\">\n",
              "  <thead>\n",
              "    <tr style=\"text-align: right;\">\n",
              "      <th></th>\n",
              "      <th>0</th>\n",
              "      <th>1</th>\n",
              "      <th>2</th>\n",
              "      <th>3</th>\n",
              "      <th>4</th>\n",
              "      <th>5</th>\n",
              "      <th>6</th>\n",
              "      <th>7</th>\n",
              "      <th>8</th>\n",
              "      <th>9</th>\n",
              "      <th>...</th>\n",
              "      <th>48</th>\n",
              "      <th>49</th>\n",
              "      <th>50</th>\n",
              "      <th>51</th>\n",
              "      <th>52</th>\n",
              "      <th>53</th>\n",
              "      <th>54</th>\n",
              "      <th>55</th>\n",
              "      <th>56</th>\n",
              "      <th>57</th>\n",
              "    </tr>\n",
              "  </thead>\n",
              "  <tbody>\n",
              "    <tr>\n",
              "      <th>0</th>\n",
              "      <td>1.00</td>\n",
              "      <td>1.64</td>\n",
              "      <td>1.64</td>\n",
              "      <td>1.0</td>\n",
              "      <td>1.32</td>\n",
              "      <td>1.00</td>\n",
              "      <td>1.00</td>\n",
              "      <td>1.00</td>\n",
              "      <td>1.00</td>\n",
              "      <td>1.00</td>\n",
              "      <td>...</td>\n",
              "      <td>1.00</td>\n",
              "      <td>1.000</td>\n",
              "      <td>1.0</td>\n",
              "      <td>1.778</td>\n",
              "      <td>1.000</td>\n",
              "      <td>1.000</td>\n",
              "      <td>4.756</td>\n",
              "      <td>62</td>\n",
              "      <td>279</td>\n",
              "      <td>2</td>\n",
              "    </tr>\n",
              "    <tr>\n",
              "      <th>1</th>\n",
              "      <td>1.21</td>\n",
              "      <td>1.28</td>\n",
              "      <td>1.50</td>\n",
              "      <td>1.0</td>\n",
              "      <td>1.14</td>\n",
              "      <td>1.28</td>\n",
              "      <td>1.21</td>\n",
              "      <td>1.07</td>\n",
              "      <td>1.00</td>\n",
              "      <td>1.94</td>\n",
              "      <td>...</td>\n",
              "      <td>1.00</td>\n",
              "      <td>1.132</td>\n",
              "      <td>1.0</td>\n",
              "      <td>1.372</td>\n",
              "      <td>1.180</td>\n",
              "      <td>1.048</td>\n",
              "      <td>6.114</td>\n",
              "      <td>102</td>\n",
              "      <td>1029</td>\n",
              "      <td>2</td>\n",
              "    </tr>\n",
              "    <tr>\n",
              "      <th>2</th>\n",
              "      <td>1.06</td>\n",
              "      <td>1.00</td>\n",
              "      <td>1.71</td>\n",
              "      <td>1.0</td>\n",
              "      <td>2.23</td>\n",
              "      <td>1.19</td>\n",
              "      <td>1.19</td>\n",
              "      <td>1.12</td>\n",
              "      <td>1.64</td>\n",
              "      <td>1.25</td>\n",
              "      <td>...</td>\n",
              "      <td>1.01</td>\n",
              "      <td>1.143</td>\n",
              "      <td>1.0</td>\n",
              "      <td>1.276</td>\n",
              "      <td>1.184</td>\n",
              "      <td>1.010</td>\n",
              "      <td>10.821</td>\n",
              "      <td>486</td>\n",
              "      <td>2260</td>\n",
              "      <td>2</td>\n",
              "    </tr>\n",
              "    <tr>\n",
              "      <th>3</th>\n",
              "      <td>1.00</td>\n",
              "      <td>1.00</td>\n",
              "      <td>1.00</td>\n",
              "      <td>1.0</td>\n",
              "      <td>1.63</td>\n",
              "      <td>1.00</td>\n",
              "      <td>1.31</td>\n",
              "      <td>1.63</td>\n",
              "      <td>1.31</td>\n",
              "      <td>1.63</td>\n",
              "      <td>...</td>\n",
              "      <td>1.00</td>\n",
              "      <td>1.137</td>\n",
              "      <td>1.0</td>\n",
              "      <td>1.137</td>\n",
              "      <td>1.000</td>\n",
              "      <td>1.000</td>\n",
              "      <td>4.537</td>\n",
              "      <td>41</td>\n",
              "      <td>192</td>\n",
              "      <td>2</td>\n",
              "    </tr>\n",
              "    <tr>\n",
              "      <th>4</th>\n",
              "      <td>1.00</td>\n",
              "      <td>1.00</td>\n",
              "      <td>1.00</td>\n",
              "      <td>1.0</td>\n",
              "      <td>1.63</td>\n",
              "      <td>1.00</td>\n",
              "      <td>1.31</td>\n",
              "      <td>1.63</td>\n",
              "      <td>1.31</td>\n",
              "      <td>1.63</td>\n",
              "      <td>...</td>\n",
              "      <td>1.00</td>\n",
              "      <td>1.135</td>\n",
              "      <td>1.0</td>\n",
              "      <td>1.135</td>\n",
              "      <td>1.000</td>\n",
              "      <td>1.000</td>\n",
              "      <td>4.537</td>\n",
              "      <td>41</td>\n",
              "      <td>192</td>\n",
              "      <td>2</td>\n",
              "    </tr>\n",
              "  </tbody>\n",
              "</table>\n",
              "<p>5 rows × 58 columns</p>\n",
              "</div>\n",
              "      <button class=\"colab-df-convert\" onclick=\"convertToInteractive('df-09a98b62-26c0-40cf-8b90-c1afee048ece')\"\n",
              "              title=\"Convert this dataframe to an interactive table.\"\n",
              "              style=\"display:none;\">\n",
              "        \n",
              "  <svg xmlns=\"http://www.w3.org/2000/svg\" height=\"24px\"viewBox=\"0 0 24 24\"\n",
              "       width=\"24px\">\n",
              "    <path d=\"M0 0h24v24H0V0z\" fill=\"none\"/>\n",
              "    <path d=\"M18.56 5.44l.94 2.06.94-2.06 2.06-.94-2.06-.94-.94-2.06-.94 2.06-2.06.94zm-11 1L8.5 8.5l.94-2.06 2.06-.94-2.06-.94L8.5 2.5l-.94 2.06-2.06.94zm10 10l.94 2.06.94-2.06 2.06-.94-2.06-.94-.94-2.06-.94 2.06-2.06.94z\"/><path d=\"M17.41 7.96l-1.37-1.37c-.4-.4-.92-.59-1.43-.59-.52 0-1.04.2-1.43.59L10.3 9.45l-7.72 7.72c-.78.78-.78 2.05 0 2.83L4 21.41c.39.39.9.59 1.41.59.51 0 1.02-.2 1.41-.59l7.78-7.78 2.81-2.81c.8-.78.8-2.07 0-2.86zM5.41 20L4 18.59l7.72-7.72 1.47 1.35L5.41 20z\"/>\n",
              "  </svg>\n",
              "      </button>\n",
              "      \n",
              "  <style>\n",
              "    .colab-df-container {\n",
              "      display:flex;\n",
              "      flex-wrap:wrap;\n",
              "      gap: 12px;\n",
              "    }\n",
              "\n",
              "    .colab-df-convert {\n",
              "      background-color: #E8F0FE;\n",
              "      border: none;\n",
              "      border-radius: 50%;\n",
              "      cursor: pointer;\n",
              "      display: none;\n",
              "      fill: #1967D2;\n",
              "      height: 32px;\n",
              "      padding: 0 0 0 0;\n",
              "      width: 32px;\n",
              "    }\n",
              "\n",
              "    .colab-df-convert:hover {\n",
              "      background-color: #E2EBFA;\n",
              "      box-shadow: 0px 1px 2px rgba(60, 64, 67, 0.3), 0px 1px 3px 1px rgba(60, 64, 67, 0.15);\n",
              "      fill: #174EA6;\n",
              "    }\n",
              "\n",
              "    [theme=dark] .colab-df-convert {\n",
              "      background-color: #3B4455;\n",
              "      fill: #D2E3FC;\n",
              "    }\n",
              "\n",
              "    [theme=dark] .colab-df-convert:hover {\n",
              "      background-color: #434B5C;\n",
              "      box-shadow: 0px 1px 3px 1px rgba(0, 0, 0, 0.15);\n",
              "      filter: drop-shadow(0px 1px 2px rgba(0, 0, 0, 0.3));\n",
              "      fill: #FFFFFF;\n",
              "    }\n",
              "  </style>\n",
              "\n",
              "      <script>\n",
              "        const buttonEl =\n",
              "          document.querySelector('#df-09a98b62-26c0-40cf-8b90-c1afee048ece button.colab-df-convert');\n",
              "        buttonEl.style.display =\n",
              "          google.colab.kernel.accessAllowed ? 'block' : 'none';\n",
              "\n",
              "        async function convertToInteractive(key) {\n",
              "          const element = document.querySelector('#df-09a98b62-26c0-40cf-8b90-c1afee048ece');\n",
              "          const dataTable =\n",
              "            await google.colab.kernel.invokeFunction('convertToInteractive',\n",
              "                                                     [key], {});\n",
              "          if (!dataTable) return;\n",
              "\n",
              "          const docLinkHtml = 'Like what you see? Visit the ' +\n",
              "            '<a target=\"_blank\" href=https://colab.research.google.com/notebooks/data_table.ipynb>data table notebook</a>'\n",
              "            + ' to learn more about interactive tables.';\n",
              "          element.innerHTML = '';\n",
              "          dataTable['output_type'] = 'display_data';\n",
              "          await google.colab.output.renderOutput(dataTable, element);\n",
              "          const docLink = document.createElement('div');\n",
              "          docLink.innerHTML = docLinkHtml;\n",
              "          element.appendChild(docLink);\n",
              "        }\n",
              "      </script>\n",
              "    </div>\n",
              "  </div>\n",
              "  "
            ]
          },
          "metadata": {},
          "execution_count": 151
        }
      ]
    },
    {
      "cell_type": "code",
      "source": [
        "df.shape"
      ],
      "metadata": {
        "colab": {
          "base_uri": "https://localhost:8080/"
        },
        "id": "pH6gAc5OhZ12",
        "outputId": "dcaf5930-b7d1-4828-fa7f-289ec04c6e8f"
      },
      "execution_count": 152,
      "outputs": [
        {
          "output_type": "execute_result",
          "data": {
            "text/plain": [
              "(4601, 58)"
            ]
          },
          "metadata": {},
          "execution_count": 152
        }
      ]
    },
    {
      "cell_type": "markdown",
      "source": [
        "# Test Scaling"
      ],
      "metadata": {
        "id": "zLezu-is5aWD"
      }
    },
    {
      "cell_type": "code",
      "source": [
        "import pandas as pd\n",
        "from sklearn import preprocessing\n",
        "\n",
        "x = df.values #returns a numpy array\n",
        "min_max_scaler = preprocessing.MinMaxScaler()\n",
        "x_scaled = min_max_scaler.fit_transform(x)\n",
        "df = pd.DataFrame(x_scaled)"
      ],
      "metadata": {
        "id": "So_72sxk5Z_j"
      },
      "execution_count": 153,
      "outputs": []
    },
    {
      "cell_type": "markdown",
      "source": [
        "# Test-Train Split\n",
        "\n",
        "Splitting right down the center as per the program instructions."
      ],
      "metadata": {
        "id": "ah7IAm1yr5so"
      }
    },
    {
      "cell_type": "code",
      "source": [
        "from sklearn.model_selection import train_test_split\n",
        "\n",
        "X = df.drop(57, axis=1)\n",
        "y = df[57]\n",
        "\n",
        "X_train, X_test, y_train, y_test = train_test_split(X, y, stratify=y, test_size=0.50, random_state=1)"
      ],
      "metadata": {
        "id": "Cm9GXIYbsoiI"
      },
      "execution_count": 154,
      "outputs": []
    },
    {
      "cell_type": "code",
      "source": [
        "print(y_train.shape)\n",
        "print(X_train.shape)"
      ],
      "metadata": {
        "colab": {
          "base_uri": "https://localhost:8080/"
        },
        "id": "xTsuvQPnrJOo",
        "outputId": "8cb5fa14-7cbd-479c-86a2-a0908d02cacb"
      },
      "execution_count": 155,
      "outputs": [
        {
          "output_type": "stream",
          "name": "stdout",
          "text": [
            "(2300,)\n",
            "(2300, 57)\n"
          ]
        }
      ]
    },
    {
      "cell_type": "code",
      "source": [
        "print(f\"Original Dataset Percent Spam =\\t\\t{round(df[df[57] == 1].shape[0] / df.shape[0], 3)}\")\n",
        "print(f\"Original Dataset Percent Not Spam =\\t{round(df[df[57] == 0].shape[0] / df.shape[0], 3)}\")"
      ],
      "metadata": {
        "colab": {
          "base_uri": "https://localhost:8080/"
        },
        "id": "8ox16XsmsfdP",
        "outputId": "c9e4dd83-6189-4774-abb0-62c0ca8da29a"
      },
      "execution_count": 156,
      "outputs": [
        {
          "output_type": "stream",
          "name": "stdout",
          "text": [
            "Original Dataset Percent Spam =\t\t0.394\n",
            "Original Dataset Percent Not Spam =\t0.606\n"
          ]
        }
      ]
    },
    {
      "cell_type": "markdown",
      "source": [
        "# Construct the Bayesian Model"
      ],
      "metadata": {
        "id": "g3jgFfBAb-UF"
      }
    },
    {
      "cell_type": "markdown",
      "source": [
        "## Compute the Prior Probability\n",
        "\n",
        "Compute the prior probability for each class 1 (Spam) and 0 (Not-Spam) in the training data."
      ],
      "metadata": {
        "id": "PLhCiEJWuXoV"
      }
    },
    {
      "cell_type": "code",
      "source": [
        "totalTrain = pd.concat([X_train, y_train], axis=1)\n",
        "\n",
        "df1 = totalTrain[totalTrain[57] == 1]\n",
        "df0 = totalTrain[totalTrain[57] == 0]\n",
        "\n",
        "print(df1.shape)\n",
        "print(df0.shape)\n",
        "\n",
        "p1 = df1.shape[0] / totalTrain.shape[0]\n",
        "p0 = df0.shape[0] / totalTrain.shape[0]\n",
        "\n",
        "print(f\"Probability Prior of Spam\\tfor the Training Set is {round(p1,4)}\")\n",
        "print(f\"Probability Prior of Not Spam\\tfor the Training Set is {round(p0,4)}\")"
      ],
      "metadata": {
        "colab": {
          "base_uri": "https://localhost:8080/"
        },
        "id": "J3vzTD4luaZR",
        "outputId": "ee7a3a79-51c3-4376-f6f0-81dbb580b658"
      },
      "execution_count": 157,
      "outputs": [
        {
          "output_type": "stream",
          "name": "stdout",
          "text": [
            "(906, 58)\n",
            "(1394, 58)\n",
            "Probability Prior of Spam\tfor the Training Set is 0.3939\n",
            "Probability Prior of Not Spam\tfor the Training Set is 0.6061\n"
          ]
        }
      ]
    },
    {
      "cell_type": "markdown",
      "source": [
        "## Get $\\mu$ and $\\sigma$\n",
        "\n",
        "For each of the 57 features, compute the mean and standard deviation in the training set of the values given each class.\n",
        "\n",
        "Each column represents the mean and standard deviation of each feature for each class. Each row represents a feature from the original dataset."
      ],
      "metadata": {
        "id": "44WvDoZir8vo"
      }
    },
    {
      "cell_type": "code",
      "source": [
        "f_stats = {\n",
        "  \"Class1_mu\":[],\n",
        "  \"Class1_sd\":[],\n",
        "  \"Class0_mu\":[],\n",
        "  \"Class0_sd\":[]  \n",
        "}\n",
        "\n",
        "for i in range(0,df1.shape[1]-1):\n",
        "  f_stats['Class1_mu'].append(np.mean(df1[i]))\n",
        "  f_stats['Class1_sd'].append(np.std(df1[i]))\n",
        "  f_stats['Class0_mu'].append(np.mean(df0[i]))\n",
        "  f_stats['Class0_sd'].append(np.std(df0[i]))\n",
        "\n",
        "prob_df = pd.DataFrame(f_stats)\n",
        "print(f\"\\nSize of the matrix is: {prob_df.shape}\\n\")\n",
        "prob_df.head()"
      ],
      "metadata": {
        "colab": {
          "base_uri": "https://localhost:8080/",
          "height": 260
        },
        "id": "HmM0rTnlxvbB",
        "outputId": "4648fc26-be46-458e-df26-959fdfce6d19"
      },
      "execution_count": 158,
      "outputs": [
        {
          "output_type": "stream",
          "name": "stdout",
          "text": [
            "\n",
            "Size of the matrix is: (57, 4)\n",
            "\n"
          ]
        },
        {
          "output_type": "execute_result",
          "data": {
            "text/plain": [
              "   Class1_mu  Class1_sd  Class0_mu  Class0_sd\n",
              "0   0.034540   0.072303   0.014798   0.056746\n",
              "1   0.011490   0.025651   0.015759   0.110970\n",
              "2   0.076464   0.090226   0.038002   0.094825\n",
              "3   0.005075   0.062455   0.000039   0.000699\n",
              "4   0.053234   0.076190   0.019298   0.067963"
            ],
            "text/html": [
              "\n",
              "  <div id=\"df-67a3e711-0835-4175-a3fd-6816cf2fdef1\">\n",
              "    <div class=\"colab-df-container\">\n",
              "      <div>\n",
              "<style scoped>\n",
              "    .dataframe tbody tr th:only-of-type {\n",
              "        vertical-align: middle;\n",
              "    }\n",
              "\n",
              "    .dataframe tbody tr th {\n",
              "        vertical-align: top;\n",
              "    }\n",
              "\n",
              "    .dataframe thead th {\n",
              "        text-align: right;\n",
              "    }\n",
              "</style>\n",
              "<table border=\"1\" class=\"dataframe\">\n",
              "  <thead>\n",
              "    <tr style=\"text-align: right;\">\n",
              "      <th></th>\n",
              "      <th>Class1_mu</th>\n",
              "      <th>Class1_sd</th>\n",
              "      <th>Class0_mu</th>\n",
              "      <th>Class0_sd</th>\n",
              "    </tr>\n",
              "  </thead>\n",
              "  <tbody>\n",
              "    <tr>\n",
              "      <th>0</th>\n",
              "      <td>0.034540</td>\n",
              "      <td>0.072303</td>\n",
              "      <td>0.014798</td>\n",
              "      <td>0.056746</td>\n",
              "    </tr>\n",
              "    <tr>\n",
              "      <th>1</th>\n",
              "      <td>0.011490</td>\n",
              "      <td>0.025651</td>\n",
              "      <td>0.015759</td>\n",
              "      <td>0.110970</td>\n",
              "    </tr>\n",
              "    <tr>\n",
              "      <th>2</th>\n",
              "      <td>0.076464</td>\n",
              "      <td>0.090226</td>\n",
              "      <td>0.038002</td>\n",
              "      <td>0.094825</td>\n",
              "    </tr>\n",
              "    <tr>\n",
              "      <th>3</th>\n",
              "      <td>0.005075</td>\n",
              "      <td>0.062455</td>\n",
              "      <td>0.000039</td>\n",
              "      <td>0.000699</td>\n",
              "    </tr>\n",
              "    <tr>\n",
              "      <th>4</th>\n",
              "      <td>0.053234</td>\n",
              "      <td>0.076190</td>\n",
              "      <td>0.019298</td>\n",
              "      <td>0.067963</td>\n",
              "    </tr>\n",
              "  </tbody>\n",
              "</table>\n",
              "</div>\n",
              "      <button class=\"colab-df-convert\" onclick=\"convertToInteractive('df-67a3e711-0835-4175-a3fd-6816cf2fdef1')\"\n",
              "              title=\"Convert this dataframe to an interactive table.\"\n",
              "              style=\"display:none;\">\n",
              "        \n",
              "  <svg xmlns=\"http://www.w3.org/2000/svg\" height=\"24px\"viewBox=\"0 0 24 24\"\n",
              "       width=\"24px\">\n",
              "    <path d=\"M0 0h24v24H0V0z\" fill=\"none\"/>\n",
              "    <path d=\"M18.56 5.44l.94 2.06.94-2.06 2.06-.94-2.06-.94-.94-2.06-.94 2.06-2.06.94zm-11 1L8.5 8.5l.94-2.06 2.06-.94-2.06-.94L8.5 2.5l-.94 2.06-2.06.94zm10 10l.94 2.06.94-2.06 2.06-.94-2.06-.94-.94-2.06-.94 2.06-2.06.94z\"/><path d=\"M17.41 7.96l-1.37-1.37c-.4-.4-.92-.59-1.43-.59-.52 0-1.04.2-1.43.59L10.3 9.45l-7.72 7.72c-.78.78-.78 2.05 0 2.83L4 21.41c.39.39.9.59 1.41.59.51 0 1.02-.2 1.41-.59l7.78-7.78 2.81-2.81c.8-.78.8-2.07 0-2.86zM5.41 20L4 18.59l7.72-7.72 1.47 1.35L5.41 20z\"/>\n",
              "  </svg>\n",
              "      </button>\n",
              "      \n",
              "  <style>\n",
              "    .colab-df-container {\n",
              "      display:flex;\n",
              "      flex-wrap:wrap;\n",
              "      gap: 12px;\n",
              "    }\n",
              "\n",
              "    .colab-df-convert {\n",
              "      background-color: #E8F0FE;\n",
              "      border: none;\n",
              "      border-radius: 50%;\n",
              "      cursor: pointer;\n",
              "      display: none;\n",
              "      fill: #1967D2;\n",
              "      height: 32px;\n",
              "      padding: 0 0 0 0;\n",
              "      width: 32px;\n",
              "    }\n",
              "\n",
              "    .colab-df-convert:hover {\n",
              "      background-color: #E2EBFA;\n",
              "      box-shadow: 0px 1px 2px rgba(60, 64, 67, 0.3), 0px 1px 3px 1px rgba(60, 64, 67, 0.15);\n",
              "      fill: #174EA6;\n",
              "    }\n",
              "\n",
              "    [theme=dark] .colab-df-convert {\n",
              "      background-color: #3B4455;\n",
              "      fill: #D2E3FC;\n",
              "    }\n",
              "\n",
              "    [theme=dark] .colab-df-convert:hover {\n",
              "      background-color: #434B5C;\n",
              "      box-shadow: 0px 1px 3px 1px rgba(0, 0, 0, 0.15);\n",
              "      filter: drop-shadow(0px 1px 2px rgba(0, 0, 0, 0.3));\n",
              "      fill: #FFFFFF;\n",
              "    }\n",
              "  </style>\n",
              "\n",
              "      <script>\n",
              "        const buttonEl =\n",
              "          document.querySelector('#df-67a3e711-0835-4175-a3fd-6816cf2fdef1 button.colab-df-convert');\n",
              "        buttonEl.style.display =\n",
              "          google.colab.kernel.accessAllowed ? 'block' : 'none';\n",
              "\n",
              "        async function convertToInteractive(key) {\n",
              "          const element = document.querySelector('#df-67a3e711-0835-4175-a3fd-6816cf2fdef1');\n",
              "          const dataTable =\n",
              "            await google.colab.kernel.invokeFunction('convertToInteractive',\n",
              "                                                     [key], {});\n",
              "          if (!dataTable) return;\n",
              "\n",
              "          const docLinkHtml = 'Like what you see? Visit the ' +\n",
              "            '<a target=\"_blank\" href=https://colab.research.google.com/notebooks/data_table.ipynb>data table notebook</a>'\n",
              "            + ' to learn more about interactive tables.';\n",
              "          element.innerHTML = '';\n",
              "          dataTable['output_type'] = 'display_data';\n",
              "          await google.colab.output.renderOutput(dataTable, element);\n",
              "          const docLink = document.createElement('div');\n",
              "          docLink.innerHTML = docLinkHtml;\n",
              "          element.appendChild(docLink);\n",
              "        }\n",
              "      </script>\n",
              "    </div>\n",
              "  </div>\n",
              "  "
            ]
          },
          "metadata": {},
          "execution_count": 158
        }
      ]
    },
    {
      "cell_type": "markdown",
      "source": [
        "## Convert $0$ valued $\\sigma$ to $0.0001$\n",
        "\n",
        "Any values in that have a 0 for the $\\sigma$ standard deviation are converted to $0.0001$. As to prevent a divide by zero error, as per the assignment."
      ],
      "metadata": {
        "id": "z4_-UPfp-eIX"
      }
    },
    {
      "cell_type": "code",
      "source": [
        "prob_df[(prob_df['Class1_sd'] == 0) | (prob_df['Class0_sd'] == 0)]"
      ],
      "metadata": {
        "colab": {
          "base_uri": "https://localhost:8080/",
          "height": 81
        },
        "id": "K-YyLifn0zMv",
        "outputId": "a2be6e0c-1107-4687-b7d3-29a668a09b49"
      },
      "execution_count": 159,
      "outputs": [
        {
          "output_type": "execute_result",
          "data": {
            "text/plain": [
              "    Class1_mu  Class1_sd  Class0_mu  Class0_sd\n",
              "40        0.0        0.0   0.010239   0.061119"
            ],
            "text/html": [
              "\n",
              "  <div id=\"df-68ebc3b9-214a-4862-a561-9011e4b18198\">\n",
              "    <div class=\"colab-df-container\">\n",
              "      <div>\n",
              "<style scoped>\n",
              "    .dataframe tbody tr th:only-of-type {\n",
              "        vertical-align: middle;\n",
              "    }\n",
              "\n",
              "    .dataframe tbody tr th {\n",
              "        vertical-align: top;\n",
              "    }\n",
              "\n",
              "    .dataframe thead th {\n",
              "        text-align: right;\n",
              "    }\n",
              "</style>\n",
              "<table border=\"1\" class=\"dataframe\">\n",
              "  <thead>\n",
              "    <tr style=\"text-align: right;\">\n",
              "      <th></th>\n",
              "      <th>Class1_mu</th>\n",
              "      <th>Class1_sd</th>\n",
              "      <th>Class0_mu</th>\n",
              "      <th>Class0_sd</th>\n",
              "    </tr>\n",
              "  </thead>\n",
              "  <tbody>\n",
              "    <tr>\n",
              "      <th>40</th>\n",
              "      <td>0.0</td>\n",
              "      <td>0.0</td>\n",
              "      <td>0.010239</td>\n",
              "      <td>0.061119</td>\n",
              "    </tr>\n",
              "  </tbody>\n",
              "</table>\n",
              "</div>\n",
              "      <button class=\"colab-df-convert\" onclick=\"convertToInteractive('df-68ebc3b9-214a-4862-a561-9011e4b18198')\"\n",
              "              title=\"Convert this dataframe to an interactive table.\"\n",
              "              style=\"display:none;\">\n",
              "        \n",
              "  <svg xmlns=\"http://www.w3.org/2000/svg\" height=\"24px\"viewBox=\"0 0 24 24\"\n",
              "       width=\"24px\">\n",
              "    <path d=\"M0 0h24v24H0V0z\" fill=\"none\"/>\n",
              "    <path d=\"M18.56 5.44l.94 2.06.94-2.06 2.06-.94-2.06-.94-.94-2.06-.94 2.06-2.06.94zm-11 1L8.5 8.5l.94-2.06 2.06-.94-2.06-.94L8.5 2.5l-.94 2.06-2.06.94zm10 10l.94 2.06.94-2.06 2.06-.94-2.06-.94-.94-2.06-.94 2.06-2.06.94z\"/><path d=\"M17.41 7.96l-1.37-1.37c-.4-.4-.92-.59-1.43-.59-.52 0-1.04.2-1.43.59L10.3 9.45l-7.72 7.72c-.78.78-.78 2.05 0 2.83L4 21.41c.39.39.9.59 1.41.59.51 0 1.02-.2 1.41-.59l7.78-7.78 2.81-2.81c.8-.78.8-2.07 0-2.86zM5.41 20L4 18.59l7.72-7.72 1.47 1.35L5.41 20z\"/>\n",
              "  </svg>\n",
              "      </button>\n",
              "      \n",
              "  <style>\n",
              "    .colab-df-container {\n",
              "      display:flex;\n",
              "      flex-wrap:wrap;\n",
              "      gap: 12px;\n",
              "    }\n",
              "\n",
              "    .colab-df-convert {\n",
              "      background-color: #E8F0FE;\n",
              "      border: none;\n",
              "      border-radius: 50%;\n",
              "      cursor: pointer;\n",
              "      display: none;\n",
              "      fill: #1967D2;\n",
              "      height: 32px;\n",
              "      padding: 0 0 0 0;\n",
              "      width: 32px;\n",
              "    }\n",
              "\n",
              "    .colab-df-convert:hover {\n",
              "      background-color: #E2EBFA;\n",
              "      box-shadow: 0px 1px 2px rgba(60, 64, 67, 0.3), 0px 1px 3px 1px rgba(60, 64, 67, 0.15);\n",
              "      fill: #174EA6;\n",
              "    }\n",
              "\n",
              "    [theme=dark] .colab-df-convert {\n",
              "      background-color: #3B4455;\n",
              "      fill: #D2E3FC;\n",
              "    }\n",
              "\n",
              "    [theme=dark] .colab-df-convert:hover {\n",
              "      background-color: #434B5C;\n",
              "      box-shadow: 0px 1px 3px 1px rgba(0, 0, 0, 0.15);\n",
              "      filter: drop-shadow(0px 1px 2px rgba(0, 0, 0, 0.3));\n",
              "      fill: #FFFFFF;\n",
              "    }\n",
              "  </style>\n",
              "\n",
              "      <script>\n",
              "        const buttonEl =\n",
              "          document.querySelector('#df-68ebc3b9-214a-4862-a561-9011e4b18198 button.colab-df-convert');\n",
              "        buttonEl.style.display =\n",
              "          google.colab.kernel.accessAllowed ? 'block' : 'none';\n",
              "\n",
              "        async function convertToInteractive(key) {\n",
              "          const element = document.querySelector('#df-68ebc3b9-214a-4862-a561-9011e4b18198');\n",
              "          const dataTable =\n",
              "            await google.colab.kernel.invokeFunction('convertToInteractive',\n",
              "                                                     [key], {});\n",
              "          if (!dataTable) return;\n",
              "\n",
              "          const docLinkHtml = 'Like what you see? Visit the ' +\n",
              "            '<a target=\"_blank\" href=https://colab.research.google.com/notebooks/data_table.ipynb>data table notebook</a>'\n",
              "            + ' to learn more about interactive tables.';\n",
              "          element.innerHTML = '';\n",
              "          dataTable['output_type'] = 'display_data';\n",
              "          await google.colab.output.renderOutput(dataTable, element);\n",
              "          const docLink = document.createElement('div');\n",
              "          docLink.innerHTML = docLinkHtml;\n",
              "          element.appendChild(docLink);\n",
              "        }\n",
              "      </script>\n",
              "    </div>\n",
              "  </div>\n",
              "  "
            ]
          },
          "metadata": {},
          "execution_count": 159
        }
      ]
    },
    {
      "cell_type": "code",
      "source": [
        "prob_df.replace({'Class1_sd': 0, 'Class0_sd': 0}, 0.0000001, inplace=True)\n",
        "\n",
        "prob_df[(prob_df['Class1_sd'] == 0) | (prob_df['Class0_sd'] == 0)]"
      ],
      "metadata": {
        "colab": {
          "base_uri": "https://localhost:8080/",
          "height": 49
        },
        "id": "QkJ5rFWQBL1E",
        "outputId": "701fc986-a4ab-40be-fdde-ff8196c3e3b5"
      },
      "execution_count": 160,
      "outputs": [
        {
          "output_type": "execute_result",
          "data": {
            "text/plain": [
              "Empty DataFrame\n",
              "Columns: [Class1_mu, Class1_sd, Class0_mu, Class0_sd]\n",
              "Index: []"
            ],
            "text/html": [
              "\n",
              "  <div id=\"df-83b1affb-0070-40f5-80d4-e43253ba51fb\">\n",
              "    <div class=\"colab-df-container\">\n",
              "      <div>\n",
              "<style scoped>\n",
              "    .dataframe tbody tr th:only-of-type {\n",
              "        vertical-align: middle;\n",
              "    }\n",
              "\n",
              "    .dataframe tbody tr th {\n",
              "        vertical-align: top;\n",
              "    }\n",
              "\n",
              "    .dataframe thead th {\n",
              "        text-align: right;\n",
              "    }\n",
              "</style>\n",
              "<table border=\"1\" class=\"dataframe\">\n",
              "  <thead>\n",
              "    <tr style=\"text-align: right;\">\n",
              "      <th></th>\n",
              "      <th>Class1_mu</th>\n",
              "      <th>Class1_sd</th>\n",
              "      <th>Class0_mu</th>\n",
              "      <th>Class0_sd</th>\n",
              "    </tr>\n",
              "  </thead>\n",
              "  <tbody>\n",
              "  </tbody>\n",
              "</table>\n",
              "</div>\n",
              "      <button class=\"colab-df-convert\" onclick=\"convertToInteractive('df-83b1affb-0070-40f5-80d4-e43253ba51fb')\"\n",
              "              title=\"Convert this dataframe to an interactive table.\"\n",
              "              style=\"display:none;\">\n",
              "        \n",
              "  <svg xmlns=\"http://www.w3.org/2000/svg\" height=\"24px\"viewBox=\"0 0 24 24\"\n",
              "       width=\"24px\">\n",
              "    <path d=\"M0 0h24v24H0V0z\" fill=\"none\"/>\n",
              "    <path d=\"M18.56 5.44l.94 2.06.94-2.06 2.06-.94-2.06-.94-.94-2.06-.94 2.06-2.06.94zm-11 1L8.5 8.5l.94-2.06 2.06-.94-2.06-.94L8.5 2.5l-.94 2.06-2.06.94zm10 10l.94 2.06.94-2.06 2.06-.94-2.06-.94-.94-2.06-.94 2.06-2.06.94z\"/><path d=\"M17.41 7.96l-1.37-1.37c-.4-.4-.92-.59-1.43-.59-.52 0-1.04.2-1.43.59L10.3 9.45l-7.72 7.72c-.78.78-.78 2.05 0 2.83L4 21.41c.39.39.9.59 1.41.59.51 0 1.02-.2 1.41-.59l7.78-7.78 2.81-2.81c.8-.78.8-2.07 0-2.86zM5.41 20L4 18.59l7.72-7.72 1.47 1.35L5.41 20z\"/>\n",
              "  </svg>\n",
              "      </button>\n",
              "      \n",
              "  <style>\n",
              "    .colab-df-container {\n",
              "      display:flex;\n",
              "      flex-wrap:wrap;\n",
              "      gap: 12px;\n",
              "    }\n",
              "\n",
              "    .colab-df-convert {\n",
              "      background-color: #E8F0FE;\n",
              "      border: none;\n",
              "      border-radius: 50%;\n",
              "      cursor: pointer;\n",
              "      display: none;\n",
              "      fill: #1967D2;\n",
              "      height: 32px;\n",
              "      padding: 0 0 0 0;\n",
              "      width: 32px;\n",
              "    }\n",
              "\n",
              "    .colab-df-convert:hover {\n",
              "      background-color: #E2EBFA;\n",
              "      box-shadow: 0px 1px 2px rgba(60, 64, 67, 0.3), 0px 1px 3px 1px rgba(60, 64, 67, 0.15);\n",
              "      fill: #174EA6;\n",
              "    }\n",
              "\n",
              "    [theme=dark] .colab-df-convert {\n",
              "      background-color: #3B4455;\n",
              "      fill: #D2E3FC;\n",
              "    }\n",
              "\n",
              "    [theme=dark] .colab-df-convert:hover {\n",
              "      background-color: #434B5C;\n",
              "      box-shadow: 0px 1px 3px 1px rgba(0, 0, 0, 0.15);\n",
              "      filter: drop-shadow(0px 1px 2px rgba(0, 0, 0, 0.3));\n",
              "      fill: #FFFFFF;\n",
              "    }\n",
              "  </style>\n",
              "\n",
              "      <script>\n",
              "        const buttonEl =\n",
              "          document.querySelector('#df-83b1affb-0070-40f5-80d4-e43253ba51fb button.colab-df-convert');\n",
              "        buttonEl.style.display =\n",
              "          google.colab.kernel.accessAllowed ? 'block' : 'none';\n",
              "\n",
              "        async function convertToInteractive(key) {\n",
              "          const element = document.querySelector('#df-83b1affb-0070-40f5-80d4-e43253ba51fb');\n",
              "          const dataTable =\n",
              "            await google.colab.kernel.invokeFunction('convertToInteractive',\n",
              "                                                     [key], {});\n",
              "          if (!dataTable) return;\n",
              "\n",
              "          const docLinkHtml = 'Like what you see? Visit the ' +\n",
              "            '<a target=\"_blank\" href=https://colab.research.google.com/notebooks/data_table.ipynb>data table notebook</a>'\n",
              "            + ' to learn more about interactive tables.';\n",
              "          element.innerHTML = '';\n",
              "          dataTable['output_type'] = 'display_data';\n",
              "          await google.colab.output.renderOutput(dataTable, element);\n",
              "          const docLink = document.createElement('div');\n",
              "          docLink.innerHTML = docLinkHtml;\n",
              "          element.appendChild(docLink);\n",
              "        }\n",
              "      </script>\n",
              "    </div>\n",
              "  </div>\n",
              "  "
            ]
          },
          "metadata": {},
          "execution_count": 160
        }
      ]
    },
    {
      "cell_type": "markdown",
      "source": [
        "## Predict a new datapoint\n",
        "\n",
        "This function takes in a datapoint from the test dataset and will classify it as either spam or not.\n",
        "\n",
        "\n",
        "\\begin{equation*}\n",
        "class_{NB}(X) = argmax\n",
        "\\left(\n",
        "  log\n",
        "  \\left(\n",
        "    P(class) \\prod_{i} P(x_i|class)\n",
        "  \\right)\n",
        "\\right)\n",
        "\\end{equation*}\n",
        "\n",
        "We distribute the $log$ into the multiplication, changing the product to a sum as per logarithmic properties.\n",
        "\n",
        "\\begin{equation*}\n",
        "class_{NB}(X) = argmax\n",
        "\\left(\n",
        "  log\n",
        "  \\left(\n",
        "    P(class)\n",
        "  \\right)\n",
        "  + log \\left(\n",
        "    \\sum_{i} P(x_i|class)\n",
        "  \\right)\n",
        "\\right)\n",
        "\\end{equation*}\n",
        "\n",
        "$P(class)$\n",
        "\n",
        "* The prior probability of that given class.\n",
        "\n",
        "$P(x_i|class)=N(x_i;\\mu_{i,class},\\sigma_{i,class})$\n",
        "\n",
        "* The conditional probability of $x$ given the class.\n",
        "\n",
        "$N(x_i;\\mu_{i,class},\\sigma_{i,class})$\n",
        "\n",
        "* The normal distribution\n",
        "* $x_i$ represents each component of $x$\n",
        "* $\\mu_{i,class}$ is the mean of that index of $i$ in our training dataset, for the given class\n",
        "* $\\sigma_{i,class}$ is the standard deviation of that index $i$ in our training dataset, for the given class\n",
        "\n",
        "$\\prod_{i}$\n",
        "\n",
        "* Each normal valued index is multiplied together\n",
        "\n",
        "We get the $log$ of the resulting values to avoid underflow.\n",
        "\n",
        "\n",
        "Then, we even further distribute the $log$ into the normal distribution function $N(x_i;\\mu_{i,class},\\sigma_{i,class})$ changing that product into a summation in the normal function : \n",
        "\n",
        "\n",
        "\\begin{equation*}\n",
        "class_{NB}(X) = argmax\n",
        "\\left(\n",
        "  log\n",
        "  \\left(\n",
        "    P(class)\n",
        "  \\right)\n",
        "  +\n",
        "  \\sum_{i} log\n",
        "  \\left(\n",
        "    \\frac{1}{\\sqrt{2\\pi}\\sigma}\n",
        "  \\right)\n",
        "  -\\frac{(x-\\mu)^2}{2\\sigma^2}\n",
        "\\right)\n",
        "\\end{equation*}\n",
        "\n",
        "The log of 1 is 1, so the equation gets even further gets simplified to:\n",
        "\n",
        "\\begin{equation*}\n",
        "class_{NB}(X) = argmax\n",
        "\\left(\n",
        "  log\n",
        "  \\left(\n",
        "    P(class)\n",
        "  \\right)\n",
        "  -\n",
        "  \\sum_{i} log\n",
        "  \\left(\n",
        "    \\sqrt{2\\pi}\\sigma\n",
        "  \\right)\n",
        "  +\n",
        "  \\frac{(x-\\mu)^2}{2\\sigma^2}\n",
        "\\right)\n",
        "\\end{equation*}"
      ],
      "metadata": {
        "id": "TAIIA5PwRI_t"
      }
    },
    {
      "cell_type": "code",
      "source": [
        "def Norm(mu, sd, x):\n",
        "  E = (((x-mu)**2.0)) / (2.0*(sd**2.0))\n",
        "  N = np.log(np.sqrt(2.0*np.pi)*sd) + E\n",
        "  return N\n",
        "\n",
        "# Convert the dataframe above into a numpy array for quick indexing\n",
        "probs = np.array(prob_df)\n",
        "\n",
        "def BayesianClassifer(X):\n",
        "  # Get the log of each prior\n",
        "  pX_class1 = np.log(p1)\n",
        "  pX_class0 = np.log(p0)\n",
        "\n",
        "  # Allows us to take vectors as our arguments\n",
        "  norm = np.vectorize(Norm)\n",
        "  pX_class1 -= np.sum(norm(probs[:,0], probs[:,1], X))\n",
        "  pX_class0 -= np.sum(norm(probs[:,2], probs[:,3], X))\n",
        "\n",
        "  return 1 if pX_class1 > pX_class0 else 0\n",
        "\n",
        "# Testing with the first element in the Test dataset\n",
        "pred = BayesianClassifer(X_test.iloc[0])\n",
        "pred"
      ],
      "metadata": {
        "id": "mVp8_w8lPGtR",
        "colab": {
          "base_uri": "https://localhost:8080/"
        },
        "outputId": "27aea0b6-8f13-4683-c821-a961d17da9de"
      },
      "execution_count": 161,
      "outputs": [
        {
          "output_type": "execute_result",
          "data": {
            "text/plain": [
              "1"
            ]
          },
          "metadata": {},
          "execution_count": 161
        }
      ]
    },
    {
      "cell_type": "markdown",
      "source": [
        "# Testing the Bayesian Model"
      ],
      "metadata": {
        "id": "meH0auGKc90D"
      }
    },
    {
      "cell_type": "code",
      "source": [
        "from sklearn.metrics import accuracy_score, f1_score, recall_score, precision_score\n",
        "\n",
        "def PrintSuccessMetrics(title, Y_test, Y_pred):\n",
        "  main_title = title + \" Success Metrics\"\n",
        "  print(\"\")\n",
        "  print(main_title)\n",
        "  print(f\"_\"*len(main_title))\n",
        "  print(f'Test accuracy:\\t\\t', round(accuracy_score(Y_test, Y_pred), 4))\n",
        "  print(f'Test precision:\\t\\t', round(precision_score(Y_test, Y_pred, average='weighted'), 4))\n",
        "  print(f'Test recall:\\t\\t', round(recall_score(Y_test, Y_pred, average='weighted'), 4))\n",
        "  print(f'Test F1:\\t\\t', round(f1_score(Y_test, Y_pred, average='micro'), 4))\n",
        "  print(\"\")"
      ],
      "metadata": {
        "id": "gpY40ELeqkoK"
      },
      "execution_count": 162,
      "outputs": []
    },
    {
      "cell_type": "code",
      "source": [
        "import time\n",
        "\n",
        "start_time = time.time()\n",
        "\n",
        "correctCount = 0\n",
        "\n",
        "# Initializes the predicted values dataframe\n",
        "y_pred = np.zeros(y_test.shape)\n",
        "\n",
        "# Need to convert to a Numpy array for indexing and iterating\n",
        "X_test = np.array(X_test)\n",
        "y_test = np.array(y_test)\n",
        "\n",
        "for i, X in enumerate(X_test):\n",
        "  y_pred[i] = BayesianClassifer(X)\n",
        "\n",
        "PrintSuccessMetrics(\"Naive Bayes Classifier\", y_test, y_pred)\n",
        "\n",
        "print(\"--- %s seconds ---\" % (time.time() - start_time))"
      ],
      "metadata": {
        "colab": {
          "base_uri": "https://localhost:8080/"
        },
        "id": "HSzjNjN8VDw7",
        "outputId": "35fbb26a-d4a3-4492-bbe7-dc38b7a621b5"
      },
      "execution_count": 163,
      "outputs": [
        {
          "output_type": "stream",
          "name": "stdout",
          "text": [
            "\n",
            "Naive Bayes Classifier Success Metrics\n",
            "______________________________________\n",
            "Test accuracy:\t\t 0.8083\n",
            "Test precision:\t\t 0.8502\n",
            "Test recall:\t\t 0.8083\n",
            "Test F1:\t\t 0.8083\n",
            "\n",
            "--- 1.7944622039794922 seconds ---\n"
          ]
        }
      ]
    },
    {
      "cell_type": "code",
      "source": [
        "import seaborn as sns\n",
        "from sklearn.metrics import confusion_matrix\n",
        "\n",
        "sns.set(rc = {'figure.figsize':(6,6)})  #Edits size of chart\n",
        "cm = confusion_matrix(y_test, y_pred)\n",
        "sns.heatmap(cm, annot=True, linewidths=1, square=True)"
      ],
      "metadata": {
        "id": "IviytzjRje7w",
        "colab": {
          "base_uri": "https://localhost:8080/",
          "height": 375
        },
        "outputId": "edd27127-38be-4eac-d9f9-d7524ae41e51"
      },
      "execution_count": 164,
      "outputs": [
        {
          "output_type": "execute_result",
          "data": {
            "text/plain": [
              "<matplotlib.axes._subplots.AxesSubplot at 0x7f7b517e7410>"
            ]
          },
          "metadata": {},
          "execution_count": 164
        },
        {
          "output_type": "display_data",
          "data": {
            "text/plain": [
              "<Figure size 432x432 with 2 Axes>"
            ],
            "image/png": "[encoded data removed]"
          },
          "metadata": {}
        }
      ]
    },
    {
      "cell_type": "code",
      "source": [
        ""
      ],
      "metadata": {
        "id": "-VuCGWGrpSex"
      },
      "execution_count": 164,
      "outputs": []
    }
  ]
}