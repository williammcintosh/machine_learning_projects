{
  "cells": [
    {
      "cell_type": "markdown",
      "metadata": {
        "id": "view-in-github",
        "colab_type": "text"
      },
      "source": [
        "<a href=\"https://colab.research.google.com/github/williammcintosh/machine_learning_projects/blob/main/Singular_Value_Decomposition_SVD.ipynb\" target=\"_parent\"><img src=\"https://colab.research.google.com/assets/colab-badge.svg\" alt=\"Open In Colab\"/></a>"
      ]
    },
    {
      "cell_type": "markdown",
      "id": "c71c6597",
      "metadata": {
        "id": "c71c6597"
      },
      "source": [
        "## Singular Value Decomposition\n",
        "Iris SVD example: https://www.cs.cmu.edu/afs/cs.cmu.edu/academic/class/15750-s20/www/notebooks/SVD-irises-clustering.html\n",
        "\n",
        "\n",
        "$A$ is $m\\times n$\n",
        "\n",
        "$A^TA$ is $n\\times n$ (Covariance matrix if A is a dataset where the columns have mean 0 then $A^TA/(n-1)$)"
      ]
    },
    {
      "cell_type": "markdown",
      "id": "525f7149",
      "metadata": {
        "id": "525f7149"
      },
      "source": [
        "$ \\sigma_i = \\sqrt{\\lambda_i} = ||Aq_i||$\n",
        "\n",
        "$\\lambda_i$ is an eigenvalue of $A^TA$\n",
        "$q_i$ is the associated eigenvector"
      ]
    },
    {
      "cell_type": "markdown",
      "id": "9227e55b",
      "metadata": {
        "id": "9227e55b"
      },
      "source": [
        "$\\sigma_1 \\geq \\sigma_2 \\geq \\dots \\geq \\sigma_r \\geq 0$\n",
        "\n",
        "$r=rank(A)$"
      ]
    },
    {
      "cell_type": "markdown",
      "id": "0cdf38a6",
      "metadata": {
        "id": "0cdf38a6"
      },
      "source": [
        "A singular value decomposition of $A$\n",
        "\n",
        "$A = P \\Sigma_A Q^T$\n",
        "\n",
        "$P^TP=I$\n",
        "\n",
        "$Q^TQ=I$\n",
        "\n",
        "$\\Sigma_A = \\begin{pmatrix}\n",
        "\\sigma_1 & 0 & 0 \\\\\n",
        "0 & \\sigma_2 & 0\n",
        "\\end{pmatrix}$\n",
        "\n",
        "Columns of $P$ form an Orthonormal basis of $\\mathbb{R}^m$\n",
        "\n",
        "Columns of $Q$ form an Orthonormal basis of $\\mathbb{R}^n$\n",
        "\n",
        "\n",
        "Existence of this decomposition relies on:\n",
        "\n",
        "$A^TA$ has real non-negative eigenvalues\n",
        "\n",
        "$(A^TA)^T = ((A)^T (A^T)^T) = A^TA$ So $A^TA$ is symmetric and must have an orthonormal set of eigenvectors\n"
      ]
    },
    {
      "cell_type": "markdown",
      "id": "281ba290",
      "metadata": {
        "id": "281ba290"
      },
      "source": [
        "## Example\n",
        "\n",
        "$$A = \\begin{pmatrix}\n",
        "1 & 0 & 1\\\\\n",
        "-1 & 1 & 0\\\\\n",
        "\\end{pmatrix}$$\n",
        "\n",
        "Goal: $A = P \\Sigma_A Q^T$\n",
        "\n",
        "$$A^TA =\n",
        "\\begin{pmatrix}\n",
        "1& -1\\\\\n",
        "0& 1\\\\\n",
        "1& 0\\\\\n",
        "\\end{pmatrix}\n",
        "\\begin{pmatrix}\n",
        "1 & 0 & 1\\\\\n",
        "-1 & 1 & 0\\\\\n",
        "\\end{pmatrix} = \\begin{pmatrix}\n",
        "2 & -1 & 1\\\\\n",
        "-1 & 1 & 0\\\\\n",
        "1 & 0 & 1\\\\\n",
        "\\end{pmatrix}$$"
      ]
    },
    {
      "cell_type": "markdown",
      "id": "af79e137",
      "metadata": {
        "id": "af79e137"
      },
      "source": [
        "Eigenvalues of $A^TA$\n",
        "\n",
        "$$det(\\lambda I - A^TA) =0 = (\\lambda-3)(\\lambda-1)\\lambda$$\n",
        "\n",
        "$\\lambda_1 = 3$ \n",
        "\n",
        "$\\lambda_2 = 1$ \n",
        "\n",
        "$\\lambda_3 = 0$\n"
      ]
    },
    {
      "cell_type": "markdown",
      "id": "cc871ddc",
      "metadata": {
        "id": "cc871ddc"
      },
      "source": [
        "$q_1 = \\frac{1}{\\sqrt{6}} \\begin{pmatrix}\n",
        "2 \\\\\n",
        "-1\\\\\n",
        "1 \n",
        "\\end{pmatrix}$\n",
        "\n",
        "$q_2 = \\frac{1}{\\sqrt{2}} \\begin{pmatrix}\n",
        "0 \\\\\n",
        "1\\\\\n",
        "1 \n",
        "\\end{pmatrix}$\n",
        "\n",
        "$q_3 = \\frac{1}{\\sqrt{3}} \\begin{pmatrix}\n",
        "-1 \\\\\n",
        "-1\\\\\n",
        "1 \n",
        "\\end{pmatrix}$\n"
      ]
    },
    {
      "cell_type": "markdown",
      "id": "084775f9",
      "metadata": {
        "id": "084775f9"
      },
      "source": [
        "$Q=[q_1 q_2 q_3]$\n",
        "\n",
        "$\\Sigma_A = \\begin{pmatrix}\n",
        "\\sqrt{3} & 0 & 0\\\\\n",
        "0 & \\sqrt{1} & 0\n",
        "\\end{pmatrix}$\n",
        "\n",
        "$P = [\\frac{Aq_1}{||Aq_1||}  \\frac{Aq_2}{||Aq_2||}]$ \n",
        "\n",
        "$P$ is $2\\times 2$\n",
        "\n",
        "$\\Sigma_A$ is $2\\times 3$\n",
        "\n",
        "$Q$ is $3 \\times 3$"
      ]
    },
    {
      "cell_type": "code",
      "execution_count": 1,
      "id": "7b986ee9",
      "metadata": {
        "id": "7b986ee9"
      },
      "outputs": [],
      "source": [
        "import numpy as np\n",
        "\n",
        "A = np.array([[1, 0,1 ],[-1,1,0]])\n"
      ]
    },
    {
      "cell_type": "code",
      "execution_count": 2,
      "id": "aec88ef8",
      "metadata": {
        "colab": {
          "base_uri": "https://localhost:8080/"
        },
        "id": "aec88ef8",
        "outputId": "e937d22e-d61b-4bb4-c6d0-100b861686dd"
      },
      "outputs": [
        {
          "output_type": "execute_result",
          "data": {
            "text/plain": [
              "array([[ 1,  0,  1],\n",
              "       [-1,  1,  0]])"
            ]
          },
          "metadata": {},
          "execution_count": 2
        }
      ],
      "source": [
        "A"
      ]
    },
    {
      "cell_type": "markdown",
      "id": "e9d0956d",
      "metadata": {
        "id": "e9d0956d"
      },
      "source": [
        "eigensystem of $A^TA$"
      ]
    },
    {
      "cell_type": "code",
      "execution_count": 3,
      "id": "76b2e6be",
      "metadata": {
        "id": "76b2e6be"
      },
      "outputs": [],
      "source": [
        "evals, evects = np.linalg.eig(A.transpose()@A)"
      ]
    },
    {
      "cell_type": "code",
      "execution_count": 4,
      "id": "af7725bd",
      "metadata": {
        "colab": {
          "base_uri": "https://localhost:8080/"
        },
        "id": "af7725bd",
        "outputId": "5679b3ae-ea60-43fd-b9bb-bd939c00b17d"
      },
      "outputs": [
        {
          "output_type": "execute_result",
          "data": {
            "text/plain": [
              "array([ 3.00000000e+00, -2.91433544e-16,  1.00000000e+00])"
            ]
          },
          "metadata": {},
          "execution_count": 4
        }
      ],
      "source": [
        "evals"
      ]
    },
    {
      "cell_type": "code",
      "execution_count": 5,
      "id": "704f433e",
      "metadata": {
        "colab": {
          "base_uri": "https://localhost:8080/"
        },
        "id": "704f433e",
        "outputId": "c1aa9daf-bc5b-4d9c-940e-9789894262c7"
      },
      "outputs": [
        {
          "output_type": "execute_result",
          "data": {
            "text/plain": [
              "array([[-8.16496581e-01,  5.77350269e-01, -1.57009246e-16],\n",
              "       [ 4.08248290e-01,  5.77350269e-01,  7.07106781e-01],\n",
              "       [-4.08248290e-01, -5.77350269e-01,  7.07106781e-01]])"
            ]
          },
          "metadata": {},
          "execution_count": 5
        }
      ],
      "source": [
        "evects"
      ]
    },
    {
      "cell_type": "code",
      "execution_count": 6,
      "id": "f1a85efb",
      "metadata": {
        "colab": {
          "base_uri": "https://localhost:8080/"
        },
        "id": "f1a85efb",
        "outputId": "f889edac-8136-49d8-ec99-b4f73bafaeb8"
      },
      "outputs": [
        {
          "output_type": "execute_result",
          "data": {
            "text/plain": [
              "array([-0.81649658,  0.40824829, -0.40824829])"
            ]
          },
          "metadata": {},
          "execution_count": 6
        }
      ],
      "source": [
        "evects[:,0]"
      ]
    },
    {
      "cell_type": "code",
      "execution_count": 7,
      "id": "54dd43d9",
      "metadata": {
        "id": "54dd43d9"
      },
      "outputs": [],
      "source": [
        "Q = np.column_stack((evects[:,0],  evects[:,2], evects[:,1]))"
      ]
    },
    {
      "cell_type": "code",
      "execution_count": 8,
      "id": "37b81533",
      "metadata": {
        "colab": {
          "base_uri": "https://localhost:8080/"
        },
        "id": "37b81533",
        "outputId": "fa1ea9da-8ae5-4805-b5eb-aa307aae43ab"
      },
      "outputs": [
        {
          "output_type": "execute_result",
          "data": {
            "text/plain": [
              "array([[-8.16496581e-01, -1.57009246e-16,  5.77350269e-01],\n",
              "       [ 4.08248290e-01,  7.07106781e-01,  5.77350269e-01],\n",
              "       [-4.08248290e-01,  7.07106781e-01, -5.77350269e-01]])"
            ]
          },
          "metadata": {},
          "execution_count": 8
        }
      ],
      "source": [
        "Q"
      ]
    },
    {
      "cell_type": "code",
      "execution_count": 9,
      "id": "27da17de",
      "metadata": {
        "colab": {
          "base_uri": "https://localhost:8080/"
        },
        "id": "27da17de",
        "outputId": "c7096747-97f4-4cd7-e2c4-6d3ab8a6c9a4"
      },
      "outputs": [
        {
          "output_type": "execute_result",
          "data": {
            "text/plain": [
              "1.7320508075688772"
            ]
          },
          "metadata": {},
          "execution_count": 9
        }
      ],
      "source": [
        "np.linalg.norm(A@evects[:,0])"
      ]
    },
    {
      "cell_type": "code",
      "execution_count": 10,
      "id": "1d0ceb4c",
      "metadata": {
        "id": "1d0ceb4c"
      },
      "outputs": [],
      "source": [
        "p1 = A@evects[:,0]/np.linalg.norm(A@evects[:,0])\n",
        "p2 = A@evects[:,2]/np.linalg.norm(A@evects[:,2])"
      ]
    },
    {
      "cell_type": "code",
      "execution_count": 11,
      "id": "4051bb13",
      "metadata": {
        "colab": {
          "base_uri": "https://localhost:8080/"
        },
        "id": "4051bb13",
        "outputId": "081d10fb-d09a-4f62-ca2b-1c5e341fd7fd"
      },
      "outputs": [
        {
          "output_type": "stream",
          "name": "stdout",
          "text": [
            "1.0\n",
            "1.0\n"
          ]
        }
      ],
      "source": [
        "print(np.linalg.norm(p1))\n",
        "print(np.linalg.norm(p2))"
      ]
    },
    {
      "cell_type": "code",
      "execution_count": 12,
      "id": "59ac4fee",
      "metadata": {
        "id": "59ac4fee"
      },
      "outputs": [],
      "source": [
        "P = np.column_stack((p1, p2))"
      ]
    },
    {
      "cell_type": "code",
      "execution_count": 13,
      "id": "be4a7a3a",
      "metadata": {
        "colab": {
          "base_uri": "https://localhost:8080/"
        },
        "id": "be4a7a3a",
        "outputId": "963e9707-c875-4bea-ada6-f0befd0bbae1"
      },
      "outputs": [
        {
          "output_type": "execute_result",
          "data": {
            "text/plain": [
              "array([[ 1.00000000e+00, -1.31832700e-16, -1.83191866e-16],\n",
              "       [-1.31832700e-16,  1.00000000e+00, -3.59450705e-16],\n",
              "       [-1.83191866e-16, -3.59450705e-16,  1.00000000e+00]])"
            ]
          },
          "metadata": {},
          "execution_count": 13
        }
      ],
      "source": [
        "Q.transpose()@Q"
      ]
    },
    {
      "cell_type": "code",
      "execution_count": 14,
      "id": "5a1fe5f4",
      "metadata": {
        "colab": {
          "base_uri": "https://localhost:8080/"
        },
        "id": "5a1fe5f4",
        "outputId": "9902647d-c551-4bb7-e306-85c885a98b40"
      },
      "outputs": [
        {
          "output_type": "execute_result",
          "data": {
            "text/plain": [
              "array([[ 1.00000000e+00, -1.21168839e-16],\n",
              "       [-1.21168839e-16,  1.00000000e+00]])"
            ]
          },
          "metadata": {},
          "execution_count": 14
        }
      ],
      "source": [
        "P.transpose()@P"
      ]
    },
    {
      "cell_type": "code",
      "execution_count": 15,
      "id": "ca6ef3d0",
      "metadata": {
        "id": "ca6ef3d0"
      },
      "outputs": [],
      "source": [
        "SigmaA = np.array([[np.sqrt(evals[0]),0,0],[0,np.sqrt(evals[2]),0]])"
      ]
    },
    {
      "cell_type": "code",
      "execution_count": 16,
      "id": "43832064",
      "metadata": {
        "colab": {
          "base_uri": "https://localhost:8080/"
        },
        "id": "43832064",
        "outputId": "778450f8-ffee-4a8b-dee2-a26ca12811ac"
      },
      "outputs": [
        {
          "output_type": "execute_result",
          "data": {
            "text/plain": [
              "array([[1.73205081, 0.        , 0.        ],\n",
              "       [0.        , 1.        , 0.        ]])"
            ]
          },
          "metadata": {},
          "execution_count": 16
        }
      ],
      "source": [
        "SigmaA"
      ]
    },
    {
      "cell_type": "code",
      "execution_count": 17,
      "id": "861343e2",
      "metadata": {
        "colab": {
          "base_uri": "https://localhost:8080/"
        },
        "id": "861343e2",
        "outputId": "f2f8ad2f-d6e9-479e-eeef-97b49dcc7bd6"
      },
      "outputs": [
        {
          "output_type": "execute_result",
          "data": {
            "text/plain": [
              "array([[ 1.00000000e+00,  5.48888227e-17,  1.00000000e+00],\n",
              "       [-1.00000000e+00,  1.00000000e+00, -1.01465364e-17]])"
            ]
          },
          "metadata": {},
          "execution_count": 17
        }
      ],
      "source": [
        "P@SigmaA@Q.T"
      ]
    },
    {
      "cell_type": "code",
      "execution_count": 18,
      "id": "2f4444ab",
      "metadata": {
        "colab": {
          "base_uri": "https://localhost:8080/"
        },
        "id": "2f4444ab",
        "outputId": "aff512c4-afb9-4d74-d4e6-23a0efa40ffb"
      },
      "outputs": [
        {
          "output_type": "execute_result",
          "data": {
            "text/plain": [
              "array([[ 1,  0,  1],\n",
              "       [-1,  1,  0]])"
            ]
          },
          "metadata": {},
          "execution_count": 18
        }
      ],
      "source": [
        "A"
      ]
    },
    {
      "cell_type": "code",
      "execution_count": 19,
      "id": "fb405f51",
      "metadata": {
        "colab": {
          "base_uri": "https://localhost:8080/"
        },
        "id": "fb405f51",
        "outputId": "c2207678-b4a7-4264-991c-09ded746043c"
      },
      "outputs": [
        {
          "output_type": "execute_result",
          "data": {
            "text/plain": [
              "(array([[-0.70710678,  0.70710678],\n",
              "        [ 0.70710678,  0.70710678]]),\n",
              " array([1.73205081, 1.        ]),\n",
              " array([[-8.16496581e-01,  4.08248290e-01, -4.08248290e-01],\n",
              "        [-1.19879883e-16,  7.07106781e-01,  7.07106781e-01],\n",
              "        [-5.77350269e-01, -5.77350269e-01,  5.77350269e-01]]))"
            ]
          },
          "metadata": {},
          "execution_count": 19
        }
      ],
      "source": [
        "np.linalg.svd(A)"
      ]
    },
    {
      "cell_type": "code",
      "execution_count": 20,
      "id": "497fa4ef",
      "metadata": {
        "colab": {
          "base_uri": "https://localhost:8080/"
        },
        "id": "497fa4ef",
        "outputId": "318f0f72-8292-4824-cf10-f7b9b99e84da"
      },
      "outputs": [
        {
          "output_type": "execute_result",
          "data": {
            "text/plain": [
              "array([[-0.70710678,  0.70710678],\n",
              "       [ 0.70710678,  0.70710678]])"
            ]
          },
          "metadata": {},
          "execution_count": 20
        }
      ],
      "source": [
        "P"
      ]
    },
    {
      "cell_type": "code",
      "execution_count": 20,
      "id": "c0649d2f",
      "metadata": {
        "id": "c0649d2f"
      },
      "outputs": [],
      "source": [
        ""
      ]
    }
  ],
  "metadata": {
    "kernelspec": {
      "display_name": "Python 3 (ipykernel)",
      "language": "python",
      "name": "python3"
    },
    "language_info": {
      "codemirror_mode": {
        "name": "ipython",
        "version": 3
      },
      "file_extension": ".py",
      "mimetype": "text/x-python",
      "name": "python",
      "nbconvert_exporter": "python",
      "pygments_lexer": "ipython3",
      "version": "3.9.12"
    },
    "colab": {
      "name": "Singular_Value_Decomposition_SVD.ipynb",
      "provenance": [],
      "include_colab_link": true
    }
  },
  "nbformat": 4,
  "nbformat_minor": 5
}